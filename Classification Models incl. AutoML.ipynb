{
  "nbformat": 4,
  "nbformat_minor": 0,
  "metadata": {
    "colab": {
      "name": "MMA_869_Earthquake Damage.ipynb",
      "provenance": []
    },
    "kernelspec": {
      "display_name": "Python 3",
      "name": "python3"
    },
    "language_info": {
      "name": "python"
    }
  },
  "cells": [
    {
      "cell_type": "markdown",
      "metadata": {
        "id": "v8zRnHfXDfbQ"
      },
      "source": [
        "#Importing & Installing packages"
      ]
    },
    {
      "cell_type": "code",
      "metadata": {
        "id": "6JW1dLosUPo7"
      },
      "source": [
        "import numpy as np # recall that \"np\" etc. -- are abbreviated names we gave to these packages for notational convenience\n",
        "import pandas as pd\n",
        "\n",
        "import matplotlib.pyplot as plt\n",
        "\n",
        "from sklearn.impute import SimpleImputer\n",
        "from sklearn.model_selection import train_test_split\n",
        "from sklearn.model_selection import GridSearchCV\n",
        "from sklearn.metrics import roc_curve, auc, roc_auc_score, classification_report, confusion_matrix, make_scorer\n",
        "from sklearn.linear_model import LogisticRegression\n",
        "from sklearn.tree import DecisionTreeClassifier\n",
        "from sklearn.ensemble import RandomForestClassifier, GradientBoostingClassifier\n",
        "\n",
        "import warnings\n",
        "warnings.filterwarnings(\"ignore\")\n",
        "\n",
        "import seaborn as sns\n",
        "\n"
      ],
      "execution_count": 1,
      "outputs": []
    },
    {
      "cell_type": "code",
      "metadata": {
        "colab": {
          "base_uri": "https://localhost:8080/"
        },
        "id": "CBrJ71DlSPG_",
        "outputId": "857fafe2-9471-43d1-c113-e685ac66de75"
      },
      "source": [
        "!pip install scikit-learn"
      ],
      "execution_count": 5,
      "outputs": [
        {
          "output_type": "stream",
          "text": [
            "Requirement already satisfied: scikit-learn in /usr/local/lib/python3.7/dist-packages (0.24.2)\n",
            "Requirement already satisfied: joblib>=0.11 in /usr/local/lib/python3.7/dist-packages (from scikit-learn) (1.0.1)\n",
            "Requirement already satisfied: scipy>=0.19.1 in /usr/local/lib/python3.7/dist-packages (from scikit-learn) (1.4.1)\n",
            "Requirement already satisfied: threadpoolctl>=2.0.0 in /usr/local/lib/python3.7/dist-packages (from scikit-learn) (2.2.0)\n",
            "Requirement already satisfied: numpy>=1.13.3 in /usr/local/lib/python3.7/dist-packages (from scikit-learn) (1.19.5)\n"
          ],
          "name": "stdout"
        }
      ]
    },
    {
      "cell_type": "code",
      "metadata": {
        "id": "R7qoDr-Ncv7L",
        "colab": {
          "base_uri": "https://localhost:8080/",
          "height": 1000
        },
        "outputId": "627f2eb7-edcd-43c7-8e2d-4f3a3cf87a57"
      },
      "source": [
        "!pip install category_encoders\n",
        "!pip install flaml\n",
        "\n",
        "from IPython.core.interactiveshell import InteractiveShell\n",
        "InteractiveShell.ast_node_interactivity= \"all\""
      ],
      "execution_count": 3,
      "outputs": [
        {
          "output_type": "stream",
          "text": [
            "Collecting category_encoders\n",
            "  Downloading category_encoders-2.2.2-py2.py3-none-any.whl (80 kB)\n",
            "\u001b[?25l\r\u001b[K     |████                            | 10 kB 23.8 MB/s eta 0:00:01\r\u001b[K     |████████▏                       | 20 kB 29.6 MB/s eta 0:00:01\r\u001b[K     |████████████▏                   | 30 kB 14.2 MB/s eta 0:00:01\r\u001b[K     |████████████████▎               | 40 kB 10.5 MB/s eta 0:00:01\r\u001b[K     |████████████████████▎           | 51 kB 4.4 MB/s eta 0:00:01\r\u001b[K     |████████████████████████▍       | 61 kB 4.6 MB/s eta 0:00:01\r\u001b[K     |████████████████████████████▍   | 71 kB 4.5 MB/s eta 0:00:01\r\u001b[K     |████████████████████████████████| 80 kB 3.2 MB/s \n",
            "\u001b[?25hRequirement already satisfied: statsmodels>=0.9.0 in /usr/local/lib/python3.7/dist-packages (from category_encoders) (0.10.2)\n",
            "Requirement already satisfied: scikit-learn>=0.20.0 in /usr/local/lib/python3.7/dist-packages (from category_encoders) (0.22.2.post1)\n",
            "Requirement already satisfied: numpy>=1.14.0 in /usr/local/lib/python3.7/dist-packages (from category_encoders) (1.19.5)\n",
            "Requirement already satisfied: scipy>=1.0.0 in /usr/local/lib/python3.7/dist-packages (from category_encoders) (1.4.1)\n",
            "Requirement already satisfied: patsy>=0.5.1 in /usr/local/lib/python3.7/dist-packages (from category_encoders) (0.5.1)\n",
            "Requirement already satisfied: pandas>=0.21.1 in /usr/local/lib/python3.7/dist-packages (from category_encoders) (1.1.5)\n",
            "Requirement already satisfied: pytz>=2017.2 in /usr/local/lib/python3.7/dist-packages (from pandas>=0.21.1->category_encoders) (2018.9)\n",
            "Requirement already satisfied: python-dateutil>=2.7.3 in /usr/local/lib/python3.7/dist-packages (from pandas>=0.21.1->category_encoders) (2.8.1)\n",
            "Requirement already satisfied: six in /usr/local/lib/python3.7/dist-packages (from patsy>=0.5.1->category_encoders) (1.15.0)\n",
            "Requirement already satisfied: joblib>=0.11 in /usr/local/lib/python3.7/dist-packages (from scikit-learn>=0.20.0->category_encoders) (1.0.1)\n",
            "Installing collected packages: category-encoders\n",
            "Successfully installed category-encoders-2.2.2\n",
            "Collecting flaml\n",
            "  Downloading FLAML-0.5.10-py3-none-any.whl (206 kB)\n",
            "\u001b[K     |████████████████████████████████| 206 kB 3.9 MB/s \n",
            "\u001b[?25hRequirement already satisfied: scipy>=1.4.1 in /usr/local/lib/python3.7/dist-packages (from flaml) (1.4.1)\n",
            "Collecting catboost>=0.23\n",
            "  Downloading catboost-0.26-cp37-none-manylinux1_x86_64.whl (69.2 MB)\n",
            "\u001b[K     |████████████████████████████████| 69.2 MB 4.7 kB/s \n",
            "\u001b[?25hCollecting lightgbm>=2.3.1\n",
            "  Downloading lightgbm-3.2.1-py3-none-manylinux1_x86_64.whl (2.0 MB)\n",
            "\u001b[K     |████████████████████████████████| 2.0 MB 27.2 MB/s \n",
            "\u001b[?25hCollecting scikit-learn>=0.23.2\n",
            "  Downloading scikit_learn-0.24.2-cp37-cp37m-manylinux2010_x86_64.whl (22.3 MB)\n",
            "\u001b[K     |████████████████████████████████| 22.3 MB 33 kB/s \n",
            "\u001b[?25hRequirement already satisfied: xgboost>=0.90 in /usr/local/lib/python3.7/dist-packages (from flaml) (0.90)\n",
            "Requirement already satisfied: NumPy>=1.16.2 in /usr/local/lib/python3.7/dist-packages (from flaml) (1.19.5)\n",
            "Requirement already satisfied: pandas>=0.24.0 in /usr/local/lib/python3.7/dist-packages (from catboost>=0.23->flaml) (1.1.5)\n",
            "Requirement already satisfied: six in /usr/local/lib/python3.7/dist-packages (from catboost>=0.23->flaml) (1.15.0)\n",
            "Requirement already satisfied: plotly in /usr/local/lib/python3.7/dist-packages (from catboost>=0.23->flaml) (4.4.1)\n",
            "Requirement already satisfied: graphviz in /usr/local/lib/python3.7/dist-packages (from catboost>=0.23->flaml) (0.10.1)\n",
            "Requirement already satisfied: matplotlib in /usr/local/lib/python3.7/dist-packages (from catboost>=0.23->flaml) (3.2.2)\n",
            "Requirement already satisfied: wheel in /usr/local/lib/python3.7/dist-packages (from lightgbm>=2.3.1->flaml) (0.36.2)\n",
            "Requirement already satisfied: pytz>=2017.2 in /usr/local/lib/python3.7/dist-packages (from pandas>=0.24.0->catboost>=0.23->flaml) (2018.9)\n",
            "Requirement already satisfied: python-dateutil>=2.7.3 in /usr/local/lib/python3.7/dist-packages (from pandas>=0.24.0->catboost>=0.23->flaml) (2.8.1)\n",
            "Requirement already satisfied: joblib>=0.11 in /usr/local/lib/python3.7/dist-packages (from scikit-learn>=0.23.2->flaml) (1.0.1)\n",
            "Collecting threadpoolctl>=2.0.0\n",
            "  Downloading threadpoolctl-2.2.0-py3-none-any.whl (12 kB)\n",
            "Requirement already satisfied: kiwisolver>=1.0.1 in /usr/local/lib/python3.7/dist-packages (from matplotlib->catboost>=0.23->flaml) (1.3.1)\n",
            "Requirement already satisfied: pyparsing!=2.0.4,!=2.1.2,!=2.1.6,>=2.0.1 in /usr/local/lib/python3.7/dist-packages (from matplotlib->catboost>=0.23->flaml) (2.4.7)\n",
            "Requirement already satisfied: cycler>=0.10 in /usr/local/lib/python3.7/dist-packages (from matplotlib->catboost>=0.23->flaml) (0.10.0)\n",
            "Requirement already satisfied: retrying>=1.3.3 in /usr/local/lib/python3.7/dist-packages (from plotly->catboost>=0.23->flaml) (1.3.3)\n",
            "Installing collected packages: threadpoolctl, scikit-learn, lightgbm, catboost, flaml\n",
            "  Attempting uninstall: scikit-learn\n",
            "    Found existing installation: scikit-learn 0.22.2.post1\n",
            "    Uninstalling scikit-learn-0.22.2.post1:\n",
            "      Successfully uninstalled scikit-learn-0.22.2.post1\n",
            "  Attempting uninstall: lightgbm\n",
            "    Found existing installation: lightgbm 2.2.3\n",
            "    Uninstalling lightgbm-2.2.3:\n",
            "      Successfully uninstalled lightgbm-2.2.3\n",
            "Successfully installed catboost-0.26 flaml-0.5.10 lightgbm-3.2.1 scikit-learn-0.24.2 threadpoolctl-2.2.0\n"
          ],
          "name": "stdout"
        },
        {
          "output_type": "display_data",
          "data": {
            "application/vnd.colab-display-data+json": {
              "pip_warning": {
                "packages": [
                  "sklearn"
                ]
              }
            }
          },
          "metadata": {
            "tags": []
          }
        }
      ]
    },
    {
      "cell_type": "code",
      "metadata": {
        "id": "WCgqEzpcGtcU"
      },
      "source": [
        "from sklearn import preprocessing\n",
        "from sklearn.model_selection import train_test_split\n",
        "from sklearn.pipeline import Pipeline\n",
        "from sklearn.ensemble import RandomForestClassifier\n",
        "from sklearn.impute import SimpleImputer\n",
        "from sklearn.preprocessing import StandardScaler\n",
        "from sklearn.compose import ColumnTransformer\n",
        "from sklearn.metrics import f1_score\n",
        "import category_encoders as ce"
      ],
      "execution_count": 4,
      "outputs": []
    },
    {
      "cell_type": "code",
      "metadata": {
        "id": "op3Hg_JixjBT"
      },
      "source": [
        "import matplotlib.pyplot as plt\n",
        "from mpl_toolkits.mplot3d import Axes3D\n",
        "import seaborn as sns \n",
        "\n",
        "import itertools\n",
        "\n",
        "import scipy"
      ],
      "execution_count": 5,
      "outputs": []
    },
    {
      "cell_type": "code",
      "metadata": {
        "id": "H8RqIcVh5Tdp"
      },
      "source": [
        "# First we define a set of functions to compute the metrics of the model\n",
        "\n",
        "# ROC curve\n",
        "def plot_roc(y_test, y_pred):\n",
        "    fpr, tpr, thresholds = roc_curve(y_test, y_pred, pos_label=1, drop_intermediate = False)\n",
        "    roc_auc = auc(fpr, tpr)\n",
        "    plt.figure()\n",
        "    lw = 3\n",
        "    plt.plot(fpr, tpr, color='darkorange',\n",
        "             lw=lw, label='ROC curve (AUC = %0.2f)' % roc_auc)\n",
        "    plt.plot([1, 2,3], [1,2,3], color='navy', lw=lw, linestyle='--')\n",
        "    plt.xlim([-0.001, 1.001])\n",
        "    plt.ylim([-0.001, 1.001])\n",
        "    plt.xlabel('1-Specificity (False Negative Rate)')\n",
        "    plt.ylabel('Sensitivity (True Positive Rate)')\n",
        "    plt.title('ROC curve')\n",
        "    plt.legend(loc=\"lower right\")\n",
        "    plt.show()\n",
        "\n",
        "# Confusion Matrix returns in the format: cm[0,0], cm[0,1], cm[1,0], cm[1,1]: tn, fp, fn, tp\n",
        "\n",
        "# Sensitivity\n",
        "def custom_sensitivity_score(y_test, y_pred):\n",
        "    cm = confusion_matrix(y_test, y_pred)\n",
        "    tn, fp, fn, tp = cm[0][0], cm[0][1], cm[1][0], cm[1][1]\n",
        "    return (tp/(tp+fn))\n",
        "\n",
        "# Specificity\n",
        "def custom_specificity_score(y_test, y_pred):\n",
        "    cm = confusion_matrix(y_test, y_pred)\n",
        "    tn, fp, fn, tp = cm[0][0], cm[0][1], cm[1][0], cm[1][1]\n",
        "    return (tn/(tn+fp))\n",
        "\n",
        "# Positive Predictive Value\n",
        "def custom_ppv_score(y_test, y_pred):\n",
        "    cm = confusion_matrix(y_test, y_pred)\n",
        "    tn, fp, fn, tp = cm[0][0], cm[0][1], cm[1][0], cm[1][1]\n",
        "    return (tp/(tp+fp))\n",
        "\n",
        "# Negative Predictive Value\n",
        "def custom_npv_score(y_test, y_pred):\n",
        "    cm = confusion_matrix(y_test, y_pred)\n",
        "    tn, fp, fn, tp = cm[0][0], cm[0][1], cm[1][0], cm[1][1]\n",
        "    return (tn/(tn+fn))\n",
        "\n",
        "# Accuracy\n",
        "def custom_accuracy_score(y_test, y_pred):\n",
        "    cm = confusion_matrix(y_test, y_pred)\n",
        "    tn, fp, fn, tp = cm[0][0], cm[0][1], cm[1][0], cm[1][1]\n",
        "    return ((tn+tp)/(tn+tp+fn+fp))"
      ],
      "execution_count": 6,
      "outputs": []
    },
    {
      "cell_type": "markdown",
      "metadata": {
        "id": "R8vMnm0aDpR2"
      },
      "source": [
        "#Importing File"
      ]
    },
    {
      "cell_type": "code",
      "metadata": {
        "id": "pdvDbtMZdjEq"
      },
      "source": [
        "from pydrive.auth import GoogleAuth\n",
        "from pydrive.drive import GoogleDrive\n",
        "from google.colab import auth\n",
        "from oauth2client.client import GoogleCredentials\n",
        "\n",
        "auth.authenticate_user()\n",
        "gauth = GoogleAuth()\n",
        "gauth.credentials = GoogleCredentials.get_application_default()\n",
        "drive = GoogleDrive(gauth)\n",
        "\n",
        "downloaded = drive.CreateFile({'id':\"1yvNxI9wBle05flT_Y1AYDzuZ0aouytLY\"})\n",
        "downloaded.GetContentFile('training.csv')\n",
        "\n",
        "import pandas as pd\n",
        "df = pd.read_csv('training.csv', header=0) \n",
        "df.head()\n",
        "df.info()"
      ],
      "execution_count": null,
      "outputs": []
    },
    {
      "cell_type": "markdown",
      "metadata": {
        "id": "dufHHc37xXqo"
      },
      "source": [
        "#Feature Engineering\n",
        "\n"
      ]
    },
    {
      "cell_type": "code",
      "metadata": {
        "id": "CZuXp2h9xdTE"
      },
      "source": [
        "#Removing outliers, min-max for age, height..\n",
        "#Standardization of integers\n",
        "#Creating array for categorical features (hot-encoding)\n",
        "#IMP.Label encoding to a few categorical features should be done too, xgboost will love it...\n",
        "\n",
        "#Target encoding...\n",
        "\n",
        "#Can combine some features too.. * + - / #autofeat library\n",
        "\n",
        "#encoder= ce.MEstimateEncoder(cols=[])\n",
        "#encoder= ce.TargetEncoder\n",
        "\n",
        "#For Target encoding\n",
        "#import category_encoders as ce "
      ],
      "execution_count": null,
      "outputs": []
    },
    {
      "cell_type": "code",
      "metadata": {
        "colab": {
          "base_uri": "https://localhost:8080/"
        },
        "id": "yRKVHu2e19SX",
        "outputId": "101ead2a-3337-416b-854e-fc9c74f8be25"
      },
      "source": [
        "import sklearn\n",
        "print('The scikit-learn version is {}.'.format(sklearn.__version__))"
      ],
      "execution_count": 5,
      "outputs": [
        {
          "output_type": "stream",
          "text": [
            "The scikit-learn version is 0.23.2.\n"
          ],
          "name": "stdout"
        }
      ]
    },
    {
      "cell_type": "markdown",
      "metadata": {
        "id": "XHzn7jNN1OVc"
      },
      "source": [
        "Data Cleaning - Turning strings into categories"
      ]
    },
    {
      "cell_type": "code",
      "metadata": {
        "id": "qbZ-utomxer6"
      },
      "source": [
        "df['land_surface_condition'] = df['land_surface_condition'].astype('category')\n",
        "df['foundation_type'] = df['foundation_type'].astype('category')\n",
        "df['roof_type'] = df['roof_type'].astype('category')\n",
        "df['ground_floor_type'] = df['ground_floor_type'].astype('category')\n",
        "df['position'] = df['position'].astype('category')\n",
        "df['plan_configuration'] = df['plan_configuration'].astype('category')\n",
        "df['other_floor_type'] = df['other_floor_type'].astype('category')\n",
        "df['legal_ownership_status'] = df['legal_ownership_status'].astype('category')\n",
        "\n",
        "df['damage_grade'] = df['damage_grade'].astype('category')\n",
        "\n",
        "df['has_superstructure_adobe_mud'] = df['has_superstructure_adobe_mud'].astype('category')\n",
        "df['has_superstructure_mud_mortar_stone'] = df['has_superstructure_mud_mortar_stone'].astype('category')\n",
        "df['has_superstructure_stone_flag'] = df['has_superstructure_stone_flag'].astype('category')\n",
        "df['has_superstructure_mud_mortar_brick'] = df['has_superstructure_mud_mortar_brick'].astype('category')\n",
        "df['has_superstructure_cement_mortar_brick'] = df['has_superstructure_cement_mortar_brick'].astype('category')\n",
        "df['has_superstructure_cement_mortar_stone'] = df['has_superstructure_cement_mortar_stone'].astype('category')\n",
        "df['has_superstructure_timber'] = df['has_superstructure_timber'].astype('category')\n",
        "df['has_superstructure_bamboo'] = df['has_superstructure_bamboo'].astype('category')\n",
        "df['has_superstructure_rc_non_engineered'] = df['has_superstructure_rc_non_engineered'].astype('category')\n",
        "df['has_superstructure_rc_engineered'] = df['has_superstructure_rc_engineered'].astype('category')\n",
        "df['has_superstructure_other'] = df['has_superstructure_other'].astype('category')\n",
        "df['has_secondary_use'] = df['has_secondary_use'].astype('category')\n",
        "df['has_secondary_use_agriculture'] = df['has_secondary_use_agriculture'].astype('category')\n",
        "df['has_secondary_use_hotel'] = df['has_secondary_use_hotel'].astype('category')\n",
        "df['has_secondary_use_rental'] = df['has_secondary_use_rental'].astype('category')\n",
        "df['has_secondary_use_institution'] = df['has_secondary_use_institution'].astype('category')\n",
        "df['has_secondary_use_school'] = df['has_secondary_use_school'].astype('category')\n",
        "df['has_secondary_use_industry'] = df['has_secondary_use_industry'].astype('category')\n",
        "df['has_secondary_use_health_post'] = df['has_secondary_use_health_post'].astype('category')\n",
        "df['has_secondary_use_gov_office'] = df['has_secondary_use_gov_office'].astype('category')\n",
        "df['has_secondary_use_use_police'] = df['has_secondary_use_use_police'].astype('category')\n",
        "df['has_secondary_use_other'] = df['has_secondary_use_other'].astype('category')\n",
        "\n",
        "df['geo_level_1_id'] = df['geo_level_1_id'].astype('category')\n",
        "df['geo_level_2_id'] = df['geo_level_2_id'].astype('category')\n",
        "df['geo_level_3_id'] = df['geo_level_3_id'].astype('category')\n"
      ],
      "execution_count": 6,
      "outputs": []
    },
    {
      "cell_type": "code",
      "metadata": {
        "colab": {
          "base_uri": "https://localhost:8080/"
        },
        "id": "W4CytGB4GHox",
        "outputId": "06a3ee6f-82e8-4310-b217-d96a58ec6a28"
      },
      "source": [
        "#Package for visualizations\n",
        "!pip install -U yellowbrick"
      ],
      "execution_count": 7,
      "outputs": [
        {
          "output_type": "stream",
          "text": [
            "Requirement already satisfied: yellowbrick in /usr/local/lib/python3.7/dist-packages (1.3.post1)\n",
            "Requirement already satisfied: cycler>=0.10.0 in /usr/local/lib/python3.7/dist-packages (from yellowbrick) (0.10.0)\n",
            "Requirement already satisfied: scikit-learn>=0.20 in /usr/local/lib/python3.7/dist-packages (from yellowbrick) (0.23.2)\n",
            "Requirement already satisfied: matplotlib!=3.0.0,>=2.0.2 in /usr/local/lib/python3.7/dist-packages (from yellowbrick) (3.2.2)\n",
            "Requirement already satisfied: numpy<1.20,>=1.16.0 in /usr/local/lib/python3.7/dist-packages (from yellowbrick) (1.19.5)\n",
            "Requirement already satisfied: scipy>=1.0.0 in /usr/local/lib/python3.7/dist-packages (from yellowbrick) (1.5.4)\n",
            "Requirement already satisfied: six in /usr/local/lib/python3.7/dist-packages (from cycler>=0.10.0->yellowbrick) (1.15.0)\n",
            "Requirement already satisfied: python-dateutil>=2.1 in /usr/local/lib/python3.7/dist-packages (from matplotlib!=3.0.0,>=2.0.2->yellowbrick) (2.8.1)\n",
            "Requirement already satisfied: kiwisolver>=1.0.1 in /usr/local/lib/python3.7/dist-packages (from matplotlib!=3.0.0,>=2.0.2->yellowbrick) (1.3.1)\n",
            "Requirement already satisfied: pyparsing!=2.0.4,!=2.1.2,!=2.1.6,>=2.0.1 in /usr/local/lib/python3.7/dist-packages (from matplotlib!=3.0.0,>=2.0.2->yellowbrick) (2.4.7)\n",
            "Requirement already satisfied: threadpoolctl>=2.0.0 in /usr/local/lib/python3.7/dist-packages (from scikit-learn>=0.20->yellowbrick) (2.2.0)\n",
            "Requirement already satisfied: joblib>=0.11 in /usr/local/lib/python3.7/dist-packages (from scikit-learn>=0.20->yellowbrick) (1.0.1)\n"
          ],
          "name": "stdout"
        }
      ]
    },
    {
      "cell_type": "markdown",
      "metadata": {
        "id": "8Qk6Sd6JxO95"
      },
      "source": [
        "Testing & Training Split"
      ]
    },
    {
      "cell_type": "code",
      "metadata": {
        "id": "eCIqqeLN5PF-"
      },
      "source": [
        "X = df.drop(columns = 'damage_grade')\n",
        "y = df['damage_grade']\n",
        "\n",
        "from sklearn.model_selection import train_test_split\n",
        "\n",
        "X_train, X_test, y_train, y_test = train_test_split(X, y, test_size=0.25, random_state=42)"
      ],
      "execution_count": 61,
      "outputs": []
    },
    {
      "cell_type": "markdown",
      "metadata": {
        "id": "p6Yfk87yGpKu"
      },
      "source": [
        "SHOWING THE IMBALANCE OF THE DATASET"
      ]
    },
    {
      "cell_type": "code",
      "metadata": {
        "id": "2OrwsPbTt3eh"
      },
      "source": [
        "! pip install pycaret"
      ],
      "execution_count": null,
      "outputs": []
    },
    {
      "cell_type": "code",
      "metadata": {
        "colab": {
          "base_uri": "https://localhost:8080/",
          "height": 379
        },
        "id": "u1HLJE5tGd2A",
        "outputId": "274510b8-83cc-4ce1-b7ae-e6dcc2424ad5"
      },
      "source": [
        "#THERE IS IMBALANCE IN DATA AS SEEN BELOW\n",
        "\n",
        "from yellowbrick.datasets import load_game\n",
        "from yellowbrick.target import ClassBalance\n",
        "\n",
        "# Load the classification dataset\n",
        "X, y = df, df['damage_grade']\n",
        "\n",
        "# Instantiate the visualizer\n",
        "visualizer = ClassBalance(labels=[\"1\", \"2\", \"3\"])\n",
        "\n",
        "visualizer.fit(y)        # Fit the data to the visualizer\n",
        "visualizer.show()        # Finalize and render the figure"
      ],
      "execution_count": 9,
      "outputs": [
        {
          "output_type": "display_data",
          "data": {
            "image/png": "[encoded data removed]",
            "text/plain": [
              "<Figure size 576x396 with 1 Axes>"
            ]
          },
          "metadata": {
            "tags": []
          }
        },
        {
          "output_type": "execute_result",
          "data": {
            "text/plain": [
              "<matplotlib.axes._subplots.AxesSubplot at 0x7f12724af4d0>"
            ]
          },
          "metadata": {
            "tags": []
          },
          "execution_count": 9
        }
      ]
    },
    {
      "cell_type": "code",
      "metadata": {
        "id": "kXOQlMoAoVFE"
      },
      "source": [
        "X_train.info()"
      ],
      "execution_count": null,
      "outputs": []
    },
    {
      "cell_type": "code",
      "metadata": {
        "id": "0c7nrpEF2reZ"
      },
      "source": [
        "#Applying transformations to integer features..\n",
        "\n",
        "from sklearn import preprocessing\n",
        "\n",
        "#Removing Outliers and standardizing\n",
        "scaler = preprocessing.FunctionTransformer(np.log1p, validate=True).fit(X_train[['age']])\n",
        "X_train['age'] = scaler.transform(X_train[['age']])\n",
        "\n",
        "scaler = preprocessing.FunctionTransformer(np.log1p, validate=True).fit(X_train[['height_percentage']])\n",
        "X_train['height_percentage'] = scaler.transform(X_train[['height_percentage']]) \n",
        "\n",
        "scaler = preprocessing.FunctionTransformer(np.log1p, validate=True).fit(X_train[['area_percentage']])\n",
        "X_train['area_percentage'] = scaler.transform(X_train[['area_percentage']])   \n",
        "\n",
        "scaler = preprocessing.FunctionTransformer(np.log1p, validate=True).fit(X_train[['count_floors_pre_eq']])\n",
        "X_train['count_floors_pre_eq'] = scaler.transform(X_train[['count_floors_pre_eq']]) \n",
        "\n",
        "scaler = preprocessing.FunctionTransformer(np.log1p, validate=True).fit(X_train[['count_families']])\n",
        "X_train['count_families'] = scaler.transform(X_train[['count_families']]) \n",
        "\n",
        "#Feature Engineering to the Testing Dataset...\n",
        "\n",
        "scaler = preprocessing.FunctionTransformer(np.log1p, validate=True).fit(X_test[['age']])\n",
        "X_test['age'] = scaler.transform(X_test[['age']])\n",
        "\n",
        "scaler = preprocessing.FunctionTransformer(np.log1p, validate=True).fit(X_test[['height_percentage']])\n",
        "X_test['height_percentage'] = scaler.transform(X_test[['height_percentage']]) \n",
        "\n",
        "scaler = preprocessing.FunctionTransformer(np.log1p, validate=True).fit(X_test[['area_percentage']])\n",
        "X_test['area_percentage'] = scaler.transform(X_test[['area_percentage']]) \n",
        "\n",
        "scaler = preprocessing.FunctionTransformer(np.log1p, validate=True).fit(X_test[['count_floors_pre_eq']])\n",
        "X_test['count_floors_pre_eq'] = scaler.transform(X_test[['count_floors_pre_eq']])\n",
        "\n",
        "scaler = preprocessing.FunctionTransformer(np.log1p, validate=True).fit(X_test[['count_families']])\n",
        "X_test['count_families'] = scaler.transform(X_test[['count_families']]) \n",
        "\n",
        "#Adding new Age*Height Feature...\n",
        "\n",
        "X_train['A_H'] = X_train['area_percentage'] * X_train['height_percentage']\n",
        "\n",
        "X_test['A_H'] = X_test['area_percentage'] * X_test['height_percentage']\n"
      ],
      "execution_count": 62,
      "outputs": []
    },
    {
      "cell_type": "code",
      "metadata": {
        "id": "aSwYlm-ijMRQ"
      },
      "source": [
        "#FE Using Clusters and Associations given by Data Robot.."
      ],
      "execution_count": null,
      "outputs": []
    },
    {
      "cell_type": "code",
      "metadata": {
        "id": "M7k6fuIo54w1",
        "colab": {
          "base_uri": "https://localhost:8080/",
          "height": 226
        },
        "outputId": "db82a330-030e-4d40-aede-4f801d06453e"
      },
      "source": [
        "X_train.head()"
      ],
      "execution_count": 11,
      "outputs": [
        {
          "output_type": "execute_result",
          "data": {
            "text/html": [
              "<div>\n",
              "<style scoped>\n",
              "    .dataframe tbody tr th:only-of-type {\n",
              "        vertical-align: middle;\n",
              "    }\n",
              "\n",
              "    .dataframe tbody tr th {\n",
              "        vertical-align: top;\n",
              "    }\n",
              "\n",
              "    .dataframe thead th {\n",
              "        text-align: right;\n",
              "    }\n",
              "</style>\n",
              "<table border=\"1\" class=\"dataframe\">\n",
              "  <thead>\n",
              "    <tr style=\"text-align: right;\">\n",
              "      <th></th>\n",
              "      <th>building_id</th>\n",
              "      <th>geo_level_1_id</th>\n",
              "      <th>geo_level_2_id</th>\n",
              "      <th>geo_level_3_id</th>\n",
              "      <th>count_floors_pre_eq</th>\n",
              "      <th>age</th>\n",
              "      <th>area_percentage</th>\n",
              "      <th>height_percentage</th>\n",
              "      <th>land_surface_condition</th>\n",
              "      <th>foundation_type</th>\n",
              "      <th>roof_type</th>\n",
              "      <th>ground_floor_type</th>\n",
              "      <th>other_floor_type</th>\n",
              "      <th>position</th>\n",
              "      <th>plan_configuration</th>\n",
              "      <th>has_superstructure_adobe_mud</th>\n",
              "      <th>has_superstructure_mud_mortar_stone</th>\n",
              "      <th>has_superstructure_stone_flag</th>\n",
              "      <th>has_superstructure_cement_mortar_stone</th>\n",
              "      <th>has_superstructure_mud_mortar_brick</th>\n",
              "      <th>has_superstructure_cement_mortar_brick</th>\n",
              "      <th>has_superstructure_timber</th>\n",
              "      <th>has_superstructure_bamboo</th>\n",
              "      <th>has_superstructure_rc_non_engineered</th>\n",
              "      <th>has_superstructure_rc_engineered</th>\n",
              "      <th>has_superstructure_other</th>\n",
              "      <th>legal_ownership_status</th>\n",
              "      <th>count_families</th>\n",
              "      <th>has_secondary_use</th>\n",
              "      <th>has_secondary_use_agriculture</th>\n",
              "      <th>has_secondary_use_hotel</th>\n",
              "      <th>has_secondary_use_rental</th>\n",
              "      <th>has_secondary_use_institution</th>\n",
              "      <th>has_secondary_use_school</th>\n",
              "      <th>has_secondary_use_industry</th>\n",
              "      <th>has_secondary_use_health_post</th>\n",
              "      <th>has_secondary_use_gov_office</th>\n",
              "      <th>has_secondary_use_use_police</th>\n",
              "      <th>has_secondary_use_other</th>\n",
              "      <th>A_H</th>\n",
              "      <th>Mean_AH</th>\n",
              "    </tr>\n",
              "  </thead>\n",
              "  <tbody>\n",
              "    <tr>\n",
              "      <th>66737</th>\n",
              "      <td>184292</td>\n",
              "      <td>12</td>\n",
              "      <td>32</td>\n",
              "      <td>5472</td>\n",
              "      <td>1.098612</td>\n",
              "      <td>3.433987</td>\n",
              "      <td>2.397895</td>\n",
              "      <td>1.945910</td>\n",
              "      <td>t</td>\n",
              "      <td>r</td>\n",
              "      <td>n</td>\n",
              "      <td>f</td>\n",
              "      <td>x</td>\n",
              "      <td>s</td>\n",
              "      <td>d</td>\n",
              "      <td>0</td>\n",
              "      <td>1</td>\n",
              "      <td>0</td>\n",
              "      <td>0</td>\n",
              "      <td>0</td>\n",
              "      <td>0</td>\n",
              "      <td>1</td>\n",
              "      <td>1</td>\n",
              "      <td>0</td>\n",
              "      <td>0</td>\n",
              "      <td>0</td>\n",
              "      <td>v</td>\n",
              "      <td>0.693147</td>\n",
              "      <td>0</td>\n",
              "      <td>0</td>\n",
              "      <td>0</td>\n",
              "      <td>0</td>\n",
              "      <td>0</td>\n",
              "      <td>0</td>\n",
              "      <td>0</td>\n",
              "      <td>0</td>\n",
              "      <td>0</td>\n",
              "      <td>0</td>\n",
              "      <td>0</td>\n",
              "      <td>4.666089</td>\n",
              "      <td>-0.797398</td>\n",
              "    </tr>\n",
              "    <tr>\n",
              "      <th>9080</th>\n",
              "      <td>85957</td>\n",
              "      <td>17</td>\n",
              "      <td>663</td>\n",
              "      <td>7897</td>\n",
              "      <td>1.098612</td>\n",
              "      <td>3.258097</td>\n",
              "      <td>2.197225</td>\n",
              "      <td>1.791759</td>\n",
              "      <td>t</td>\n",
              "      <td>r</td>\n",
              "      <td>n</td>\n",
              "      <td>f</td>\n",
              "      <td>q</td>\n",
              "      <td>s</td>\n",
              "      <td>d</td>\n",
              "      <td>0</td>\n",
              "      <td>1</td>\n",
              "      <td>0</td>\n",
              "      <td>0</td>\n",
              "      <td>0</td>\n",
              "      <td>0</td>\n",
              "      <td>1</td>\n",
              "      <td>0</td>\n",
              "      <td>0</td>\n",
              "      <td>0</td>\n",
              "      <td>0</td>\n",
              "      <td>v</td>\n",
              "      <td>0.693147</td>\n",
              "      <td>0</td>\n",
              "      <td>0</td>\n",
              "      <td>0</td>\n",
              "      <td>0</td>\n",
              "      <td>0</td>\n",
              "      <td>0</td>\n",
              "      <td>0</td>\n",
              "      <td>0</td>\n",
              "      <td>0</td>\n",
              "      <td>0</td>\n",
              "      <td>0</td>\n",
              "      <td>3.936898</td>\n",
              "      <td>-0.068207</td>\n",
              "    </tr>\n",
              "    <tr>\n",
              "      <th>41043</th>\n",
              "      <td>227366</td>\n",
              "      <td>3</td>\n",
              "      <td>175</td>\n",
              "      <td>6765</td>\n",
              "      <td>1.386294</td>\n",
              "      <td>4.189655</td>\n",
              "      <td>1.945910</td>\n",
              "      <td>1.945910</td>\n",
              "      <td>t</td>\n",
              "      <td>r</td>\n",
              "      <td>q</td>\n",
              "      <td>f</td>\n",
              "      <td>q</td>\n",
              "      <td>j</td>\n",
              "      <td>d</td>\n",
              "      <td>1</td>\n",
              "      <td>0</td>\n",
              "      <td>0</td>\n",
              "      <td>0</td>\n",
              "      <td>1</td>\n",
              "      <td>1</td>\n",
              "      <td>0</td>\n",
              "      <td>0</td>\n",
              "      <td>0</td>\n",
              "      <td>0</td>\n",
              "      <td>0</td>\n",
              "      <td>v</td>\n",
              "      <td>0.693147</td>\n",
              "      <td>0</td>\n",
              "      <td>0</td>\n",
              "      <td>0</td>\n",
              "      <td>0</td>\n",
              "      <td>0</td>\n",
              "      <td>0</td>\n",
              "      <td>0</td>\n",
              "      <td>0</td>\n",
              "      <td>0</td>\n",
              "      <td>0</td>\n",
              "      <td>0</td>\n",
              "      <td>3.786566</td>\n",
              "      <td>0.082125</td>\n",
              "    </tr>\n",
              "    <tr>\n",
              "      <th>90163</th>\n",
              "      <td>617536</td>\n",
              "      <td>26</td>\n",
              "      <td>762</td>\n",
              "      <td>10530</td>\n",
              "      <td>1.098612</td>\n",
              "      <td>3.433987</td>\n",
              "      <td>1.945910</td>\n",
              "      <td>1.945910</td>\n",
              "      <td>t</td>\n",
              "      <td>r</td>\n",
              "      <td>n</td>\n",
              "      <td>f</td>\n",
              "      <td>q</td>\n",
              "      <td>s</td>\n",
              "      <td>d</td>\n",
              "      <td>0</td>\n",
              "      <td>1</td>\n",
              "      <td>0</td>\n",
              "      <td>0</td>\n",
              "      <td>0</td>\n",
              "      <td>0</td>\n",
              "      <td>0</td>\n",
              "      <td>0</td>\n",
              "      <td>0</td>\n",
              "      <td>0</td>\n",
              "      <td>0</td>\n",
              "      <td>v</td>\n",
              "      <td>0.693147</td>\n",
              "      <td>1</td>\n",
              "      <td>1</td>\n",
              "      <td>0</td>\n",
              "      <td>0</td>\n",
              "      <td>0</td>\n",
              "      <td>0</td>\n",
              "      <td>0</td>\n",
              "      <td>0</td>\n",
              "      <td>0</td>\n",
              "      <td>0</td>\n",
              "      <td>0</td>\n",
              "      <td>3.786566</td>\n",
              "      <td>0.082125</td>\n",
              "    </tr>\n",
              "    <tr>\n",
              "      <th>225250</th>\n",
              "      <td>406641</td>\n",
              "      <td>12</td>\n",
              "      <td>309</td>\n",
              "      <td>8039</td>\n",
              "      <td>1.098612</td>\n",
              "      <td>3.258097</td>\n",
              "      <td>1.945910</td>\n",
              "      <td>1.609438</td>\n",
              "      <td>t</td>\n",
              "      <td>r</td>\n",
              "      <td>n</td>\n",
              "      <td>f</td>\n",
              "      <td>q</td>\n",
              "      <td>s</td>\n",
              "      <td>d</td>\n",
              "      <td>0</td>\n",
              "      <td>1</td>\n",
              "      <td>0</td>\n",
              "      <td>0</td>\n",
              "      <td>0</td>\n",
              "      <td>0</td>\n",
              "      <td>1</td>\n",
              "      <td>1</td>\n",
              "      <td>0</td>\n",
              "      <td>0</td>\n",
              "      <td>0</td>\n",
              "      <td>v</td>\n",
              "      <td>0.693147</td>\n",
              "      <td>0</td>\n",
              "      <td>0</td>\n",
              "      <td>0</td>\n",
              "      <td>0</td>\n",
              "      <td>0</td>\n",
              "      <td>0</td>\n",
              "      <td>0</td>\n",
              "      <td>0</td>\n",
              "      <td>0</td>\n",
              "      <td>0</td>\n",
              "      <td>0</td>\n",
              "      <td>3.131822</td>\n",
              "      <td>0.736870</td>\n",
              "    </tr>\n",
              "  </tbody>\n",
              "</table>\n",
              "</div>"
            ],
            "text/plain": [
              "        building_id geo_level_1_id  ...       A_H   Mean_AH\n",
              "66737        184292             12  ...  4.666089 -0.797398\n",
              "9080          85957             17  ...  3.936898 -0.068207\n",
              "41043        227366              3  ...  3.786566  0.082125\n",
              "90163        617536             26  ...  3.786566  0.082125\n",
              "225250       406641             12  ...  3.131822  0.736870\n",
              "\n",
              "[5 rows x 41 columns]"
            ]
          },
          "metadata": {
            "tags": []
          },
          "execution_count": 11
        }
      ]
    },
    {
      "cell_type": "code",
      "metadata": {
        "id": "EcVvBk8w6OJq"
      },
      "source": [
        "def plot_hist(ax, feature, title):\n",
        "    ax.hist(feature, bins=20, edgecolor='black', linewidth=1.2);\n",
        "    ax.set_title(title, fontsize=20);\n",
        "    ax.tick_params(axis='both', which='major', labelsize=18);\n",
        "    ax.grid(True);\n",
        "\n",
        "plt.figure(figsize=(16, 10));\n",
        "plt.grid(True);\n",
        "plot_hist(plt.subplot(3, 2, 1), X['age'], 'Age')\n",
        "plot_hist(plt.subplot(3, 2, 2), X['height_percentage'], 'Height')\n",
        "plot_hist(plt.subplot(3, 2, 3), X['area_percentage'], 'Area')\n",
        "plot_hist(plt.subplot(3, 2, 4), X['geo_level_1_id'], 'Region 1')\n",
        "plot_hist(plt.subplot(3, 2, 5), X['geo_level_2_id'], 'Region 2')\n",
        "plot_hist(plt.subplot(3, 2, 6), X['geo_level_3_id'], 'Region 3')\n",
        "\n",
        "#plt.title('Amount', fontsize=20)\n",
        "plt.tight_layout();\n",
        "#plt.savefig('out/german_credit-transforms.png');\n"
      ],
      "execution_count": null,
      "outputs": []
    },
    {
      "cell_type": "markdown",
      "metadata": {
        "id": "nljBBloG-rv3"
      },
      "source": [
        "Categorical Feature Engineering using Target Encoding"
      ]
    },
    {
      "cell_type": "code",
      "metadata": {
        "id": "g-jQgCtYGy68"
      },
      "source": [
        "categorical_features = df.select_dtypes(include=['category']).drop(['damage_grade'], axis=1).columns\n",
        "\n",
        "#CAN RUN THIS FOR FITTING MORE CATEGORICAL FEATURES IN TARGET ENCODING..."
      ],
      "execution_count": null,
      "outputs": []
    },
    {
      "cell_type": "code",
      "metadata": {
        "id": "qXXCkZlXJ76C"
      },
      "source": [
        "#ce_me = ce.MEstimateEncoder(cols = ['geo_level_1_id','geo_level_2_id','geo_level_3_id','land_surface_condition','foundation_type','roof_type','ground_floor_type','other_floor_type','position','plan_configuration','legal_ownership_status'],randomized=True)\n",
        "#ce_me.fit_transform(X_train,y_train)"
      ],
      "execution_count": null,
      "outputs": []
    },
    {
      "cell_type": "code",
      "metadata": {
        "id": "JQeaAjnlzfjO"
      },
      "source": [
        "ce_me = ce.MEstimateEncoder(cols = ['geo_level_1_id','geo_level_2_id','geo_level_3_id','land_surface_condition','foundation_type','roof_type','ground_floor_type','other_floor_type','position','plan_configuration','legal_ownership_status','has_superstructure_adobe_mud',\n",
        "                                    'has_superstructure_mud_mortar_stone','has_superstructure_rc_engineered','has_superstructure_rc_non_engineered','has_superstructure_cement_mortar_stone',\n",
        "                                    'has_secondary_use','has_superstructure_timber','has_superstructure_stone_flag','has_superstructure_cement_mortar_brick','has_superstructure_bamboo','has_secondary_use_agriculture'],m=2)\n",
        "\n",
        "X_train_fe=ce_me.fit_transform(X_train,y_train)\n",
        "X_test_fe=ce_me.transform(X_test)"
      ],
      "execution_count": 63,
      "outputs": []
    },
    {
      "cell_type": "code",
      "metadata": {
        "colab": {
          "base_uri": "https://localhost:8080/",
          "height": 226
        },
        "id": "Kpq-uf45uio2",
        "outputId": "21e982fc-0c4e-4b68-c724-182fd3ff5052"
      },
      "source": [
        "X_train_fe.head()"
      ],
      "execution_count": 13,
      "outputs": [
        {
          "output_type": "execute_result",
          "data": {
            "text/html": [
              "<div>\n",
              "<style scoped>\n",
              "    .dataframe tbody tr th:only-of-type {\n",
              "        vertical-align: middle;\n",
              "    }\n",
              "\n",
              "    .dataframe tbody tr th {\n",
              "        vertical-align: top;\n",
              "    }\n",
              "\n",
              "    .dataframe thead th {\n",
              "        text-align: right;\n",
              "    }\n",
              "</style>\n",
              "<table border=\"1\" class=\"dataframe\">\n",
              "  <thead>\n",
              "    <tr style=\"text-align: right;\">\n",
              "      <th></th>\n",
              "      <th>building_id</th>\n",
              "      <th>geo_level_1_id</th>\n",
              "      <th>geo_level_2_id</th>\n",
              "      <th>geo_level_3_id</th>\n",
              "      <th>count_floors_pre_eq</th>\n",
              "      <th>age</th>\n",
              "      <th>area_percentage</th>\n",
              "      <th>height_percentage</th>\n",
              "      <th>land_surface_condition</th>\n",
              "      <th>foundation_type</th>\n",
              "      <th>roof_type</th>\n",
              "      <th>ground_floor_type</th>\n",
              "      <th>other_floor_type</th>\n",
              "      <th>position</th>\n",
              "      <th>plan_configuration</th>\n",
              "      <th>has_superstructure_adobe_mud</th>\n",
              "      <th>has_superstructure_mud_mortar_stone</th>\n",
              "      <th>has_superstructure_stone_flag</th>\n",
              "      <th>has_superstructure_cement_mortar_stone</th>\n",
              "      <th>has_superstructure_mud_mortar_brick</th>\n",
              "      <th>has_superstructure_cement_mortar_brick</th>\n",
              "      <th>has_superstructure_timber</th>\n",
              "      <th>has_superstructure_bamboo</th>\n",
              "      <th>has_superstructure_rc_non_engineered</th>\n",
              "      <th>has_superstructure_rc_engineered</th>\n",
              "      <th>has_superstructure_other</th>\n",
              "      <th>legal_ownership_status</th>\n",
              "      <th>count_families</th>\n",
              "      <th>has_secondary_use</th>\n",
              "      <th>has_secondary_use_agriculture</th>\n",
              "      <th>has_secondary_use_hotel</th>\n",
              "      <th>has_secondary_use_rental</th>\n",
              "      <th>has_secondary_use_institution</th>\n",
              "      <th>has_secondary_use_school</th>\n",
              "      <th>has_secondary_use_industry</th>\n",
              "      <th>has_secondary_use_health_post</th>\n",
              "      <th>has_secondary_use_gov_office</th>\n",
              "      <th>has_secondary_use_use_police</th>\n",
              "      <th>has_secondary_use_other</th>\n",
              "      <th>A_H</th>\n",
              "      <th>Mean_AH</th>\n",
              "    </tr>\n",
              "  </thead>\n",
              "  <tbody>\n",
              "    <tr>\n",
              "      <th>66737</th>\n",
              "      <td>184292</td>\n",
              "      <td>2.143230</td>\n",
              "      <td>2.032826</td>\n",
              "      <td>2.068167</td>\n",
              "      <td>1.098612</td>\n",
              "      <td>3.433987</td>\n",
              "      <td>2.397895</td>\n",
              "      <td>1.945910</td>\n",
              "      <td>2.234233</td>\n",
              "      <td>2.329571</td>\n",
              "      <td>2.269499</td>\n",
              "      <td>2.309193</td>\n",
              "      <td>2.297339</td>\n",
              "      <td>2.229152</td>\n",
              "      <td>2.243951</td>\n",
              "      <td>2.228023</td>\n",
              "      <td>2.337697</td>\n",
              "      <td>2.231032</td>\n",
              "      <td>2.243563</td>\n",
              "      <td>0</td>\n",
              "      <td>2.283100</td>\n",
              "      <td>2.165077</td>\n",
              "      <td>2.108517</td>\n",
              "      <td>2.258799</td>\n",
              "      <td>2.252369</td>\n",
              "      <td>0</td>\n",
              "      <td>2.244519</td>\n",
              "      <td>0.693147</td>\n",
              "      <td>2.255972</td>\n",
              "      <td>2.237093</td>\n",
              "      <td>0</td>\n",
              "      <td>0</td>\n",
              "      <td>0</td>\n",
              "      <td>0</td>\n",
              "      <td>0</td>\n",
              "      <td>0</td>\n",
              "      <td>0</td>\n",
              "      <td>0</td>\n",
              "      <td>0</td>\n",
              "      <td>4.666089</td>\n",
              "      <td>-0.797398</td>\n",
              "    </tr>\n",
              "    <tr>\n",
              "      <th>9080</th>\n",
              "      <td>85957</td>\n",
              "      <td>2.794539</td>\n",
              "      <td>2.798505</td>\n",
              "      <td>2.776110</td>\n",
              "      <td>1.098612</td>\n",
              "      <td>3.258097</td>\n",
              "      <td>2.197225</td>\n",
              "      <td>1.791759</td>\n",
              "      <td>2.234233</td>\n",
              "      <td>2.329571</td>\n",
              "      <td>2.269499</td>\n",
              "      <td>2.309193</td>\n",
              "      <td>2.315117</td>\n",
              "      <td>2.229152</td>\n",
              "      <td>2.243951</td>\n",
              "      <td>2.228023</td>\n",
              "      <td>2.337697</td>\n",
              "      <td>2.231032</td>\n",
              "      <td>2.243563</td>\n",
              "      <td>0</td>\n",
              "      <td>2.283100</td>\n",
              "      <td>2.165077</td>\n",
              "      <td>2.250728</td>\n",
              "      <td>2.258799</td>\n",
              "      <td>2.252369</td>\n",
              "      <td>0</td>\n",
              "      <td>2.244519</td>\n",
              "      <td>0.693147</td>\n",
              "      <td>2.255972</td>\n",
              "      <td>2.237093</td>\n",
              "      <td>0</td>\n",
              "      <td>0</td>\n",
              "      <td>0</td>\n",
              "      <td>0</td>\n",
              "      <td>0</td>\n",
              "      <td>0</td>\n",
              "      <td>0</td>\n",
              "      <td>0</td>\n",
              "      <td>0</td>\n",
              "      <td>3.936898</td>\n",
              "      <td>-0.068207</td>\n",
              "    </tr>\n",
              "    <tr>\n",
              "      <th>41043</th>\n",
              "      <td>227366</td>\n",
              "      <td>2.326611</td>\n",
              "      <td>2.146757</td>\n",
              "      <td>2.175503</td>\n",
              "      <td>1.386294</td>\n",
              "      <td>4.189655</td>\n",
              "      <td>1.945910</td>\n",
              "      <td>1.945910</td>\n",
              "      <td>2.234233</td>\n",
              "      <td>2.329571</td>\n",
              "      <td>2.320903</td>\n",
              "      <td>2.309193</td>\n",
              "      <td>2.315117</td>\n",
              "      <td>2.153817</td>\n",
              "      <td>2.243951</td>\n",
              "      <td>2.347069</td>\n",
              "      <td>1.921456</td>\n",
              "      <td>2.231032</td>\n",
              "      <td>2.243563</td>\n",
              "      <td>1</td>\n",
              "      <td>1.692752</td>\n",
              "      <td>2.263726</td>\n",
              "      <td>2.250728</td>\n",
              "      <td>2.258799</td>\n",
              "      <td>2.252369</td>\n",
              "      <td>0</td>\n",
              "      <td>2.244519</td>\n",
              "      <td>0.693147</td>\n",
              "      <td>2.255972</td>\n",
              "      <td>2.237093</td>\n",
              "      <td>0</td>\n",
              "      <td>0</td>\n",
              "      <td>0</td>\n",
              "      <td>0</td>\n",
              "      <td>0</td>\n",
              "      <td>0</td>\n",
              "      <td>0</td>\n",
              "      <td>0</td>\n",
              "      <td>0</td>\n",
              "      <td>3.786566</td>\n",
              "      <td>0.082125</td>\n",
              "    </tr>\n",
              "    <tr>\n",
              "      <th>90163</th>\n",
              "      <td>617536</td>\n",
              "      <td>1.731230</td>\n",
              "      <td>1.982795</td>\n",
              "      <td>2.101754</td>\n",
              "      <td>1.098612</td>\n",
              "      <td>3.433987</td>\n",
              "      <td>1.945910</td>\n",
              "      <td>1.945910</td>\n",
              "      <td>2.234233</td>\n",
              "      <td>2.329571</td>\n",
              "      <td>2.269499</td>\n",
              "      <td>2.309193</td>\n",
              "      <td>2.315117</td>\n",
              "      <td>2.229152</td>\n",
              "      <td>2.243951</td>\n",
              "      <td>2.228023</td>\n",
              "      <td>2.337697</td>\n",
              "      <td>2.231032</td>\n",
              "      <td>2.243563</td>\n",
              "      <td>0</td>\n",
              "      <td>2.283100</td>\n",
              "      <td>2.263726</td>\n",
              "      <td>2.250728</td>\n",
              "      <td>2.258799</td>\n",
              "      <td>2.252369</td>\n",
              "      <td>0</td>\n",
              "      <td>2.244519</td>\n",
              "      <td>0.693147</td>\n",
              "      <td>2.100150</td>\n",
              "      <td>2.260230</td>\n",
              "      <td>0</td>\n",
              "      <td>0</td>\n",
              "      <td>0</td>\n",
              "      <td>0</td>\n",
              "      <td>0</td>\n",
              "      <td>0</td>\n",
              "      <td>0</td>\n",
              "      <td>0</td>\n",
              "      <td>0</td>\n",
              "      <td>3.786566</td>\n",
              "      <td>0.082125</td>\n",
              "    </tr>\n",
              "    <tr>\n",
              "      <th>225250</th>\n",
              "      <td>406641</td>\n",
              "      <td>2.143230</td>\n",
              "      <td>2.182253</td>\n",
              "      <td>2.079528</td>\n",
              "      <td>1.098612</td>\n",
              "      <td>3.258097</td>\n",
              "      <td>1.945910</td>\n",
              "      <td>1.609438</td>\n",
              "      <td>2.234233</td>\n",
              "      <td>2.329571</td>\n",
              "      <td>2.269499</td>\n",
              "      <td>2.309193</td>\n",
              "      <td>2.315117</td>\n",
              "      <td>2.229152</td>\n",
              "      <td>2.243951</td>\n",
              "      <td>2.228023</td>\n",
              "      <td>2.337697</td>\n",
              "      <td>2.231032</td>\n",
              "      <td>2.243563</td>\n",
              "      <td>0</td>\n",
              "      <td>2.283100</td>\n",
              "      <td>2.165077</td>\n",
              "      <td>2.108517</td>\n",
              "      <td>2.258799</td>\n",
              "      <td>2.252369</td>\n",
              "      <td>0</td>\n",
              "      <td>2.244519</td>\n",
              "      <td>0.693147</td>\n",
              "      <td>2.255972</td>\n",
              "      <td>2.237093</td>\n",
              "      <td>0</td>\n",
              "      <td>0</td>\n",
              "      <td>0</td>\n",
              "      <td>0</td>\n",
              "      <td>0</td>\n",
              "      <td>0</td>\n",
              "      <td>0</td>\n",
              "      <td>0</td>\n",
              "      <td>0</td>\n",
              "      <td>3.131822</td>\n",
              "      <td>0.736870</td>\n",
              "    </tr>\n",
              "  </tbody>\n",
              "</table>\n",
              "</div>"
            ],
            "text/plain": [
              "        building_id  geo_level_1_id  ...       A_H   Mean_AH\n",
              "66737        184292        2.143230  ...  4.666089 -0.797398\n",
              "9080          85957        2.794539  ...  3.936898 -0.068207\n",
              "41043        227366        2.326611  ...  3.786566  0.082125\n",
              "90163        617536        1.731230  ...  3.786566  0.082125\n",
              "225250       406641        2.143230  ...  3.131822  0.736870\n",
              "\n",
              "[5 rows x 41 columns]"
            ]
          },
          "metadata": {
            "tags": []
          },
          "execution_count": 13
        }
      ]
    },
    {
      "cell_type": "code",
      "metadata": {
        "id": "x0HdDGmCpt7l"
      },
      "source": [
        "X_train_fe['F1'] = X_train_fe['has_secondary_use'] * X_train_fe['has_secondary_use_agriculture']\n",
        "\n",
        "X_train_fe['F2'] = X_train_fe['height_percentage'] * X_train_fe['count_floors_pre_eq']\n",
        "\n",
        "X_train_fe['F3'] = X_train_fe['has_superstructure_cement_mortar_brick'] + X_train_fe['has_superstructure_mud_mortar_stone']\n",
        "\n",
        "X_train_fe['F4'] = X_train_fe['has_superstructure_bamboo'] + X_train_fe['has_superstructure_timber']\n",
        "\n",
        "X_train_fe['F5'] = X_train_fe['ground_floor_type'] + X_train_fe['has_superstructure_cement_mortar_brick']\n",
        "\n",
        "X_train_fe['F6'] = X_train_fe['foundation_type'] + X_train_fe['has_superstructure_rc_engineered']\n",
        "\n",
        "X_train_fe['F7'] = X_train_fe['height_percentage'] + X_train_fe['other_floor_type']\n",
        "\n",
        "X_train_fe['F8'] = X_train_fe['foundation_type'] * X_train_fe['ground_floor_type']"
      ],
      "execution_count": 64,
      "outputs": []
    },
    {
      "cell_type": "code",
      "metadata": {
        "colab": {
          "base_uri": "https://localhost:8080/",
          "height": 226
        },
        "id": "hqHId7sFt5CP",
        "outputId": "e95b07ad-696f-48f2-fbf8-ab132fdd8230"
      },
      "source": [
        "X_train_fe.head()"
      ],
      "execution_count": 16,
      "outputs": [
        {
          "output_type": "execute_result",
          "data": {
            "text/html": [
              "<div>\n",
              "<style scoped>\n",
              "    .dataframe tbody tr th:only-of-type {\n",
              "        vertical-align: middle;\n",
              "    }\n",
              "\n",
              "    .dataframe tbody tr th {\n",
              "        vertical-align: top;\n",
              "    }\n",
              "\n",
              "    .dataframe thead th {\n",
              "        text-align: right;\n",
              "    }\n",
              "</style>\n",
              "<table border=\"1\" class=\"dataframe\">\n",
              "  <thead>\n",
              "    <tr style=\"text-align: right;\">\n",
              "      <th></th>\n",
              "      <th>building_id</th>\n",
              "      <th>geo_level_1_id</th>\n",
              "      <th>geo_level_2_id</th>\n",
              "      <th>geo_level_3_id</th>\n",
              "      <th>count_floors_pre_eq</th>\n",
              "      <th>age</th>\n",
              "      <th>area_percentage</th>\n",
              "      <th>height_percentage</th>\n",
              "      <th>land_surface_condition</th>\n",
              "      <th>foundation_type</th>\n",
              "      <th>roof_type</th>\n",
              "      <th>ground_floor_type</th>\n",
              "      <th>other_floor_type</th>\n",
              "      <th>position</th>\n",
              "      <th>plan_configuration</th>\n",
              "      <th>has_superstructure_adobe_mud</th>\n",
              "      <th>has_superstructure_mud_mortar_stone</th>\n",
              "      <th>has_superstructure_stone_flag</th>\n",
              "      <th>has_superstructure_cement_mortar_stone</th>\n",
              "      <th>has_superstructure_mud_mortar_brick</th>\n",
              "      <th>has_superstructure_cement_mortar_brick</th>\n",
              "      <th>has_superstructure_timber</th>\n",
              "      <th>has_superstructure_bamboo</th>\n",
              "      <th>has_superstructure_rc_non_engineered</th>\n",
              "      <th>has_superstructure_rc_engineered</th>\n",
              "      <th>has_superstructure_other</th>\n",
              "      <th>legal_ownership_status</th>\n",
              "      <th>count_families</th>\n",
              "      <th>has_secondary_use</th>\n",
              "      <th>has_secondary_use_agriculture</th>\n",
              "      <th>has_secondary_use_hotel</th>\n",
              "      <th>has_secondary_use_rental</th>\n",
              "      <th>has_secondary_use_institution</th>\n",
              "      <th>has_secondary_use_school</th>\n",
              "      <th>has_secondary_use_industry</th>\n",
              "      <th>has_secondary_use_health_post</th>\n",
              "      <th>has_secondary_use_gov_office</th>\n",
              "      <th>has_secondary_use_use_police</th>\n",
              "      <th>has_secondary_use_other</th>\n",
              "      <th>A_H</th>\n",
              "      <th>Mean_AH</th>\n",
              "      <th>F1</th>\n",
              "      <th>F2</th>\n",
              "      <th>F3</th>\n",
              "      <th>F4</th>\n",
              "      <th>F5</th>\n",
              "      <th>F6</th>\n",
              "      <th>F7</th>\n",
              "      <th>F8</th>\n",
              "    </tr>\n",
              "  </thead>\n",
              "  <tbody>\n",
              "    <tr>\n",
              "      <th>66737</th>\n",
              "      <td>184292</td>\n",
              "      <td>2.143230</td>\n",
              "      <td>2.032826</td>\n",
              "      <td>2.068167</td>\n",
              "      <td>1.098612</td>\n",
              "      <td>3.433987</td>\n",
              "      <td>2.397895</td>\n",
              "      <td>1.945910</td>\n",
              "      <td>2.234233</td>\n",
              "      <td>2.329571</td>\n",
              "      <td>2.269499</td>\n",
              "      <td>2.309193</td>\n",
              "      <td>2.297339</td>\n",
              "      <td>2.229152</td>\n",
              "      <td>2.243951</td>\n",
              "      <td>2.228023</td>\n",
              "      <td>2.337697</td>\n",
              "      <td>2.231032</td>\n",
              "      <td>2.243563</td>\n",
              "      <td>0</td>\n",
              "      <td>2.283100</td>\n",
              "      <td>2.165077</td>\n",
              "      <td>2.108517</td>\n",
              "      <td>2.258799</td>\n",
              "      <td>2.252369</td>\n",
              "      <td>0</td>\n",
              "      <td>2.244519</td>\n",
              "      <td>0.693147</td>\n",
              "      <td>2.255972</td>\n",
              "      <td>2.237093</td>\n",
              "      <td>0</td>\n",
              "      <td>0</td>\n",
              "      <td>0</td>\n",
              "      <td>0</td>\n",
              "      <td>0</td>\n",
              "      <td>0</td>\n",
              "      <td>0</td>\n",
              "      <td>0</td>\n",
              "      <td>0</td>\n",
              "      <td>4.666089</td>\n",
              "      <td>-0.797398</td>\n",
              "      <td>5.046820</td>\n",
              "      <td>2.137801</td>\n",
              "      <td>4.620797</td>\n",
              "      <td>4.273594</td>\n",
              "      <td>4.592294</td>\n",
              "      <td>4.58194</td>\n",
              "      <td>4.243250</td>\n",
              "      <td>5.379431</td>\n",
              "    </tr>\n",
              "    <tr>\n",
              "      <th>9080</th>\n",
              "      <td>85957</td>\n",
              "      <td>2.794539</td>\n",
              "      <td>2.798505</td>\n",
              "      <td>2.776110</td>\n",
              "      <td>1.098612</td>\n",
              "      <td>3.258097</td>\n",
              "      <td>2.197225</td>\n",
              "      <td>1.791759</td>\n",
              "      <td>2.234233</td>\n",
              "      <td>2.329571</td>\n",
              "      <td>2.269499</td>\n",
              "      <td>2.309193</td>\n",
              "      <td>2.315117</td>\n",
              "      <td>2.229152</td>\n",
              "      <td>2.243951</td>\n",
              "      <td>2.228023</td>\n",
              "      <td>2.337697</td>\n",
              "      <td>2.231032</td>\n",
              "      <td>2.243563</td>\n",
              "      <td>0</td>\n",
              "      <td>2.283100</td>\n",
              "      <td>2.165077</td>\n",
              "      <td>2.250728</td>\n",
              "      <td>2.258799</td>\n",
              "      <td>2.252369</td>\n",
              "      <td>0</td>\n",
              "      <td>2.244519</td>\n",
              "      <td>0.693147</td>\n",
              "      <td>2.255972</td>\n",
              "      <td>2.237093</td>\n",
              "      <td>0</td>\n",
              "      <td>0</td>\n",
              "      <td>0</td>\n",
              "      <td>0</td>\n",
              "      <td>0</td>\n",
              "      <td>0</td>\n",
              "      <td>0</td>\n",
              "      <td>0</td>\n",
              "      <td>0</td>\n",
              "      <td>3.936898</td>\n",
              "      <td>-0.068207</td>\n",
              "      <td>5.046820</td>\n",
              "      <td>1.968449</td>\n",
              "      <td>4.620797</td>\n",
              "      <td>4.415806</td>\n",
              "      <td>4.592294</td>\n",
              "      <td>4.58194</td>\n",
              "      <td>4.106877</td>\n",
              "      <td>5.379431</td>\n",
              "    </tr>\n",
              "    <tr>\n",
              "      <th>41043</th>\n",
              "      <td>227366</td>\n",
              "      <td>2.326611</td>\n",
              "      <td>2.146757</td>\n",
              "      <td>2.175503</td>\n",
              "      <td>1.386294</td>\n",
              "      <td>4.189655</td>\n",
              "      <td>1.945910</td>\n",
              "      <td>1.945910</td>\n",
              "      <td>2.234233</td>\n",
              "      <td>2.329571</td>\n",
              "      <td>2.320903</td>\n",
              "      <td>2.309193</td>\n",
              "      <td>2.315117</td>\n",
              "      <td>2.153817</td>\n",
              "      <td>2.243951</td>\n",
              "      <td>2.347069</td>\n",
              "      <td>1.921456</td>\n",
              "      <td>2.231032</td>\n",
              "      <td>2.243563</td>\n",
              "      <td>1</td>\n",
              "      <td>1.692752</td>\n",
              "      <td>2.263726</td>\n",
              "      <td>2.250728</td>\n",
              "      <td>2.258799</td>\n",
              "      <td>2.252369</td>\n",
              "      <td>0</td>\n",
              "      <td>2.244519</td>\n",
              "      <td>0.693147</td>\n",
              "      <td>2.255972</td>\n",
              "      <td>2.237093</td>\n",
              "      <td>0</td>\n",
              "      <td>0</td>\n",
              "      <td>0</td>\n",
              "      <td>0</td>\n",
              "      <td>0</td>\n",
              "      <td>0</td>\n",
              "      <td>0</td>\n",
              "      <td>0</td>\n",
              "      <td>0</td>\n",
              "      <td>3.786566</td>\n",
              "      <td>0.082125</td>\n",
              "      <td>5.046820</td>\n",
              "      <td>2.697604</td>\n",
              "      <td>3.614208</td>\n",
              "      <td>4.514454</td>\n",
              "      <td>4.001946</td>\n",
              "      <td>4.58194</td>\n",
              "      <td>4.261028</td>\n",
              "      <td>5.379431</td>\n",
              "    </tr>\n",
              "    <tr>\n",
              "      <th>90163</th>\n",
              "      <td>617536</td>\n",
              "      <td>1.731230</td>\n",
              "      <td>1.982795</td>\n",
              "      <td>2.101754</td>\n",
              "      <td>1.098612</td>\n",
              "      <td>3.433987</td>\n",
              "      <td>1.945910</td>\n",
              "      <td>1.945910</td>\n",
              "      <td>2.234233</td>\n",
              "      <td>2.329571</td>\n",
              "      <td>2.269499</td>\n",
              "      <td>2.309193</td>\n",
              "      <td>2.315117</td>\n",
              "      <td>2.229152</td>\n",
              "      <td>2.243951</td>\n",
              "      <td>2.228023</td>\n",
              "      <td>2.337697</td>\n",
              "      <td>2.231032</td>\n",
              "      <td>2.243563</td>\n",
              "      <td>0</td>\n",
              "      <td>2.283100</td>\n",
              "      <td>2.263726</td>\n",
              "      <td>2.250728</td>\n",
              "      <td>2.258799</td>\n",
              "      <td>2.252369</td>\n",
              "      <td>0</td>\n",
              "      <td>2.244519</td>\n",
              "      <td>0.693147</td>\n",
              "      <td>2.100150</td>\n",
              "      <td>2.260230</td>\n",
              "      <td>0</td>\n",
              "      <td>0</td>\n",
              "      <td>0</td>\n",
              "      <td>0</td>\n",
              "      <td>0</td>\n",
              "      <td>0</td>\n",
              "      <td>0</td>\n",
              "      <td>0</td>\n",
              "      <td>0</td>\n",
              "      <td>3.786566</td>\n",
              "      <td>0.082125</td>\n",
              "      <td>4.746823</td>\n",
              "      <td>2.137801</td>\n",
              "      <td>4.620797</td>\n",
              "      <td>4.514454</td>\n",
              "      <td>4.592294</td>\n",
              "      <td>4.58194</td>\n",
              "      <td>4.261028</td>\n",
              "      <td>5.379431</td>\n",
              "    </tr>\n",
              "    <tr>\n",
              "      <th>225250</th>\n",
              "      <td>406641</td>\n",
              "      <td>2.143230</td>\n",
              "      <td>2.182253</td>\n",
              "      <td>2.079528</td>\n",
              "      <td>1.098612</td>\n",
              "      <td>3.258097</td>\n",
              "      <td>1.945910</td>\n",
              "      <td>1.609438</td>\n",
              "      <td>2.234233</td>\n",
              "      <td>2.329571</td>\n",
              "      <td>2.269499</td>\n",
              "      <td>2.309193</td>\n",
              "      <td>2.315117</td>\n",
              "      <td>2.229152</td>\n",
              "      <td>2.243951</td>\n",
              "      <td>2.228023</td>\n",
              "      <td>2.337697</td>\n",
              "      <td>2.231032</td>\n",
              "      <td>2.243563</td>\n",
              "      <td>0</td>\n",
              "      <td>2.283100</td>\n",
              "      <td>2.165077</td>\n",
              "      <td>2.108517</td>\n",
              "      <td>2.258799</td>\n",
              "      <td>2.252369</td>\n",
              "      <td>0</td>\n",
              "      <td>2.244519</td>\n",
              "      <td>0.693147</td>\n",
              "      <td>2.255972</td>\n",
              "      <td>2.237093</td>\n",
              "      <td>0</td>\n",
              "      <td>0</td>\n",
              "      <td>0</td>\n",
              "      <td>0</td>\n",
              "      <td>0</td>\n",
              "      <td>0</td>\n",
              "      <td>0</td>\n",
              "      <td>0</td>\n",
              "      <td>0</td>\n",
              "      <td>3.131822</td>\n",
              "      <td>0.736870</td>\n",
              "      <td>5.046820</td>\n",
              "      <td>1.768148</td>\n",
              "      <td>4.620797</td>\n",
              "      <td>4.273594</td>\n",
              "      <td>4.592294</td>\n",
              "      <td>4.58194</td>\n",
              "      <td>3.924555</td>\n",
              "      <td>5.379431</td>\n",
              "    </tr>\n",
              "  </tbody>\n",
              "</table>\n",
              "</div>"
            ],
            "text/plain": [
              "        building_id  geo_level_1_id  ...        F7        F8\n",
              "66737        184292        2.143230  ...  4.243250  5.379431\n",
              "9080          85957        2.794539  ...  4.106877  5.379431\n",
              "41043        227366        2.326611  ...  4.261028  5.379431\n",
              "90163        617536        1.731230  ...  4.261028  5.379431\n",
              "225250       406641        2.143230  ...  3.924555  5.379431\n",
              "\n",
              "[5 rows x 49 columns]"
            ]
          },
          "metadata": {
            "tags": []
          },
          "execution_count": 16
        }
      ]
    },
    {
      "cell_type": "markdown",
      "metadata": {
        "id": "r469qcXHWFnb"
      },
      "source": [
        "Applying Same Feature Engineering to the Testing Dataset"
      ]
    },
    {
      "cell_type": "code",
      "metadata": {
        "id": "e1Jv8MWRo5aL"
      },
      "source": [
        "#Dropping columns with 0 variation in training set\n",
        "X_train_fe = X_train_fe.drop(columns = ['other_floor_type','ground_floor_type','count_floors_pre_eq','has_secondary_use_rental','has_secondary_use_hotel','has_secondary_use_institution','has_secondary_use_school','has_secondary_use_health_post','has_secondary_use_gov_office','has_secondary_use_use_police','has_secondary_use_other'])\n"
      ],
      "execution_count": 65,
      "outputs": []
    },
    {
      "cell_type": "code",
      "metadata": {
        "id": "KAHpXe-FVm5N"
      },
      "source": [
        "X_test_fe['F1'] = X_test_fe['has_secondary_use'] * X_test_fe['has_secondary_use_agriculture']\n",
        "\n",
        "X_test_fe['F2'] = X_test_fe['height_percentage'] * X_test_fe['count_floors_pre_eq']\n",
        "\n",
        "X_test_fe['F3'] = X_test_fe['has_superstructure_cement_mortar_brick'] + X_test_fe['has_superstructure_mud_mortar_stone']\n",
        "\n",
        "X_test_fe['F4'] = X_test_fe['has_superstructure_bamboo'] + X_test_fe['has_superstructure_timber']\n",
        "\n",
        "X_test_fe['F5'] = X_test_fe['ground_floor_type'] + X_test_fe['has_superstructure_cement_mortar_brick']\n",
        "\n",
        "X_test_fe['F6'] = X_test_fe['foundation_type'] + X_test_fe['has_superstructure_rc_engineered']\n",
        "\n",
        "X_test_fe['F7'] = X_test_fe['height_percentage'] + X_test_fe['other_floor_type']\n",
        "\n",
        "X_test_fe['F8'] = X_test_fe['foundation_type'] * X_test_fe['ground_floor_type']"
      ],
      "execution_count": 66,
      "outputs": []
    },
    {
      "cell_type": "code",
      "metadata": {
        "id": "hkK4CKFDM_tA"
      },
      "source": [
        "#Dropping columns with 0 variation in testing set\n",
        "X_test_fe = X_test_fe.drop(columns = ['other_floor_type','ground_floor_type','count_floors_pre_eq','has_secondary_use_rental','has_secondary_use_hotel','has_secondary_use_institution','has_secondary_use_school','has_secondary_use_health_post','has_secondary_use_gov_office','has_secondary_use_use_police','has_secondary_use_other'])"
      ],
      "execution_count": 67,
      "outputs": []
    },
    {
      "cell_type": "code",
      "metadata": {
        "id": "PaVgFe0dWFQ2"
      },
      "source": [
        "messi= X_train_fe.select_dtypes(include='number')"
      ],
      "execution_count": null,
      "outputs": []
    },
    {
      "cell_type": "code",
      "metadata": {
        "colab": {
          "base_uri": "https://localhost:8080/",
          "height": 547
        },
        "id": "TFa3xlzkWQ6s",
        "outputId": "edcaa7de-13a5-4175-871b-68381c70b791"
      },
      "source": [
        "corr = messi.corr()\n",
        "sns.heatmap(corr)"
      ],
      "execution_count": null,
      "outputs": [
        {
          "output_type": "execute_result",
          "data": {
            "text/plain": [
              "<matplotlib.axes._subplots.AxesSubplot at 0x7faceaf77a90>"
            ]
          },
          "metadata": {
            "tags": []
          },
          "execution_count": 174
        },
        {
          "output_type": "display_data",
          "data": {
            "image/png": "[encoded data removed]",
            "text/plain": [
              "<Figure size 576x396 with 2 Axes>"
            ]
          },
          "metadata": {
            "tags": []
          }
        }
      ]
    },
    {
      "cell_type": "code",
      "metadata": {
        "id": "sILGH-OShu8L",
        "colab": {
          "base_uri": "https://localhost:8080/",
          "height": 226
        },
        "outputId": "05d29d6c-aeaf-4196-c3f2-b3c0e9bb9a39"
      },
      "source": [
        "X_train_fe.head()"
      ],
      "execution_count": 68,
      "outputs": [
        {
          "output_type": "execute_result",
          "data": {
            "text/html": [
              "<div>\n",
              "<style scoped>\n",
              "    .dataframe tbody tr th:only-of-type {\n",
              "        vertical-align: middle;\n",
              "    }\n",
              "\n",
              "    .dataframe tbody tr th {\n",
              "        vertical-align: top;\n",
              "    }\n",
              "\n",
              "    .dataframe thead th {\n",
              "        text-align: right;\n",
              "    }\n",
              "</style>\n",
              "<table border=\"1\" class=\"dataframe\">\n",
              "  <thead>\n",
              "    <tr style=\"text-align: right;\">\n",
              "      <th></th>\n",
              "      <th>building_id</th>\n",
              "      <th>geo_level_1_id</th>\n",
              "      <th>geo_level_2_id</th>\n",
              "      <th>geo_level_3_id</th>\n",
              "      <th>age</th>\n",
              "      <th>area_percentage</th>\n",
              "      <th>height_percentage</th>\n",
              "      <th>land_surface_condition</th>\n",
              "      <th>foundation_type</th>\n",
              "      <th>roof_type</th>\n",
              "      <th>position</th>\n",
              "      <th>plan_configuration</th>\n",
              "      <th>has_superstructure_adobe_mud</th>\n",
              "      <th>has_superstructure_mud_mortar_stone</th>\n",
              "      <th>has_superstructure_stone_flag</th>\n",
              "      <th>has_superstructure_cement_mortar_stone</th>\n",
              "      <th>has_superstructure_mud_mortar_brick</th>\n",
              "      <th>has_superstructure_cement_mortar_brick</th>\n",
              "      <th>has_superstructure_timber</th>\n",
              "      <th>has_superstructure_bamboo</th>\n",
              "      <th>has_superstructure_rc_non_engineered</th>\n",
              "      <th>has_superstructure_rc_engineered</th>\n",
              "      <th>has_superstructure_other</th>\n",
              "      <th>legal_ownership_status</th>\n",
              "      <th>count_families</th>\n",
              "      <th>has_secondary_use</th>\n",
              "      <th>has_secondary_use_agriculture</th>\n",
              "      <th>has_secondary_use_industry</th>\n",
              "      <th>A_H</th>\n",
              "      <th>F1</th>\n",
              "      <th>F2</th>\n",
              "      <th>F3</th>\n",
              "      <th>F4</th>\n",
              "      <th>F5</th>\n",
              "      <th>F6</th>\n",
              "      <th>F7</th>\n",
              "      <th>F8</th>\n",
              "    </tr>\n",
              "  </thead>\n",
              "  <tbody>\n",
              "    <tr>\n",
              "      <th>66737</th>\n",
              "      <td>184292</td>\n",
              "      <td>2.143230</td>\n",
              "      <td>2.032826</td>\n",
              "      <td>2.068167</td>\n",
              "      <td>3.433987</td>\n",
              "      <td>2.397895</td>\n",
              "      <td>1.945910</td>\n",
              "      <td>2.234233</td>\n",
              "      <td>2.329571</td>\n",
              "      <td>2.269499</td>\n",
              "      <td>2.229152</td>\n",
              "      <td>2.243951</td>\n",
              "      <td>2.228023</td>\n",
              "      <td>2.337697</td>\n",
              "      <td>2.231032</td>\n",
              "      <td>2.243563</td>\n",
              "      <td>0</td>\n",
              "      <td>2.283100</td>\n",
              "      <td>2.165077</td>\n",
              "      <td>2.108517</td>\n",
              "      <td>2.258799</td>\n",
              "      <td>2.252369</td>\n",
              "      <td>0</td>\n",
              "      <td>2.244519</td>\n",
              "      <td>0.693147</td>\n",
              "      <td>2.255972</td>\n",
              "      <td>2.237093</td>\n",
              "      <td>0</td>\n",
              "      <td>4.666089</td>\n",
              "      <td>5.046820</td>\n",
              "      <td>2.137801</td>\n",
              "      <td>4.620797</td>\n",
              "      <td>4.273594</td>\n",
              "      <td>4.592294</td>\n",
              "      <td>4.58194</td>\n",
              "      <td>4.243250</td>\n",
              "      <td>5.379431</td>\n",
              "    </tr>\n",
              "    <tr>\n",
              "      <th>9080</th>\n",
              "      <td>85957</td>\n",
              "      <td>2.794539</td>\n",
              "      <td>2.798505</td>\n",
              "      <td>2.776110</td>\n",
              "      <td>3.258097</td>\n",
              "      <td>2.197225</td>\n",
              "      <td>1.791759</td>\n",
              "      <td>2.234233</td>\n",
              "      <td>2.329571</td>\n",
              "      <td>2.269499</td>\n",
              "      <td>2.229152</td>\n",
              "      <td>2.243951</td>\n",
              "      <td>2.228023</td>\n",
              "      <td>2.337697</td>\n",
              "      <td>2.231032</td>\n",
              "      <td>2.243563</td>\n",
              "      <td>0</td>\n",
              "      <td>2.283100</td>\n",
              "      <td>2.165077</td>\n",
              "      <td>2.250728</td>\n",
              "      <td>2.258799</td>\n",
              "      <td>2.252369</td>\n",
              "      <td>0</td>\n",
              "      <td>2.244519</td>\n",
              "      <td>0.693147</td>\n",
              "      <td>2.255972</td>\n",
              "      <td>2.237093</td>\n",
              "      <td>0</td>\n",
              "      <td>3.936898</td>\n",
              "      <td>5.046820</td>\n",
              "      <td>1.968449</td>\n",
              "      <td>4.620797</td>\n",
              "      <td>4.415806</td>\n",
              "      <td>4.592294</td>\n",
              "      <td>4.58194</td>\n",
              "      <td>4.106877</td>\n",
              "      <td>5.379431</td>\n",
              "    </tr>\n",
              "    <tr>\n",
              "      <th>41043</th>\n",
              "      <td>227366</td>\n",
              "      <td>2.326611</td>\n",
              "      <td>2.146757</td>\n",
              "      <td>2.175503</td>\n",
              "      <td>4.189655</td>\n",
              "      <td>1.945910</td>\n",
              "      <td>1.945910</td>\n",
              "      <td>2.234233</td>\n",
              "      <td>2.329571</td>\n",
              "      <td>2.320903</td>\n",
              "      <td>2.153817</td>\n",
              "      <td>2.243951</td>\n",
              "      <td>2.347069</td>\n",
              "      <td>1.921456</td>\n",
              "      <td>2.231032</td>\n",
              "      <td>2.243563</td>\n",
              "      <td>1</td>\n",
              "      <td>1.692752</td>\n",
              "      <td>2.263726</td>\n",
              "      <td>2.250728</td>\n",
              "      <td>2.258799</td>\n",
              "      <td>2.252369</td>\n",
              "      <td>0</td>\n",
              "      <td>2.244519</td>\n",
              "      <td>0.693147</td>\n",
              "      <td>2.255972</td>\n",
              "      <td>2.237093</td>\n",
              "      <td>0</td>\n",
              "      <td>3.786566</td>\n",
              "      <td>5.046820</td>\n",
              "      <td>2.697604</td>\n",
              "      <td>3.614208</td>\n",
              "      <td>4.514454</td>\n",
              "      <td>4.001946</td>\n",
              "      <td>4.58194</td>\n",
              "      <td>4.261028</td>\n",
              "      <td>5.379431</td>\n",
              "    </tr>\n",
              "    <tr>\n",
              "      <th>90163</th>\n",
              "      <td>617536</td>\n",
              "      <td>1.731230</td>\n",
              "      <td>1.982795</td>\n",
              "      <td>2.101754</td>\n",
              "      <td>3.433987</td>\n",
              "      <td>1.945910</td>\n",
              "      <td>1.945910</td>\n",
              "      <td>2.234233</td>\n",
              "      <td>2.329571</td>\n",
              "      <td>2.269499</td>\n",
              "      <td>2.229152</td>\n",
              "      <td>2.243951</td>\n",
              "      <td>2.228023</td>\n",
              "      <td>2.337697</td>\n",
              "      <td>2.231032</td>\n",
              "      <td>2.243563</td>\n",
              "      <td>0</td>\n",
              "      <td>2.283100</td>\n",
              "      <td>2.263726</td>\n",
              "      <td>2.250728</td>\n",
              "      <td>2.258799</td>\n",
              "      <td>2.252369</td>\n",
              "      <td>0</td>\n",
              "      <td>2.244519</td>\n",
              "      <td>0.693147</td>\n",
              "      <td>2.100150</td>\n",
              "      <td>2.260230</td>\n",
              "      <td>0</td>\n",
              "      <td>3.786566</td>\n",
              "      <td>4.746823</td>\n",
              "      <td>2.137801</td>\n",
              "      <td>4.620797</td>\n",
              "      <td>4.514454</td>\n",
              "      <td>4.592294</td>\n",
              "      <td>4.58194</td>\n",
              "      <td>4.261028</td>\n",
              "      <td>5.379431</td>\n",
              "    </tr>\n",
              "    <tr>\n",
              "      <th>225250</th>\n",
              "      <td>406641</td>\n",
              "      <td>2.143230</td>\n",
              "      <td>2.182253</td>\n",
              "      <td>2.079528</td>\n",
              "      <td>3.258097</td>\n",
              "      <td>1.945910</td>\n",
              "      <td>1.609438</td>\n",
              "      <td>2.234233</td>\n",
              "      <td>2.329571</td>\n",
              "      <td>2.269499</td>\n",
              "      <td>2.229152</td>\n",
              "      <td>2.243951</td>\n",
              "      <td>2.228023</td>\n",
              "      <td>2.337697</td>\n",
              "      <td>2.231032</td>\n",
              "      <td>2.243563</td>\n",
              "      <td>0</td>\n",
              "      <td>2.283100</td>\n",
              "      <td>2.165077</td>\n",
              "      <td>2.108517</td>\n",
              "      <td>2.258799</td>\n",
              "      <td>2.252369</td>\n",
              "      <td>0</td>\n",
              "      <td>2.244519</td>\n",
              "      <td>0.693147</td>\n",
              "      <td>2.255972</td>\n",
              "      <td>2.237093</td>\n",
              "      <td>0</td>\n",
              "      <td>3.131822</td>\n",
              "      <td>5.046820</td>\n",
              "      <td>1.768148</td>\n",
              "      <td>4.620797</td>\n",
              "      <td>4.273594</td>\n",
              "      <td>4.592294</td>\n",
              "      <td>4.58194</td>\n",
              "      <td>3.924555</td>\n",
              "      <td>5.379431</td>\n",
              "    </tr>\n",
              "  </tbody>\n",
              "</table>\n",
              "</div>"
            ],
            "text/plain": [
              "        building_id  geo_level_1_id  ...        F7        F8\n",
              "66737        184292        2.143230  ...  4.243250  5.379431\n",
              "9080          85957        2.794539  ...  4.106877  5.379431\n",
              "41043        227366        2.326611  ...  4.261028  5.379431\n",
              "90163        617536        1.731230  ...  4.261028  5.379431\n",
              "225250       406641        2.143230  ...  3.924555  5.379431\n",
              "\n",
              "[5 rows x 37 columns]"
            ]
          },
          "metadata": {
            "tags": []
          },
          "execution_count": 68
        }
      ]
    },
    {
      "cell_type": "code",
      "metadata": {
        "colab": {
          "base_uri": "https://localhost:8080/",
          "height": 955
        },
        "id": "kzAsCmOr1PYE",
        "outputId": "1f68b7ae-c1a9-478d-8467-a6a4eb1ebc74"
      },
      "source": [
        "from yellowbrick.features import Rank2D\n",
        "\n",
        "visualizer = Rank2D(algorithm=\"pearson\")\n",
        "visualizer.fit_transform(X_train_fe)"
      ],
      "execution_count": null,
      "outputs": [
        {
          "output_type": "execute_result",
          "data": {
            "text/html": [
              "<div>\n",
              "<style scoped>\n",
              "    .dataframe tbody tr th:only-of-type {\n",
              "        vertical-align: middle;\n",
              "    }\n",
              "\n",
              "    .dataframe tbody tr th {\n",
              "        vertical-align: top;\n",
              "    }\n",
              "\n",
              "    .dataframe thead th {\n",
              "        text-align: right;\n",
              "    }\n",
              "</style>\n",
              "<table border=\"1\" class=\"dataframe\">\n",
              "  <thead>\n",
              "    <tr style=\"text-align: right;\">\n",
              "      <th></th>\n",
              "      <th>building_id</th>\n",
              "      <th>geo_level_1_id</th>\n",
              "      <th>geo_level_2_id</th>\n",
              "      <th>geo_level_3_id</th>\n",
              "      <th>count_floors_pre_eq</th>\n",
              "      <th>age</th>\n",
              "      <th>area_percentage</th>\n",
              "      <th>height_percentage</th>\n",
              "      <th>land_surface_condition</th>\n",
              "      <th>foundation_type</th>\n",
              "      <th>roof_type</th>\n",
              "      <th>ground_floor_type</th>\n",
              "      <th>other_floor_type</th>\n",
              "      <th>position</th>\n",
              "      <th>plan_configuration</th>\n",
              "      <th>has_superstructure_adobe_mud</th>\n",
              "      <th>has_superstructure_mud_mortar_stone</th>\n",
              "      <th>has_superstructure_stone_flag</th>\n",
              "      <th>has_superstructure_cement_mortar_stone</th>\n",
              "      <th>has_superstructure_mud_mortar_brick</th>\n",
              "      <th>has_superstructure_cement_mortar_brick</th>\n",
              "      <th>has_superstructure_timber</th>\n",
              "      <th>has_superstructure_bamboo</th>\n",
              "      <th>has_superstructure_rc_non_engineered</th>\n",
              "      <th>has_superstructure_rc_engineered</th>\n",
              "      <th>has_superstructure_other</th>\n",
              "      <th>legal_ownership_status</th>\n",
              "      <th>count_families</th>\n",
              "      <th>has_secondary_use</th>\n",
              "      <th>has_secondary_use_agriculture</th>\n",
              "      <th>has_secondary_use_hotel</th>\n",
              "      <th>has_secondary_use_rental</th>\n",
              "      <th>has_secondary_use_industry</th>\n",
              "      <th>has_secondary_use_other</th>\n",
              "    </tr>\n",
              "  </thead>\n",
              "  <tbody>\n",
              "    <tr>\n",
              "      <th>170377</th>\n",
              "      <td>739427</td>\n",
              "      <td>1.942074</td>\n",
              "      <td>1.676139</td>\n",
              "      <td>2.043431</td>\n",
              "      <td>1.386294</td>\n",
              "      <td>3.258097</td>\n",
              "      <td>1.098612</td>\n",
              "      <td>1.791759</td>\n",
              "      <td>2.251430</td>\n",
              "      <td>2.329752</td>\n",
              "      <td>2.269715</td>\n",
              "      <td>2.309266</td>\n",
              "      <td>2.297971</td>\n",
              "      <td>2.229486</td>\n",
              "      <td>2.279423</td>\n",
              "      <td>2.347866</td>\n",
              "      <td>1.922090</td>\n",
              "      <td>2.231378</td>\n",
              "      <td>0</td>\n",
              "      <td>0</td>\n",
              "      <td>2.283197</td>\n",
              "      <td>2.263805</td>\n",
              "      <td>0</td>\n",
              "      <td>2.259074</td>\n",
              "      <td>2.252682</td>\n",
              "      <td>0</td>\n",
              "      <td>2.244698</td>\n",
              "      <td>0.693147</td>\n",
              "      <td>2.256289</td>\n",
              "      <td>0</td>\n",
              "      <td>0</td>\n",
              "      <td>0</td>\n",
              "      <td>0</td>\n",
              "      <td>0</td>\n",
              "    </tr>\n",
              "    <tr>\n",
              "      <th>184895</th>\n",
              "      <td>17201</td>\n",
              "      <td>2.165634</td>\n",
              "      <td>2.439337</td>\n",
              "      <td>2.297089</td>\n",
              "      <td>1.386294</td>\n",
              "      <td>3.713572</td>\n",
              "      <td>2.397895</td>\n",
              "      <td>2.197225</td>\n",
              "      <td>2.295817</td>\n",
              "      <td>2.329752</td>\n",
              "      <td>2.269715</td>\n",
              "      <td>2.309266</td>\n",
              "      <td>2.315472</td>\n",
              "      <td>2.309835</td>\n",
              "      <td>2.244190</td>\n",
              "      <td>2.228304</td>\n",
              "      <td>2.337704</td>\n",
              "      <td>2.231378</td>\n",
              "      <td>0</td>\n",
              "      <td>0</td>\n",
              "      <td>2.283197</td>\n",
              "      <td>2.263805</td>\n",
              "      <td>0</td>\n",
              "      <td>2.259074</td>\n",
              "      <td>2.252682</td>\n",
              "      <td>0</td>\n",
              "      <td>2.244698</td>\n",
              "      <td>0.000000</td>\n",
              "      <td>2.100317</td>\n",
              "      <td>0</td>\n",
              "      <td>0</td>\n",
              "      <td>1</td>\n",
              "      <td>0</td>\n",
              "      <td>0</td>\n",
              "    </tr>\n",
              "    <tr>\n",
              "      <th>26740</th>\n",
              "      <td>723805</td>\n",
              "      <td>2.300012</td>\n",
              "      <td>2.630278</td>\n",
              "      <td>2.641296</td>\n",
              "      <td>1.098612</td>\n",
              "      <td>3.828641</td>\n",
              "      <td>2.197225</td>\n",
              "      <td>1.791759</td>\n",
              "      <td>2.234640</td>\n",
              "      <td>2.329752</td>\n",
              "      <td>2.269715</td>\n",
              "      <td>2.309266</td>\n",
              "      <td>2.315472</td>\n",
              "      <td>2.229486</td>\n",
              "      <td>2.244190</td>\n",
              "      <td>2.228304</td>\n",
              "      <td>2.337704</td>\n",
              "      <td>2.231378</td>\n",
              "      <td>0</td>\n",
              "      <td>0</td>\n",
              "      <td>2.283197</td>\n",
              "      <td>2.263805</td>\n",
              "      <td>0</td>\n",
              "      <td>2.259074</td>\n",
              "      <td>2.252682</td>\n",
              "      <td>0</td>\n",
              "      <td>2.407406</td>\n",
              "      <td>0.693147</td>\n",
              "      <td>2.256289</td>\n",
              "      <td>0</td>\n",
              "      <td>0</td>\n",
              "      <td>0</td>\n",
              "      <td>0</td>\n",
              "      <td>0</td>\n",
              "    </tr>\n",
              "    <tr>\n",
              "      <th>198210</th>\n",
              "      <td>891512</td>\n",
              "      <td>2.300012</td>\n",
              "      <td>2.136584</td>\n",
              "      <td>2.081517</td>\n",
              "      <td>1.098612</td>\n",
              "      <td>3.433987</td>\n",
              "      <td>2.079442</td>\n",
              "      <td>1.609438</td>\n",
              "      <td>2.234640</td>\n",
              "      <td>2.329752</td>\n",
              "      <td>2.269715</td>\n",
              "      <td>1.637759</td>\n",
              "      <td>2.315472</td>\n",
              "      <td>2.229486</td>\n",
              "      <td>2.244190</td>\n",
              "      <td>2.228304</td>\n",
              "      <td>2.337704</td>\n",
              "      <td>2.231378</td>\n",
              "      <td>1</td>\n",
              "      <td>0</td>\n",
              "      <td>2.283197</td>\n",
              "      <td>2.263805</td>\n",
              "      <td>0</td>\n",
              "      <td>2.259074</td>\n",
              "      <td>2.252682</td>\n",
              "      <td>0</td>\n",
              "      <td>2.244698</td>\n",
              "      <td>0.693147</td>\n",
              "      <td>2.256289</td>\n",
              "      <td>0</td>\n",
              "      <td>0</td>\n",
              "      <td>0</td>\n",
              "      <td>0</td>\n",
              "      <td>0</td>\n",
              "    </tr>\n",
              "    <tr>\n",
              "      <th>254313</th>\n",
              "      <td>484350</td>\n",
              "      <td>2.794519</td>\n",
              "      <td>2.946126</td>\n",
              "      <td>2.847774</td>\n",
              "      <td>1.386294</td>\n",
              "      <td>3.433987</td>\n",
              "      <td>1.945910</td>\n",
              "      <td>2.079442</td>\n",
              "      <td>2.234640</td>\n",
              "      <td>2.329752</td>\n",
              "      <td>2.321114</td>\n",
              "      <td>2.309266</td>\n",
              "      <td>2.315472</td>\n",
              "      <td>2.229486</td>\n",
              "      <td>2.244190</td>\n",
              "      <td>2.228304</td>\n",
              "      <td>2.337704</td>\n",
              "      <td>2.231378</td>\n",
              "      <td>0</td>\n",
              "      <td>0</td>\n",
              "      <td>2.283197</td>\n",
              "      <td>2.263805</td>\n",
              "      <td>0</td>\n",
              "      <td>2.259074</td>\n",
              "      <td>2.252682</td>\n",
              "      <td>0</td>\n",
              "      <td>2.244698</td>\n",
              "      <td>0.693147</td>\n",
              "      <td>2.256289</td>\n",
              "      <td>0</td>\n",
              "      <td>0</td>\n",
              "      <td>0</td>\n",
              "      <td>0</td>\n",
              "      <td>0</td>\n",
              "    </tr>\n",
              "    <tr>\n",
              "      <th>...</th>\n",
              "      <td>...</td>\n",
              "      <td>...</td>\n",
              "      <td>...</td>\n",
              "      <td>...</td>\n",
              "      <td>...</td>\n",
              "      <td>...</td>\n",
              "      <td>...</td>\n",
              "      <td>...</td>\n",
              "      <td>...</td>\n",
              "      <td>...</td>\n",
              "      <td>...</td>\n",
              "      <td>...</td>\n",
              "      <td>...</td>\n",
              "      <td>...</td>\n",
              "      <td>...</td>\n",
              "      <td>...</td>\n",
              "      <td>...</td>\n",
              "      <td>...</td>\n",
              "      <td>...</td>\n",
              "      <td>...</td>\n",
              "      <td>...</td>\n",
              "      <td>...</td>\n",
              "      <td>...</td>\n",
              "      <td>...</td>\n",
              "      <td>...</td>\n",
              "      <td>...</td>\n",
              "      <td>...</td>\n",
              "      <td>...</td>\n",
              "      <td>...</td>\n",
              "      <td>...</td>\n",
              "      <td>...</td>\n",
              "      <td>...</td>\n",
              "      <td>...</td>\n",
              "      <td>...</td>\n",
              "    </tr>\n",
              "    <tr>\n",
              "      <th>259178</th>\n",
              "      <td>79888</td>\n",
              "      <td>1.942074</td>\n",
              "      <td>2.103228</td>\n",
              "      <td>2.241218</td>\n",
              "      <td>1.098612</td>\n",
              "      <td>3.258097</td>\n",
              "      <td>1.945910</td>\n",
              "      <td>1.791759</td>\n",
              "      <td>2.234640</td>\n",
              "      <td>2.329752</td>\n",
              "      <td>2.321114</td>\n",
              "      <td>2.309266</td>\n",
              "      <td>2.297971</td>\n",
              "      <td>2.229486</td>\n",
              "      <td>2.244190</td>\n",
              "      <td>2.228304</td>\n",
              "      <td>2.337704</td>\n",
              "      <td>2.231378</td>\n",
              "      <td>0</td>\n",
              "      <td>0</td>\n",
              "      <td>2.283197</td>\n",
              "      <td>2.263805</td>\n",
              "      <td>0</td>\n",
              "      <td>2.259074</td>\n",
              "      <td>2.252682</td>\n",
              "      <td>0</td>\n",
              "      <td>2.244698</td>\n",
              "      <td>0.000000</td>\n",
              "      <td>2.256289</td>\n",
              "      <td>0</td>\n",
              "      <td>0</td>\n",
              "      <td>0</td>\n",
              "      <td>0</td>\n",
              "      <td>0</td>\n",
              "    </tr>\n",
              "    <tr>\n",
              "      <th>103694</th>\n",
              "      <td>442764</td>\n",
              "      <td>2.342461</td>\n",
              "      <td>2.274673</td>\n",
              "      <td>2.810617</td>\n",
              "      <td>1.098612</td>\n",
              "      <td>1.791759</td>\n",
              "      <td>1.791759</td>\n",
              "      <td>1.609438</td>\n",
              "      <td>2.251430</td>\n",
              "      <td>2.329752</td>\n",
              "      <td>2.269715</td>\n",
              "      <td>2.309266</td>\n",
              "      <td>2.315472</td>\n",
              "      <td>2.229486</td>\n",
              "      <td>2.244190</td>\n",
              "      <td>2.228304</td>\n",
              "      <td>2.337704</td>\n",
              "      <td>2.231378</td>\n",
              "      <td>0</td>\n",
              "      <td>0</td>\n",
              "      <td>2.283197</td>\n",
              "      <td>2.165866</td>\n",
              "      <td>0</td>\n",
              "      <td>2.259074</td>\n",
              "      <td>2.252682</td>\n",
              "      <td>0</td>\n",
              "      <td>2.244698</td>\n",
              "      <td>0.693147</td>\n",
              "      <td>2.256289</td>\n",
              "      <td>0</td>\n",
              "      <td>0</td>\n",
              "      <td>0</td>\n",
              "      <td>0</td>\n",
              "      <td>0</td>\n",
              "    </tr>\n",
              "    <tr>\n",
              "      <th>131932</th>\n",
              "      <td>17256</td>\n",
              "      <td>2.479752</td>\n",
              "      <td>2.150902</td>\n",
              "      <td>2.075083</td>\n",
              "      <td>1.386294</td>\n",
              "      <td>3.044522</td>\n",
              "      <td>3.135494</td>\n",
              "      <td>2.079442</td>\n",
              "      <td>2.295817</td>\n",
              "      <td>2.329752</td>\n",
              "      <td>2.321114</td>\n",
              "      <td>2.309266</td>\n",
              "      <td>2.315472</td>\n",
              "      <td>2.229486</td>\n",
              "      <td>2.244190</td>\n",
              "      <td>2.228304</td>\n",
              "      <td>2.337704</td>\n",
              "      <td>2.231378</td>\n",
              "      <td>0</td>\n",
              "      <td>0</td>\n",
              "      <td>2.283197</td>\n",
              "      <td>2.165866</td>\n",
              "      <td>0</td>\n",
              "      <td>2.259074</td>\n",
              "      <td>2.252682</td>\n",
              "      <td>0</td>\n",
              "      <td>2.244698</td>\n",
              "      <td>0.693147</td>\n",
              "      <td>2.100317</td>\n",
              "      <td>0</td>\n",
              "      <td>1</td>\n",
              "      <td>0</td>\n",
              "      <td>0</td>\n",
              "      <td>0</td>\n",
              "    </tr>\n",
              "    <tr>\n",
              "      <th>146867</th>\n",
              "      <td>496181</td>\n",
              "      <td>2.342461</td>\n",
              "      <td>2.165885</td>\n",
              "      <td>2.100682</td>\n",
              "      <td>1.386294</td>\n",
              "      <td>2.397895</td>\n",
              "      <td>2.484907</td>\n",
              "      <td>2.079442</td>\n",
              "      <td>2.234640</td>\n",
              "      <td>2.329752</td>\n",
              "      <td>2.321114</td>\n",
              "      <td>2.309266</td>\n",
              "      <td>2.315472</td>\n",
              "      <td>2.229486</td>\n",
              "      <td>2.244190</td>\n",
              "      <td>2.228304</td>\n",
              "      <td>2.337704</td>\n",
              "      <td>2.231378</td>\n",
              "      <td>0</td>\n",
              "      <td>0</td>\n",
              "      <td>2.283197</td>\n",
              "      <td>2.263805</td>\n",
              "      <td>0</td>\n",
              "      <td>2.259074</td>\n",
              "      <td>2.252682</td>\n",
              "      <td>0</td>\n",
              "      <td>2.244698</td>\n",
              "      <td>0.693147</td>\n",
              "      <td>2.256289</td>\n",
              "      <td>0</td>\n",
              "      <td>0</td>\n",
              "      <td>0</td>\n",
              "      <td>0</td>\n",
              "      <td>0</td>\n",
              "    </tr>\n",
              "    <tr>\n",
              "      <th>121958</th>\n",
              "      <td>246461</td>\n",
              "      <td>2.300012</td>\n",
              "      <td>2.016907</td>\n",
              "      <td>1.956507</td>\n",
              "      <td>1.098612</td>\n",
              "      <td>0.000000</td>\n",
              "      <td>2.079442</td>\n",
              "      <td>1.791759</td>\n",
              "      <td>2.234640</td>\n",
              "      <td>2.329752</td>\n",
              "      <td>2.269715</td>\n",
              "      <td>2.309266</td>\n",
              "      <td>2.315472</td>\n",
              "      <td>2.229486</td>\n",
              "      <td>2.244190</td>\n",
              "      <td>2.228304</td>\n",
              "      <td>2.337704</td>\n",
              "      <td>2.231378</td>\n",
              "      <td>0</td>\n",
              "      <td>0</td>\n",
              "      <td>2.283197</td>\n",
              "      <td>2.263805</td>\n",
              "      <td>0</td>\n",
              "      <td>2.259074</td>\n",
              "      <td>2.252682</td>\n",
              "      <td>0</td>\n",
              "      <td>2.244698</td>\n",
              "      <td>0.693147</td>\n",
              "      <td>2.256289</td>\n",
              "      <td>0</td>\n",
              "      <td>0</td>\n",
              "      <td>0</td>\n",
              "      <td>0</td>\n",
              "      <td>0</td>\n",
              "    </tr>\n",
              "  </tbody>\n",
              "</table>\n",
              "<p>208480 rows × 34 columns</p>\n",
              "</div>"
            ],
            "text/plain": [
              "        building_id  ...  has_secondary_use_other\n",
              "170377       739427  ...                        0\n",
              "184895        17201  ...                        0\n",
              "26740        723805  ...                        0\n",
              "198210       891512  ...                        0\n",
              "254313       484350  ...                        0\n",
              "...             ...  ...                      ...\n",
              "259178        79888  ...                        0\n",
              "103694       442764  ...                        0\n",
              "131932        17256  ...                        0\n",
              "146867       496181  ...                        0\n",
              "121958       246461  ...                        0\n",
              "\n",
              "[208480 rows x 34 columns]"
            ]
          },
          "metadata": {
            "tags": []
          },
          "execution_count": 60
        },
        {
          "output_type": "display_data",
          "data": {
            "image/png": "[encoded data removed]",
            "text/plain": [
              "<Figure size 576x396 with 2 Axes>"
            ]
          },
          "metadata": {
            "tags": []
          }
        }
      ]
    },
    {
      "cell_type": "code",
      "metadata": {
        "id": "LDzCPFQbIbrU"
      },
      "source": [
        "#@title\n",
        "#numeric_features = adults_data.select_dtypes(include=['int64', 'float64']).columns\n",
        "#categorical_features = adults_data.select_dtypes(include=['object']).drop(['income'], axis=1).columns\n",
        "\n",
        "#X = adults_data.drop('income', axis=1)\n",
        "#y = adults_data['income']\n",
        "\n",
        "#le = preprocessing.LabelEncoder()\n",
        "#label_encoder = le.fit(y)\n",
        "#y = label_encoder.transform(y)\n",
        "\n",
        "#X_train, X_test, y_train, y_test = train_test_split(X, y, test_size=0.2)"
      ],
      "execution_count": null,
      "outputs": []
    },
    {
      "cell_type": "markdown",
      "metadata": {
        "id": "tF8ghpREut8F"
      },
      "source": [
        "THE FOLLOWING PIPELINE CODE IS TELLING US WHICH CATEGORY ENCODING IS BEST FOR A SIMPLE RANDOM FOREST MODEL"
      ]
    },
    {
      "cell_type": "code",
      "metadata": {
        "colab": {
          "base_uri": "https://localhost:8080/"
        },
        "id": "T3LbAbvWHrVo",
        "cellView": "form",
        "outputId": "b9c8efd9-634b-43ea-e57f-adfdfe41ca79"
      },
      "source": [
        "#@title\n",
        "encoder_list = [ce.hashing.HashingEncoder,\n",
        "                ce.helmert.HelmertEncoder,\n",
        "                ce.james_stein.JamesSteinEncoder,\n",
        "                ce.m_estimate.MEstimateEncoder,\n",
        "                ce.polynomial.PolynomialEncoder,\n",
        "                ce.woe.WOEEncoder\n",
        "                ]\n",
        "for encoder in encoder_list:\n",
        "    \n",
        "    categorical_transformer = Pipeline(steps=[\n",
        "    ('imputer', SimpleImputer(strategy='constant', fill_value='missing')),\n",
        "    ('woe', encoder())])\n",
        "    \n",
        "    preprocessor = ColumnTransformer(\n",
        "    transformers=[\n",
        "        ('cat', categorical_transformer, categorical_features)])\n",
        "    \n",
        "    pipe = Pipeline(steps=[('preprocessor', preprocessor),\n",
        "                      ('classifier', RandomForestClassifier(n_estimators=500))])\n",
        "    \n",
        "    model = pipe.fit(X_train, y_train)\n",
        "    \n",
        "    y_pred = model.predict(X_test)\n",
        "    print(encoder)\n",
        "    print(f1_score(y_test, y_pred, average='macro'))"
      ],
      "execution_count": null,
      "outputs": [
        {
          "output_type": "stream",
          "text": [
            "<class 'category_encoders.hashing.HashingEncoder'>\n",
            "0.44247057449246663\n"
          ],
          "name": "stdout"
        }
      ]
    },
    {
      "cell_type": "markdown",
      "metadata": {
        "id": "xv-NkSu7u5Jw"
      },
      "source": [
        "FINDING BEST MODEL USING FLAML "
      ]
    },
    {
      "cell_type": "code",
      "metadata": {
        "id": "QhBQ4qTmDlmP"
      },
      "source": [
        "from flaml import AutoML\n",
        "automl = AutoML()\n",
        "\n",
        "\n",
        "settings = {\n",
        "    \"metric\": 'micro_f1',  # primary metrics can be chosen from: ['accuracy','roc_auc','f1','log_loss','mae','mse','r2']\n",
        "    \"task\": 'classification',  # task type    \n",
        "    \"log_file_name\": 'earthquake_experiment.log',\n",
        "    \"eval_method\":'auto',\n",
        "    \"model_history\":True\n",
        "}"
      ],
      "execution_count": 69,
      "outputs": []
    },
    {
      "cell_type": "code",
      "metadata": {
        "colab": {
          "base_uri": "https://localhost:8080/"
        },
        "id": "dNyAnij19m1w",
        "outputId": "73c63805-fc64-478c-cd4e-2a4aa838eec3"
      },
      "source": [
        "automl.fit(X_train=X_train_fe, y_train=y_train, **settings)"
      ],
      "execution_count": 70,
      "outputs": [
        {
          "output_type": "stream",
          "text": [
            "[flaml.automl: 07-31 22:52:25] {913} INFO - Evaluation method: holdout\n",
            "[flaml.automl: 07-31 22:52:25] {607} INFO - Using StratifiedKFold\n",
            "[flaml.automl: 07-31 22:52:25] {934} INFO - Minimizing error metric: 1-micro_f1\n",
            "[flaml.automl: 07-31 22:52:25] {954} INFO - List of ML learners in AutoML Run: ['lgbm', 'rf', 'catboost', 'xgboost', 'extra_tree', 'lrl1']\n",
            "[flaml.automl: 07-31 22:52:25] {1020} INFO - iteration 0, current learner lgbm\n",
            "[flaml.automl: 07-31 22:52:25] {1180} INFO -  at 2.3s,\tbest lgbm's error=0.2928,\tbest lgbm's error=0.2928\n",
            "[flaml.automl: 07-31 22:52:25] {1020} INFO - iteration 1, current learner lgbm\n",
            "[flaml.automl: 07-31 22:52:25] {1180} INFO -  at 2.5s,\tbest lgbm's error=0.2928,\tbest lgbm's error=0.2928\n",
            "[flaml.automl: 07-31 22:52:25] {1020} INFO - iteration 2, current learner lgbm\n",
            "[flaml.automl: 07-31 22:52:26] {1180} INFO -  at 2.6s,\tbest lgbm's error=0.2659,\tbest lgbm's error=0.2659\n",
            "[flaml.automl: 07-31 22:52:26] {1020} INFO - iteration 3, current learner xgboost\n",
            "[flaml.automl: 07-31 22:52:26] {1180} INFO -  at 2.8s,\tbest xgboost's error=0.2711,\tbest lgbm's error=0.2659\n",
            "[flaml.automl: 07-31 22:52:26] {1020} INFO - iteration 4, current learner lgbm\n",
            "[flaml.automl: 07-31 22:52:26] {1180} INFO -  at 3.0s,\tbest lgbm's error=0.2632,\tbest lgbm's error=0.2632\n",
            "[flaml.automl: 07-31 22:52:26] {1020} INFO - iteration 5, current learner lgbm\n",
            "[flaml.automl: 07-31 22:52:26] {1180} INFO -  at 3.1s,\tbest lgbm's error=0.2630,\tbest lgbm's error=0.2630\n",
            "[flaml.automl: 07-31 22:52:26] {1020} INFO - iteration 6, current learner lgbm\n",
            "[flaml.automl: 07-31 22:52:26] {1180} INFO -  at 3.3s,\tbest lgbm's error=0.2630,\tbest lgbm's error=0.2630\n",
            "[flaml.automl: 07-31 22:52:26] {1020} INFO - iteration 7, current learner lgbm\n",
            "[flaml.automl: 07-31 22:52:27] {1180} INFO -  at 3.6s,\tbest lgbm's error=0.2564,\tbest lgbm's error=0.2564\n",
            "[flaml.automl: 07-31 22:52:27] {1020} INFO - iteration 8, current learner lgbm\n",
            "[flaml.automl: 07-31 22:52:27] {1180} INFO -  at 3.9s,\tbest lgbm's error=0.2564,\tbest lgbm's error=0.2564\n",
            "[flaml.automl: 07-31 22:52:27] {1020} INFO - iteration 9, current learner xgboost\n",
            "[flaml.automl: 07-31 22:52:27] {1180} INFO -  at 4.1s,\tbest xgboost's error=0.2711,\tbest lgbm's error=0.2564\n",
            "[flaml.automl: 07-31 22:52:27] {1020} INFO - iteration 10, current learner xgboost\n",
            "[flaml.automl: 07-31 22:52:27] {1180} INFO -  at 4.2s,\tbest xgboost's error=0.2691,\tbest lgbm's error=0.2564\n",
            "[flaml.automl: 07-31 22:52:27] {1020} INFO - iteration 11, current learner extra_tree\n",
            "[flaml.automl: 07-31 22:52:28] {1180} INFO -  at 4.6s,\tbest extra_tree's error=0.3024,\tbest lgbm's error=0.2564\n",
            "[flaml.automl: 07-31 22:52:28] {1020} INFO - iteration 12, current learner rf\n",
            "[flaml.automl: 07-31 22:52:28] {1180} INFO -  at 5.0s,\tbest rf's error=0.3020,\tbest lgbm's error=0.2564\n",
            "[flaml.automl: 07-31 22:52:28] {1020} INFO - iteration 13, current learner rf\n",
            "[flaml.automl: 07-31 22:52:28] {1180} INFO -  at 5.3s,\tbest rf's error=0.2641,\tbest lgbm's error=0.2564\n",
            "[flaml.automl: 07-31 22:52:28] {1020} INFO - iteration 14, current learner rf\n",
            "[flaml.automl: 07-31 22:52:29] {1180} INFO -  at 5.7s,\tbest rf's error=0.2641,\tbest lgbm's error=0.2564\n",
            "[flaml.automl: 07-31 22:52:29] {1020} INFO - iteration 15, current learner extra_tree\n",
            "[flaml.automl: 07-31 22:52:29] {1180} INFO -  at 6.0s,\tbest extra_tree's error=0.2708,\tbest lgbm's error=0.2564\n",
            "[flaml.automl: 07-31 22:52:29] {1020} INFO - iteration 16, current learner lgbm\n",
            "[flaml.automl: 07-31 22:52:29] {1180} INFO -  at 6.3s,\tbest lgbm's error=0.2564,\tbest lgbm's error=0.2564\n",
            "[flaml.automl: 07-31 22:52:29] {1020} INFO - iteration 17, current learner extra_tree\n",
            "[flaml.automl: 07-31 22:52:30] {1180} INFO -  at 6.7s,\tbest extra_tree's error=0.2708,\tbest lgbm's error=0.2564\n",
            "[flaml.automl: 07-31 22:52:30] {1020} INFO - iteration 18, current learner lgbm\n",
            "[flaml.automl: 07-31 22:52:30] {1180} INFO -  at 7.0s,\tbest lgbm's error=0.2564,\tbest lgbm's error=0.2564\n",
            "[flaml.automl: 07-31 22:52:30] {1020} INFO - iteration 19, current learner rf\n",
            "[flaml.automl: 07-31 22:52:31] {1180} INFO -  at 7.6s,\tbest rf's error=0.2641,\tbest lgbm's error=0.2564\n",
            "[flaml.automl: 07-31 22:52:31] {1020} INFO - iteration 20, current learner rf\n",
            "[flaml.automl: 07-31 22:52:31] {1180} INFO -  at 7.9s,\tbest rf's error=0.2597,\tbest lgbm's error=0.2564\n",
            "[flaml.automl: 07-31 22:52:31] {1020} INFO - iteration 21, current learner extra_tree\n",
            "[flaml.automl: 07-31 22:52:31] {1180} INFO -  at 8.4s,\tbest extra_tree's error=0.2692,\tbest lgbm's error=0.2564\n",
            "[flaml.automl: 07-31 22:52:31] {1020} INFO - iteration 22, current learner lgbm\n",
            "[flaml.automl: 07-31 22:52:32] {1180} INFO -  at 8.6s,\tbest lgbm's error=0.2564,\tbest lgbm's error=0.2564\n",
            "[flaml.automl: 07-31 22:52:32] {1020} INFO - iteration 23, current learner lgbm\n",
            "[flaml.automl: 07-31 22:52:32] {1180} INFO -  at 8.9s,\tbest lgbm's error=0.2564,\tbest lgbm's error=0.2564\n",
            "[flaml.automl: 07-31 22:52:32] {1020} INFO - iteration 24, current learner rf\n",
            "[flaml.automl: 07-31 22:52:32] {1180} INFO -  at 9.4s,\tbest rf's error=0.2597,\tbest lgbm's error=0.2564\n",
            "[flaml.automl: 07-31 22:52:32] {1020} INFO - iteration 25, current learner extra_tree\n",
            "[flaml.automl: 07-31 22:52:33] {1180} INFO -  at 9.8s,\tbest extra_tree's error=0.2660,\tbest lgbm's error=0.2564\n",
            "[flaml.automl: 07-31 22:52:33] {1020} INFO - iteration 26, current learner lgbm\n",
            "[flaml.automl: 07-31 22:52:34] {1180} INFO -  at 10.6s,\tbest lgbm's error=0.2529,\tbest lgbm's error=0.2529\n",
            "[flaml.automl: 07-31 22:52:34] {1020} INFO - iteration 27, current learner xgboost\n",
            "[flaml.automl: 07-31 22:52:34] {1180} INFO -  at 10.8s,\tbest xgboost's error=0.2654,\tbest lgbm's error=0.2529\n",
            "[flaml.automl: 07-31 22:52:34] {1020} INFO - iteration 28, current learner extra_tree\n",
            "[flaml.automl: 07-31 22:52:34] {1180} INFO -  at 11.3s,\tbest extra_tree's error=0.2660,\tbest lgbm's error=0.2529\n",
            "[flaml.automl: 07-31 22:52:34] {1020} INFO - iteration 29, current learner xgboost\n",
            "[flaml.automl: 07-31 22:52:34] {1180} INFO -  at 11.5s,\tbest xgboost's error=0.2641,\tbest lgbm's error=0.2529\n",
            "[flaml.automl: 07-31 22:52:34] {1020} INFO - iteration 30, current learner lgbm\n",
            "[flaml.automl: 07-31 22:52:35] {1180} INFO -  at 12.0s,\tbest lgbm's error=0.2529,\tbest lgbm's error=0.2529\n",
            "[flaml.automl: 07-31 22:52:35] {1020} INFO - iteration 31, current learner lgbm\n",
            "[flaml.automl: 07-31 22:52:36] {1180} INFO -  at 13.0s,\tbest lgbm's error=0.2529,\tbest lgbm's error=0.2529\n",
            "[flaml.automl: 07-31 22:52:36] {1020} INFO - iteration 32, current learner lgbm\n",
            "[flaml.automl: 07-31 22:52:37] {1180} INFO -  at 13.7s,\tbest lgbm's error=0.2529,\tbest lgbm's error=0.2529\n",
            "[flaml.automl: 07-31 22:52:37] {1020} INFO - iteration 33, current learner extra_tree\n",
            "[flaml.automl: 07-31 22:52:37] {1180} INFO -  at 14.1s,\tbest extra_tree's error=0.2632,\tbest lgbm's error=0.2529\n",
            "[flaml.automl: 07-31 22:52:37] {1020} INFO - iteration 34, current learner lgbm\n",
            "[flaml.automl: 07-31 22:52:38] {1180} INFO -  at 15.0s,\tbest lgbm's error=0.2529,\tbest lgbm's error=0.2529\n",
            "[flaml.automl: 07-31 22:52:38] {1020} INFO - iteration 35, current learner catboost\n",
            "[flaml.automl: 07-31 22:52:39] {1180} INFO -  at 15.7s,\tbest catboost's error=0.2564,\tbest lgbm's error=0.2529\n",
            "[flaml.automl: 07-31 22:52:39] {1020} INFO - iteration 36, current learner catboost\n",
            "[flaml.automl: 07-31 22:52:39] {1180} INFO -  at 16.3s,\tbest catboost's error=0.2564,\tbest lgbm's error=0.2529\n",
            "[flaml.automl: 07-31 22:52:39] {1020} INFO - iteration 37, current learner extra_tree\n",
            "[flaml.automl: 07-31 22:52:40] {1180} INFO -  at 16.7s,\tbest extra_tree's error=0.2567,\tbest lgbm's error=0.2529\n",
            "[flaml.automl: 07-31 22:52:40] {1020} INFO - iteration 38, current learner xgboost\n",
            "[flaml.automl: 07-31 22:52:40] {1180} INFO -  at 16.9s,\tbest xgboost's error=0.2641,\tbest lgbm's error=0.2529\n",
            "[flaml.automl: 07-31 22:52:40] {1020} INFO - iteration 39, current learner extra_tree\n",
            "[flaml.automl: 07-31 22:52:40] {1180} INFO -  at 17.3s,\tbest extra_tree's error=0.2567,\tbest lgbm's error=0.2529\n",
            "[flaml.automl: 07-31 22:52:40] {1020} INFO - iteration 40, current learner catboost\n",
            "[flaml.automl: 07-31 22:52:41] {1180} INFO -  at 17.8s,\tbest catboost's error=0.2535,\tbest lgbm's error=0.2529\n",
            "[flaml.automl: 07-31 22:52:41] {1020} INFO - iteration 41, current learner extra_tree\n",
            "[flaml.automl: 07-31 22:52:41] {1180} INFO -  at 18.4s,\tbest extra_tree's error=0.2567,\tbest lgbm's error=0.2529\n",
            "[flaml.automl: 07-31 22:52:41] {1020} INFO - iteration 42, current learner extra_tree\n",
            "[flaml.automl: 07-31 22:52:42] {1180} INFO -  at 19.0s,\tbest extra_tree's error=0.2567,\tbest lgbm's error=0.2529\n",
            "[flaml.automl: 07-31 22:52:42] {1020} INFO - iteration 43, current learner lgbm\n",
            "[flaml.automl: 07-31 22:52:43] {1180} INFO -  at 19.7s,\tbest lgbm's error=0.2529,\tbest lgbm's error=0.2529\n",
            "[flaml.automl: 07-31 22:52:43] {1020} INFO - iteration 44, current learner xgboost\n",
            "[flaml.automl: 07-31 22:52:43] {1180} INFO -  at 20.0s,\tbest xgboost's error=0.2575,\tbest lgbm's error=0.2529\n",
            "[flaml.automl: 07-31 22:52:43] {1020} INFO - iteration 45, current learner extra_tree\n",
            "[flaml.automl: 07-31 22:52:44] {1180} INFO -  at 20.5s,\tbest extra_tree's error=0.2567,\tbest lgbm's error=0.2529\n",
            "[flaml.automl: 07-31 22:52:44] {1020} INFO - iteration 46, current learner xgboost\n",
            "[flaml.automl: 07-31 22:52:44] {1180} INFO -  at 21.0s,\tbest xgboost's error=0.2575,\tbest lgbm's error=0.2529\n",
            "[flaml.automl: 07-31 22:52:44] {1020} INFO - iteration 47, current learner catboost\n",
            "[flaml.automl: 07-31 22:52:44] {1180} INFO -  at 21.5s,\tbest catboost's error=0.2535,\tbest lgbm's error=0.2529\n",
            "[flaml.automl: 07-31 22:52:44] {1020} INFO - iteration 48, current learner xgboost\n",
            "[flaml.automl: 07-31 22:52:45] {1180} INFO -  at 21.8s,\tbest xgboost's error=0.2575,\tbest lgbm's error=0.2529\n",
            "[flaml.automl: 07-31 22:52:45] {1020} INFO - iteration 49, current learner lgbm\n",
            "[flaml.automl: 07-31 22:52:48] {1180} INFO -  at 25.1s,\tbest lgbm's error=0.2509,\tbest lgbm's error=0.2509\n",
            "[flaml.automl: 07-31 22:52:48] {1020} INFO - iteration 50, current learner catboost\n",
            "[flaml.automl: 07-31 22:52:49] {1180} INFO -  at 25.6s,\tbest catboost's error=0.2534,\tbest lgbm's error=0.2509\n",
            "[flaml.automl: 07-31 22:52:49] {1020} INFO - iteration 51, current learner extra_tree\n",
            "[flaml.automl: 07-31 22:52:50] {1180} INFO -  at 26.8s,\tbest extra_tree's error=0.2560,\tbest lgbm's error=0.2509\n",
            "[flaml.automl: 07-31 22:52:50] {1020} INFO - iteration 52, current learner rf\n",
            "[flaml.automl: 07-31 22:52:50] {1180} INFO -  at 27.2s,\tbest rf's error=0.2597,\tbest lgbm's error=0.2509\n",
            "[flaml.automl: 07-31 22:52:50] {1020} INFO - iteration 53, current learner rf\n",
            "[flaml.automl: 07-31 22:52:51] {1180} INFO -  at 28.1s,\tbest rf's error=0.2570,\tbest lgbm's error=0.2509\n",
            "[flaml.automl: 07-31 22:52:51] {1020} INFO - iteration 54, current learner lgbm\n",
            "[flaml.automl: 07-31 22:52:54] {1180} INFO -  at 31.0s,\tbest lgbm's error=0.2509,\tbest lgbm's error=0.2509\n",
            "[flaml.automl: 07-31 22:52:54] {1020} INFO - iteration 55, current learner lgbm\n",
            "[flaml.automl: 07-31 22:52:59] {1180} INFO -  at 35.7s,\tbest lgbm's error=0.2439,\tbest lgbm's error=0.2439\n",
            "[flaml.automl: 07-31 22:52:59] {1020} INFO - iteration 56, current learner xgboost\n",
            "[flaml.automl: 07-31 22:52:59] {1180} INFO -  at 36.2s,\tbest xgboost's error=0.2575,\tbest lgbm's error=0.2439\n",
            "[flaml.automl: 07-31 22:52:59] {1020} INFO - iteration 57, current learner lgbm\n",
            "[flaml.automl: 07-31 22:53:03] {1180} INFO -  at 40.2s,\tbest lgbm's error=0.2439,\tbest lgbm's error=0.2439\n",
            "[flaml.automl: 07-31 22:53:03] {1020} INFO - iteration 58, current learner lgbm\n",
            "[flaml.automl: 07-31 22:53:09] {1180} INFO -  at 46.1s,\tbest lgbm's error=0.2433,\tbest lgbm's error=0.2433\n",
            "[flaml.automl: 07-31 22:53:09] {1020} INFO - iteration 59, current learner rf\n",
            "[flaml.automl: 07-31 22:53:10] {1180} INFO -  at 46.6s,\tbest rf's error=0.2570,\tbest lgbm's error=0.2433\n",
            "[flaml.automl: 07-31 22:53:10] {1020} INFO - iteration 60, current learner lgbm\n",
            "[flaml.automl: 07-31 22:53:15] {1180} INFO -  at 51.6s,\tbest lgbm's error=0.2433,\tbest lgbm's error=0.2433\n",
            "[flaml.automl: 07-31 22:53:21] {1198} INFO - retrain lgbm for 6.3s\n",
            "[flaml.automl: 07-31 22:53:21] {1020} INFO - iteration 61, current learner xgboost\n",
            "[flaml.automl: 07-31 22:53:21] {1180} INFO -  at 58.1s,\tbest xgboost's error=0.2575,\tbest lgbm's error=0.2433\n",
            "[flaml.automl: 07-31 22:53:23] {1198} INFO - retrain xgboost for 2.3s\n",
            "[flaml.automl: 07-31 22:53:23] {1220} INFO - selected model: LGBMClassifier(colsample_bytree=0.9930577047295022,\n",
            "               learning_rate=0.10653852350625627, max_bin=256,\n",
            "               min_child_samples=18, n_estimators=29, num_leaves=125,\n",
            "               objective='multiclass', reg_alpha=0.0009765625,\n",
            "               reg_lambda=1.8287241464057549, subsample=0.9025475651868093)\n",
            "[flaml.automl: 07-31 22:53:23] {970} INFO - fit succeeded\n"
          ],
          "name": "stderr"
        }
      ]
    },
    {
      "cell_type": "markdown",
      "metadata": {
        "id": "ZIn-0Ev98Pep"
      },
      "source": [
        "**- While running the FLAML AutoML algorithm, LGBmodel came out to be the best one with the best error on 0.2467 when it ran different models such as XGboost, Random Forests, Extra-tree & Cat-boost. This was achieved with 62 iterations. The Best parameter is given below:**"
      ]
    },
    {
      "cell_type": "code",
      "metadata": {
        "colab": {
          "base_uri": "https://localhost:8080/"
        },
        "id": "fJH66q9rG6iT",
        "outputId": "cd979037-f35b-4c30-a57f-ad6948621b93"
      },
      "source": [
        "automl.model.estimator"
      ],
      "execution_count": 71,
      "outputs": [
        {
          "output_type": "execute_result",
          "data": {
            "text/plain": [
              "LGBMClassifier(colsample_bytree=0.9930577047295022,\n",
              "               learning_rate=0.10653852350625627, max_bin=256,\n",
              "               min_child_samples=18, n_estimators=29, num_leaves=125,\n",
              "               objective='multiclass', reg_alpha=0.0009765625,\n",
              "               reg_lambda=1.8287241464057549, subsample=0.9025475651868093)"
            ]
          },
          "metadata": {
            "tags": []
          },
          "execution_count": 71
        }
      ]
    },
    {
      "cell_type": "code",
      "metadata": {
        "id": "3T3pCl0rq2pK"
      },
      "source": [
        "#With 0.2460 Error\n",
        "\n",
        "LGBMClassifier(colsample_bytree=0.8943647935086437,\n",
        "               learning_rate=0.056400588987393634, max_bin=256,\n",
        "               min_child_samples=28, n_estimators=57, num_leaves=94,\n",
        "               objective='multiclass', reg_alpha=0.0009765625,\n",
        "               reg_lambda=0.1253970491528328, subsample=0.9377924838515587)"
      ],
      "execution_count": null,
      "outputs": []
    },
    {
      "cell_type": "code",
      "metadata": {
        "colab": {
          "base_uri": "https://localhost:8080/"
        },
        "id": "PKT37HxgHA0z",
        "outputId": "0c9d2b29-c60e-4c7d-e79e-bbb81e8361a1"
      },
      "source": [
        "''' retrieve best config and best learner'''\n",
        "print('Best ML leaner:', automl.best_estimator)\n",
        "print('Best hyperparmeter config:', automl.best_config)\n",
        "print('Best accuracy on validation data: {0:.4g}'.format(1-automl.best_loss))\n",
        "print('Training duration of best run: {0:.4g} s'.format(automl.best_config_train_time))\n",
        "\n",
        "print('Best hyperparmeter config:', automl.best_config)"
      ],
      "execution_count": 72,
      "outputs": [
        {
          "output_type": "stream",
          "text": [
            "Best ML leaner: lgbm\n",
            "Best hyperparmeter config: {'n_estimators': 29, 'num_leaves': 125, 'min_child_samples': 18, 'learning_rate': 0.10653852350625627, 'subsample': 0.9025475651868093, 'log_max_bin': 9, 'colsample_bytree': 0.9930577047295022, 'reg_alpha': 0.0009765625, 'reg_lambda': 1.8287241464057549, 'FLAML_sample_size': 175905}\n",
            "Best accuracy on validation data: 0.7567\n",
            "Training duration of best run: 5.936 s\n",
            "Best hyperparmeter config: {'n_estimators': 29, 'num_leaves': 125, 'min_child_samples': 18, 'learning_rate': 0.10653852350625627, 'subsample': 0.9025475651868093, 'log_max_bin': 9, 'colsample_bytree': 0.9930577047295022, 'reg_alpha': 0.0009765625, 'reg_lambda': 1.8287241464057549, 'FLAML_sample_size': 175905}\n"
          ],
          "name": "stdout"
        }
      ]
    },
    {
      "cell_type": "code",
      "metadata": {
        "id": "WtuDyCls82km"
      },
      "source": [
        "#automl.fit(X_train, y_train, metric='micro_f1', task=\"classification\", estimator_list=['lgbm', 'xgboost', 'catboost', 'rf', 'extra_tree'], eval_method='cv',n_splits=5, model_history=True, log_training_metric=True)"
      ],
      "execution_count": null,
      "outputs": []
    },
    {
      "cell_type": "code",
      "metadata": {
        "id": "_9AZ5UfqoUp7"
      },
      "source": [
        "#PREDICTING ON THE TESTING SET\n",
        "y_pred_lgbm = automl.predict(X_test_fe)\n",
        "\n",
        "y_pred_prob_lgbm=automl.predict_proba(X_test_fe)"
      ],
      "execution_count": 73,
      "outputs": []
    },
    {
      "cell_type": "code",
      "metadata": {
        "colab": {
          "base_uri": "https://localhost:8080/"
        },
        "id": "aV7u6oAfvI0b",
        "outputId": "ab94ffe0-fb14-4450-e072-f418354781f6"
      },
      "source": [
        "#@title\n",
        "print(y_pred_lgbm)"
      ],
      "execution_count": 75,
      "outputs": [
        {
          "output_type": "stream",
          "text": [
            "[3 1 2 ... 2 3 1]\n"
          ],
          "name": "stdout"
        }
      ]
    },
    {
      "cell_type": "markdown",
      "metadata": {
        "id": "9q_Z9mWNpmyO"
      },
      "source": [
        "MODEL PERFORMANCE"
      ]
    },
    {
      "cell_type": "code",
      "metadata": {
        "colab": {
          "base_uri": "https://localhost:8080/"
        },
        "id": "AY15QlXQplIF",
        "outputId": "b0b56a09-d62e-4e3c-9d96-62b8ab975947"
      },
      "source": [
        "#@title\n",
        "from sklearn.metrics import confusion_matrix\n",
        "\n",
        "confusion_matrix(y_test, y_pred_lgbm)"
      ],
      "execution_count": 76,
      "outputs": [
        {
          "output_type": "execute_result",
          "data": {
            "text/plain": [
              "array([[ 3268,  2999,    80],\n",
              "       [ 1480, 31097,  4417],\n",
              "       [  127,  8124, 13559]])"
            ]
          },
          "metadata": {
            "tags": []
          },
          "execution_count": 76
        }
      ]
    },
    {
      "cell_type": "code",
      "metadata": {
        "colab": {
          "base_uri": "https://localhost:8080/"
        },
        "id": "D-0QCvFdpwe0",
        "outputId": "eef594c6-915e-4191-f373-d4252c8aa78a"
      },
      "source": [
        "#@title\n",
        "from sklearn.metrics import classification_report\n",
        "\n",
        "print(classification_report(y_test, y_pred_lgbm))"
      ],
      "execution_count": 77,
      "outputs": [
        {
          "output_type": "stream",
          "text": [
            "              precision    recall  f1-score   support\n",
            "\n",
            "           1       0.67      0.51      0.58      6347\n",
            "           2       0.74      0.84      0.79     36994\n",
            "           3       0.75      0.62      0.68     21810\n",
            "\n",
            "    accuracy                           0.74     65151\n",
            "   macro avg       0.72      0.66      0.68     65151\n",
            "weighted avg       0.73      0.74      0.73     65151\n",
            "\n"
          ],
          "name": "stdout"
        }
      ]
    },
    {
      "cell_type": "code",
      "metadata": {
        "id": "hP698M4xQORT"
      },
      "source": [
        "#FEATURE SELECTION\n",
        "#If want to improve more on the model...\n",
        "from sklearn.feature_selection import SelectKBest, chi2\n",
        "\n",
        "sel=SelectKBest(chi2,k='all')\n",
        "sel=sel.fit(X_train_fe,y_train)\n",
        "\n",
        "X_train_new = sel.transform(X_train_fe)\n",
        "X_test_new = sel.transform(X_test_fe)"
      ],
      "execution_count": null,
      "outputs": []
    },
    {
      "cell_type": "markdown",
      "metadata": {
        "id": "Bzh1gRjk9IYJ"
      },
      "source": [
        "MANUALLY RUNNING THE LGBM MODEL FOR CLASSIFICATION VISUALIZATIONS. "
      ]
    },
    {
      "cell_type": "code",
      "metadata": {
        "id": "MZQMXEoFKofO"
      },
      "source": [
        "from lightgbm import LGBMClassifier\n",
        "\n",
        "lgbm = LGBMClassifier(colsample_bytree=0.9930577047295022,\n",
        "               learning_rate=0.10653852350625627, max_bin=256,\n",
        "               min_child_samples=18, n_estimators=29, num_leaves=125,\n",
        "               objective='multiclass', reg_alpha=0.0009765625,\n",
        "               reg_lambda=1.8287241464057549, subsample=0.9025475651868093)\n",
        "\n"
      ],
      "execution_count": 78,
      "outputs": []
    },
    {
      "cell_type": "code",
      "metadata": {
        "colab": {
          "base_uri": "https://localhost:8080/"
        },
        "id": "7nadU9kFAdXw",
        "outputId": "8bb1d559-4ff0-4b14-9f39-5c4c86cd6b4d"
      },
      "source": [
        "lgbm.fit(X_train_fe, y_train)"
      ],
      "execution_count": 79,
      "outputs": [
        {
          "output_type": "execute_result",
          "data": {
            "text/plain": [
              "LGBMClassifier(colsample_bytree=0.9930577047295022,\n",
              "               learning_rate=0.10653852350625627, max_bin=256,\n",
              "               min_child_samples=18, n_estimators=29, num_leaves=125,\n",
              "               objective='multiclass', reg_alpha=0.0009765625,\n",
              "               reg_lambda=1.8287241464057549, subsample=0.9025475651868093)"
            ]
          },
          "metadata": {
            "tags": []
          },
          "execution_count": 79
        }
      ]
    },
    {
      "cell_type": "code",
      "metadata": {
        "id": "O7R9gFzwMm4R"
      },
      "source": [
        "test_lgbm = lgbm.predict(X_test_fe)\n",
        "\n",
        "test_prob_lgbm=lgbm.predict_proba(X_test_fe)"
      ],
      "execution_count": 80,
      "outputs": []
    },
    {
      "cell_type": "code",
      "metadata": {
        "id": "vtm11RqQOD9l"
      },
      "source": [
        "class_names = [str(x) for x in lgbm.classes_]"
      ],
      "execution_count": 81,
      "outputs": []
    },
    {
      "cell_type": "markdown",
      "metadata": {
        "id": "jt0Xrs5Sz0_z"
      },
      "source": [
        "#Visualization of the Best Model"
      ]
    },
    {
      "cell_type": "code",
      "metadata": {
        "colab": {
          "base_uri": "https://localhost:8080/"
        },
        "id": "T4ms5OuqPAUB",
        "outputId": "934ae750-9c2d-477a-fdb4-f428fe60da42"
      },
      "source": [
        "from sklearn.metrics import accuracy_score, cohen_kappa_score, f1_score, log_loss\n",
        "\n",
        "print(\"Accuracy = {:.2f}\".format(accuracy_score(y_test, test_lgbm)))\n",
        "print(\"Kappa = {:.2f}\".format(cohen_kappa_score(y_test, test_lgbm)))\n",
        "print(\"F1 Score = {:.2f}\".format(f1_score(y_test, test_lgbm,average='macro')))\n",
        "print(\"Log Loss = {:.2f}\".format(log_loss(y_test, test_prob_lgbm)))"
      ],
      "execution_count": 82,
      "outputs": [
        {
          "output_type": "stream",
          "text": [
            "Accuracy = 0.74\n",
            "Kappa = 0.50\n",
            "F1 Score = 0.68\n",
            "Log Loss = 0.60\n"
          ],
          "name": "stdout"
        }
      ]
    },
    {
      "cell_type": "code",
      "metadata": {
        "colab": {
          "base_uri": "https://localhost:8080/"
        },
        "id": "YOFkuVhh5g-a",
        "outputId": "2fda8556-c10c-4269-d340-8233ed8e3e10"
      },
      "source": [
        "# Lets look at the model metrics\n",
        "\n",
        "print('Metrics of the Light Gradient Boosting Model: \\n')\n",
        "\n",
        "cm = np.transpose(confusion_matrix(y_test, test_lgbm))\n",
        "print(\"Confusion matrix: \\n\" + str(cm))\n",
        "\n",
        "print(\"                                   Accuracy: \" + str(custom_accuracy_score(y_test, test_lgbm))) \n",
        "print(\"                   SENSITIVITY (aka RECALL): \" + str(custom_sensitivity_score(y_test, test_lgbm)))\n",
        "print(\"                 SPECIFICITY (aka FALL-OUT): \" + str(custom_specificity_score(y_test, test_lgbm)))\n",
        "print(\" POSITIVE PREDICTIVE VALUE, (aka PRECISION): \" + str(custom_ppv_score(y_test, test_lgbm)))\n",
        "print(\"                 NEGATIVE PREDICTIVE VALUE): \" + str(custom_npv_score(y_test, test_lgbm)))\n"
      ],
      "execution_count": 118,
      "outputs": [
        {
          "output_type": "stream",
          "text": [
            "Metrics of the Light Gradient Boosting Model: \n",
            "\n",
            "Confusion matrix: \n",
            "[[ 3262  1460   124]\n",
            " [ 3004 31121  8155]\n",
            " [   81  4413 13531]]\n",
            "                                   Accuracy: 0.8850876515561047\n",
            "                   SENSITIVITY (aka RECALL): 0.955188606856757\n",
            "                 SPECIFICITY (aka FALL-OUT): 0.5205872965209065\n",
            " POSITIVE PREDICTIVE VALUE, (aka PRECISION): 0.911970695970696\n",
            "                 NEGATIVE PREDICTIVE VALUE): 0.6908089792460822\n"
          ],
          "name": "stdout"
        }
      ]
    },
    {
      "cell_type": "code",
      "metadata": {
        "id": "VkRlQy0sBLGM"
      },
      "source": [
        "from sklearn.metrics import classification_report"
      ],
      "execution_count": 83,
      "outputs": []
    },
    {
      "cell_type": "code",
      "metadata": {
        "id": "9vtdGTR1Ge-H",
        "colab": {
          "base_uri": "https://localhost:8080/",
          "height": 369
        },
        "outputId": "b74d6889-bb35-4272-cf76-8a38e52a18e7"
      },
      "source": [
        "# Visualizing LGBM Model\n",
        "from yellowbrick.classifier import ClassificationReport\n",
        "\n",
        "# Instantiate the classification model and visualizer\n",
        "visualizer = ClassificationReport(lgbm,force_model=True)\n",
        "\n",
        "visualizer.fit(X_train_fe, y_train)  # Fit the visualizer and the model\n",
        "visualizer.score(X_test_fe, y_test)  # Evaluate the model on the test data"
      ],
      "execution_count": 84,
      "outputs": [
        {
          "output_type": "execute_result",
          "data": {
            "text/plain": [
              "0.7354300010744271"
            ]
          },
          "metadata": {
            "tags": []
          },
          "execution_count": 84
        },
        {
          "output_type": "display_data",
          "data": {
            "image/png": "[encoded data removed]",
            "text/plain": [
              "<Figure size 576x396 with 2 Axes>"
            ]
          },
          "metadata": {
            "tags": []
          }
        }
      ]
    },
    {
      "cell_type": "code",
      "metadata": {
        "colab": {
          "base_uri": "https://localhost:8080/",
          "height": 419
        },
        "id": "AtW5nmFrEh-k",
        "outputId": "da183286-d67d-4eec-ace4-90818fa79149"
      },
      "source": [
        "from sklearn.datasets import load_digits\n",
        "from sklearn.model_selection import train_test_split as tts\n",
        "from sklearn.linear_model import LogisticRegression\n",
        "from yellowbrick.classifier import ConfusionMatrix\n",
        "\n",
        "cm = ConfusionMatrix(lgbm)\n",
        "\n",
        "cm.score(X_test_fe, y_test)\n",
        "\n",
        "cm.show()\n"
      ],
      "execution_count": 85,
      "outputs": [
        {
          "output_type": "display_data",
          "data": {
            "image/png": "[encoded data removed]",
            "text/plain": [
              "<Figure size 576x396 with 1 Axes>"
            ]
          },
          "metadata": {
            "tags": []
          }
        },
        {
          "output_type": "execute_result",
          "data": {
            "text/plain": [
              "<matplotlib.axes._subplots.AxesSubplot at 0x7f125b4b1490>"
            ]
          },
          "metadata": {
            "tags": []
          },
          "execution_count": 85
        }
      ]
    },
    {
      "cell_type": "code",
      "metadata": {
        "colab": {
          "base_uri": "https://localhost:8080/",
          "height": 393
        },
        "id": "chehHKjs7KXr",
        "outputId": "c9284547-78ce-4541-ad84-f8b102634ba6"
      },
      "source": [
        "from sklearn.linear_model import LogisticRegression\n",
        "from sklearn.model_selection import train_test_split\n",
        "\n",
        "from yellowbrick.classifier import ROCAUC\n",
        "from yellowbrick.datasets import load_spam\n",
        "\n",
        "\n",
        "model = lgbm\n",
        "visualizer = ROCAUC(model)\n",
        "\n",
        "visualizer.fit(X_train_fe, y_train)        # Fit the training data to the visualizer\n",
        "visualizer.score(X_test_fe, y_test)        # Evaluate the model on the test data\n",
        "visualizer.show()                       # Finalize and show the figure"
      ],
      "execution_count": 86,
      "outputs": [
        {
          "output_type": "display_data",
          "data": {
            "image/png": "[encoded data removed]",
            "text/plain": [
              "<Figure size 576x396 with 1 Axes>"
            ]
          },
          "metadata": {
            "tags": []
          }
        },
        {
          "output_type": "execute_result",
          "data": {
            "text/plain": [
              "<matplotlib.axes._subplots.AxesSubplot at 0x7f1260f002d0>"
            ]
          },
          "metadata": {
            "tags": []
          },
          "execution_count": 86
        }
      ]
    },
    {
      "cell_type": "code",
      "metadata": {
        "id": "UNLVSw-_OmQC"
      },
      "source": [
        "labels = lgbm.classes_"
      ],
      "execution_count": null,
      "outputs": []
    },
    {
      "cell_type": "code",
      "metadata": {
        "id": "Sc5s3ZNhK66x",
        "colab": {
          "base_uri": "https://localhost:8080/",
          "height": 401
        },
        "outputId": "9f8eeb4f-8969-48e1-afdc-a83d4c9128b2"
      },
      "source": [
        "#How good the model has predicted class..\n",
        "from yellowbrick.classifier import ClassPredictionError\n",
        "\n",
        "visualizer = ClassPredictionError(lgbm)\n",
        "\n",
        "visualizer.fit(X_train_fe, y_train)\n",
        "visualizer.score(X_test_fe, y_test)\n",
        "g = visualizer.poof()"
      ],
      "execution_count": 87,
      "outputs": [
        {
          "output_type": "display_data",
          "data": {
            "image/png": "[encoded data removed]",
            "text/plain": [
              "<Figure size 576x396 with 1 Axes>"
            ]
          },
          "metadata": {
            "tags": []
          }
        }
      ]
    },
    {
      "cell_type": "code",
      "metadata": {
        "colab": {
          "base_uri": "https://localhost:8080/",
          "height": 339
        },
        "id": "wcofANg00C4S",
        "outputId": "777670a2-9b27-44eb-bc81-2a772d48a881"
      },
      "source": [
        "from sklearn.ensemble import RandomForestClassifier\n",
        "\n",
        "from yellowbrick.datasets import load_occupancy\n",
        "from yellowbrick.model_selection import FeatureImportances\n",
        "\n",
        "\n",
        "model = lgbm\n",
        "viz = FeatureImportances(model)\n",
        "viz.fit(X_train_fe,y_train)\n",
        "viz.show()"
      ],
      "execution_count": 126,
      "outputs": [
        {
          "output_type": "error",
          "ename": "TypeError",
          "evalue": "ignored",
          "traceback": [
            "\u001b[0;31m---------------------------------------------------------------------------\u001b[0m",
            "\u001b[0;31mTypeError\u001b[0m                                 Traceback (most recent call last)",
            "\u001b[0;32m<ipython-input-126-1ff4390e8e5a>\u001b[0m in \u001b[0;36m<module>\u001b[0;34m()\u001b[0m\n\u001b[1;32m      7\u001b[0m \u001b[0mmodel\u001b[0m \u001b[0;34m=\u001b[0m \u001b[0mlgbm\u001b[0m\u001b[0;34m\u001b[0m\u001b[0;34m\u001b[0m\u001b[0m\n\u001b[1;32m      8\u001b[0m \u001b[0mviz\u001b[0m \u001b[0;34m=\u001b[0m \u001b[0mFeatureImportances\u001b[0m\u001b[0;34m(\u001b[0m\u001b[0mmodel\u001b[0m\u001b[0;34m)\u001b[0m\u001b[0;34m\u001b[0m\u001b[0;34m\u001b[0m\u001b[0m\n\u001b[0;32m----> 9\u001b[0;31m \u001b[0mviz\u001b[0m\u001b[0;34m.\u001b[0m\u001b[0mfit\u001b[0m\u001b[0;34m(\u001b[0m\u001b[0mX_train_fe\u001b[0m\u001b[0;34m,\u001b[0m\u001b[0my_train\u001b[0m\u001b[0;34m)\u001b[0m\u001b[0;34m\u001b[0m\u001b[0;34m\u001b[0m\u001b[0m\n\u001b[0m\u001b[1;32m     10\u001b[0m \u001b[0mviz\u001b[0m\u001b[0;34m.\u001b[0m\u001b[0mshow\u001b[0m\u001b[0;34m(\u001b[0m\u001b[0;34m)\u001b[0m\u001b[0;34m\u001b[0m\u001b[0;34m\u001b[0m\u001b[0m\n",
            "\u001b[0;32m/usr/local/lib/python3.7/dist-packages/yellowbrick/model_selection/importances.py\u001b[0m in \u001b[0;36mfit\u001b[0;34m(self, X, y, **kwargs)\u001b[0m\n\u001b[1;32m    207\u001b[0m         \u001b[0;32mif\u001b[0m \u001b[0mself\u001b[0m\u001b[0;34m.\u001b[0m\u001b[0mrelative\u001b[0m\u001b[0;34m:\u001b[0m\u001b[0;34m\u001b[0m\u001b[0;34m\u001b[0m\u001b[0m\n\u001b[1;32m    208\u001b[0m             \u001b[0mmaxv\u001b[0m \u001b[0;34m=\u001b[0m \u001b[0mnp\u001b[0m\u001b[0;34m.\u001b[0m\u001b[0mabs\u001b[0m\u001b[0;34m(\u001b[0m\u001b[0mself\u001b[0m\u001b[0;34m.\u001b[0m\u001b[0mfeature_importances_\u001b[0m\u001b[0;34m)\u001b[0m\u001b[0;34m.\u001b[0m\u001b[0mmax\u001b[0m\u001b[0;34m(\u001b[0m\u001b[0;34m)\u001b[0m\u001b[0;34m\u001b[0m\u001b[0;34m\u001b[0m\u001b[0m\n\u001b[0;32m--> 209\u001b[0;31m             \u001b[0mself\u001b[0m\u001b[0;34m.\u001b[0m\u001b[0mfeature_importances_\u001b[0m \u001b[0;34m/=\u001b[0m \u001b[0mmaxv\u001b[0m\u001b[0;34m\u001b[0m\u001b[0;34m\u001b[0m\u001b[0m\n\u001b[0m\u001b[1;32m    210\u001b[0m             \u001b[0mself\u001b[0m\u001b[0;34m.\u001b[0m\u001b[0mfeature_importances_\u001b[0m \u001b[0;34m*=\u001b[0m \u001b[0;36m100.0\u001b[0m\u001b[0;34m\u001b[0m\u001b[0;34m\u001b[0m\u001b[0m\n\u001b[1;32m    211\u001b[0m \u001b[0;34m\u001b[0m\u001b[0m\n",
            "\u001b[0;31mTypeError\u001b[0m: No loop matching the specified signature and casting was found for ufunc true_divide"
          ]
        }
      ]
    },
    {
      "cell_type": "code",
      "metadata": {
        "id": "FOVjj8bNVarw"
      },
      "source": [
        "#@title\n",
        "from google.colab import files\n",
        "\n",
        "uploaded = files.upload()\n",
        "\n",
        "for fn in uploaded.keys():\n",
        "  print('User uploaded file \"{name}\" with length {length} bytes'.format(\n",
        "      name=fn, length=len(uploaded[fn])))"
      ],
      "execution_count": null,
      "outputs": []
    },
    {
      "cell_type": "code",
      "metadata": {
        "colab": {
          "base_uri": "https://localhost:8080/",
          "height": 226
        },
        "id": "hA0LUduOUb6F",
        "outputId": "c10b2937-9d9d-4aeb-ba18-4a9d41e17716"
      },
      "source": [
        "#@title\n",
        "import pandas as pd\n",
        "submit = pd.read_csv('test_values.csv', header=0) \n",
        "\n",
        "submit.head()"
      ],
      "execution_count": null,
      "outputs": [
        {
          "output_type": "execute_result",
          "data": {
            "text/html": [
              "<div>\n",
              "<style scoped>\n",
              "    .dataframe tbody tr th:only-of-type {\n",
              "        vertical-align: middle;\n",
              "    }\n",
              "\n",
              "    .dataframe tbody tr th {\n",
              "        vertical-align: top;\n",
              "    }\n",
              "\n",
              "    .dataframe thead th {\n",
              "        text-align: right;\n",
              "    }\n",
              "</style>\n",
              "<table border=\"1\" class=\"dataframe\">\n",
              "  <thead>\n",
              "    <tr style=\"text-align: right;\">\n",
              "      <th></th>\n",
              "      <th>building_id</th>\n",
              "      <th>geo_level_1_id</th>\n",
              "      <th>geo_level_2_id</th>\n",
              "      <th>geo_level_3_id</th>\n",
              "      <th>count_floors_pre_eq</th>\n",
              "      <th>age</th>\n",
              "      <th>area_percentage</th>\n",
              "      <th>height_percentage</th>\n",
              "      <th>land_surface_condition</th>\n",
              "      <th>foundation_type</th>\n",
              "      <th>roof_type</th>\n",
              "      <th>ground_floor_type</th>\n",
              "      <th>other_floor_type</th>\n",
              "      <th>position</th>\n",
              "      <th>plan_configuration</th>\n",
              "      <th>has_superstructure_adobe_mud</th>\n",
              "      <th>has_superstructure_mud_mortar_stone</th>\n",
              "      <th>has_superstructure_stone_flag</th>\n",
              "      <th>has_superstructure_cement_mortar_stone</th>\n",
              "      <th>has_superstructure_mud_mortar_brick</th>\n",
              "      <th>has_superstructure_cement_mortar_brick</th>\n",
              "      <th>has_superstructure_timber</th>\n",
              "      <th>has_superstructure_bamboo</th>\n",
              "      <th>has_superstructure_rc_non_engineered</th>\n",
              "      <th>has_superstructure_rc_engineered</th>\n",
              "      <th>has_superstructure_other</th>\n",
              "      <th>legal_ownership_status</th>\n",
              "      <th>count_families</th>\n",
              "      <th>has_secondary_use</th>\n",
              "      <th>has_secondary_use_agriculture</th>\n",
              "      <th>has_secondary_use_hotel</th>\n",
              "      <th>has_secondary_use_rental</th>\n",
              "      <th>has_secondary_use_institution</th>\n",
              "      <th>has_secondary_use_school</th>\n",
              "      <th>has_secondary_use_industry</th>\n",
              "      <th>has_secondary_use_health_post</th>\n",
              "      <th>has_secondary_use_gov_office</th>\n",
              "      <th>has_secondary_use_use_police</th>\n",
              "      <th>has_secondary_use_other</th>\n",
              "    </tr>\n",
              "  </thead>\n",
              "  <tbody>\n",
              "    <tr>\n",
              "      <th>0</th>\n",
              "      <td>300051</td>\n",
              "      <td>17</td>\n",
              "      <td>596</td>\n",
              "      <td>11307</td>\n",
              "      <td>3</td>\n",
              "      <td>20</td>\n",
              "      <td>7</td>\n",
              "      <td>6</td>\n",
              "      <td>t</td>\n",
              "      <td>r</td>\n",
              "      <td>n</td>\n",
              "      <td>f</td>\n",
              "      <td>q</td>\n",
              "      <td>s</td>\n",
              "      <td>d</td>\n",
              "      <td>0</td>\n",
              "      <td>1</td>\n",
              "      <td>0</td>\n",
              "      <td>0</td>\n",
              "      <td>0</td>\n",
              "      <td>0</td>\n",
              "      <td>0</td>\n",
              "      <td>0</td>\n",
              "      <td>0</td>\n",
              "      <td>0</td>\n",
              "      <td>0</td>\n",
              "      <td>v</td>\n",
              "      <td>1</td>\n",
              "      <td>0</td>\n",
              "      <td>0</td>\n",
              "      <td>0</td>\n",
              "      <td>0</td>\n",
              "      <td>0</td>\n",
              "      <td>0</td>\n",
              "      <td>0</td>\n",
              "      <td>0</td>\n",
              "      <td>0</td>\n",
              "      <td>0</td>\n",
              "      <td>0</td>\n",
              "    </tr>\n",
              "    <tr>\n",
              "      <th>1</th>\n",
              "      <td>99355</td>\n",
              "      <td>6</td>\n",
              "      <td>141</td>\n",
              "      <td>11987</td>\n",
              "      <td>2</td>\n",
              "      <td>25</td>\n",
              "      <td>13</td>\n",
              "      <td>5</td>\n",
              "      <td>t</td>\n",
              "      <td>r</td>\n",
              "      <td>n</td>\n",
              "      <td>f</td>\n",
              "      <td>q</td>\n",
              "      <td>s</td>\n",
              "      <td>d</td>\n",
              "      <td>0</td>\n",
              "      <td>1</td>\n",
              "      <td>0</td>\n",
              "      <td>0</td>\n",
              "      <td>0</td>\n",
              "      <td>0</td>\n",
              "      <td>0</td>\n",
              "      <td>0</td>\n",
              "      <td>0</td>\n",
              "      <td>0</td>\n",
              "      <td>0</td>\n",
              "      <td>v</td>\n",
              "      <td>1</td>\n",
              "      <td>1</td>\n",
              "      <td>1</td>\n",
              "      <td>0</td>\n",
              "      <td>0</td>\n",
              "      <td>0</td>\n",
              "      <td>0</td>\n",
              "      <td>0</td>\n",
              "      <td>0</td>\n",
              "      <td>0</td>\n",
              "      <td>0</td>\n",
              "      <td>0</td>\n",
              "    </tr>\n",
              "    <tr>\n",
              "      <th>2</th>\n",
              "      <td>890251</td>\n",
              "      <td>22</td>\n",
              "      <td>19</td>\n",
              "      <td>10044</td>\n",
              "      <td>2</td>\n",
              "      <td>5</td>\n",
              "      <td>4</td>\n",
              "      <td>5</td>\n",
              "      <td>t</td>\n",
              "      <td>r</td>\n",
              "      <td>n</td>\n",
              "      <td>f</td>\n",
              "      <td>q</td>\n",
              "      <td>s</td>\n",
              "      <td>d</td>\n",
              "      <td>0</td>\n",
              "      <td>1</td>\n",
              "      <td>0</td>\n",
              "      <td>0</td>\n",
              "      <td>0</td>\n",
              "      <td>0</td>\n",
              "      <td>0</td>\n",
              "      <td>0</td>\n",
              "      <td>0</td>\n",
              "      <td>0</td>\n",
              "      <td>0</td>\n",
              "      <td>v</td>\n",
              "      <td>1</td>\n",
              "      <td>0</td>\n",
              "      <td>0</td>\n",
              "      <td>0</td>\n",
              "      <td>0</td>\n",
              "      <td>0</td>\n",
              "      <td>0</td>\n",
              "      <td>0</td>\n",
              "      <td>0</td>\n",
              "      <td>0</td>\n",
              "      <td>0</td>\n",
              "      <td>0</td>\n",
              "    </tr>\n",
              "    <tr>\n",
              "      <th>3</th>\n",
              "      <td>745817</td>\n",
              "      <td>26</td>\n",
              "      <td>39</td>\n",
              "      <td>633</td>\n",
              "      <td>1</td>\n",
              "      <td>0</td>\n",
              "      <td>19</td>\n",
              "      <td>3</td>\n",
              "      <td>t</td>\n",
              "      <td>r</td>\n",
              "      <td>x</td>\n",
              "      <td>v</td>\n",
              "      <td>j</td>\n",
              "      <td>t</td>\n",
              "      <td>d</td>\n",
              "      <td>0</td>\n",
              "      <td>0</td>\n",
              "      <td>0</td>\n",
              "      <td>0</td>\n",
              "      <td>0</td>\n",
              "      <td>1</td>\n",
              "      <td>0</td>\n",
              "      <td>0</td>\n",
              "      <td>0</td>\n",
              "      <td>0</td>\n",
              "      <td>0</td>\n",
              "      <td>v</td>\n",
              "      <td>2</td>\n",
              "      <td>1</td>\n",
              "      <td>0</td>\n",
              "      <td>0</td>\n",
              "      <td>1</td>\n",
              "      <td>0</td>\n",
              "      <td>0</td>\n",
              "      <td>0</td>\n",
              "      <td>0</td>\n",
              "      <td>0</td>\n",
              "      <td>0</td>\n",
              "      <td>0</td>\n",
              "    </tr>\n",
              "    <tr>\n",
              "      <th>4</th>\n",
              "      <td>421793</td>\n",
              "      <td>17</td>\n",
              "      <td>289</td>\n",
              "      <td>7970</td>\n",
              "      <td>3</td>\n",
              "      <td>15</td>\n",
              "      <td>8</td>\n",
              "      <td>7</td>\n",
              "      <td>t</td>\n",
              "      <td>r</td>\n",
              "      <td>q</td>\n",
              "      <td>f</td>\n",
              "      <td>q</td>\n",
              "      <td>t</td>\n",
              "      <td>d</td>\n",
              "      <td>0</td>\n",
              "      <td>1</td>\n",
              "      <td>0</td>\n",
              "      <td>0</td>\n",
              "      <td>0</td>\n",
              "      <td>0</td>\n",
              "      <td>0</td>\n",
              "      <td>0</td>\n",
              "      <td>0</td>\n",
              "      <td>0</td>\n",
              "      <td>0</td>\n",
              "      <td>v</td>\n",
              "      <td>1</td>\n",
              "      <td>0</td>\n",
              "      <td>0</td>\n",
              "      <td>0</td>\n",
              "      <td>0</td>\n",
              "      <td>0</td>\n",
              "      <td>0</td>\n",
              "      <td>0</td>\n",
              "      <td>0</td>\n",
              "      <td>0</td>\n",
              "      <td>0</td>\n",
              "      <td>0</td>\n",
              "    </tr>\n",
              "  </tbody>\n",
              "</table>\n",
              "</div>"
            ],
            "text/plain": [
              "   building_id  ...  has_secondary_use_other\n",
              "0       300051  ...                        0\n",
              "1        99355  ...                        0\n",
              "2       890251  ...                        0\n",
              "3       745817  ...                        0\n",
              "4       421793  ...                        0\n",
              "\n",
              "[5 rows x 39 columns]"
            ]
          },
          "metadata": {
            "tags": []
          },
          "execution_count": 192
        }
      ]
    },
    {
      "cell_type": "code",
      "metadata": {
        "id": "FEXTYi-M1v3v"
      },
      "source": [
        "#@title\n",
        "submit['land_surface_condition'] = submit['land_surface_condition'].astype('category')\n",
        "submit['foundation_type'] = submit['foundation_type'].astype('category')\n",
        "submit['roof_type'] = submit['roof_type'].astype('category')\n",
        "submit['ground_floor_type'] = submit['ground_floor_type'].astype('category')\n",
        "submit['position'] = submit['position'].astype('category')\n",
        "submit['plan_configuration'] = submit['plan_configuration'].astype('category')\n",
        "submit['other_floor_type'] = submit['other_floor_type'].astype('category')\n",
        "submit['legal_ownership_status'] = submit['legal_ownership_status'].astype('category')\n",
        "\n",
        "\n",
        "submit['has_superstructure_adobe_mud'] = submit['has_superstructure_adobe_mud'].astype('category')\n",
        "submit['has_superstructure_mud_mortar_stone'] = submit['has_superstructure_mud_mortar_stone'].astype('category')\n",
        "submit['has_superstructure_stone_flag'] = submit['has_superstructure_stone_flag'].astype('category')\n",
        "submit['has_superstructure_mud_mortar_brick'] = submit['has_superstructure_mud_mortar_brick'].astype('category')\n",
        "submit['has_superstructure_cement_mortar_brick'] = submit['has_superstructure_cement_mortar_brick'].astype('category')\n",
        "submit['has_superstructure_cement_mortar_stone'] = submit['has_superstructure_cement_mortar_stone'].astype('category')\n",
        "submit['has_superstructure_timber'] = submit['has_superstructure_timber'].astype('category')\n",
        "submit['has_superstructure_bamboo'] = submit['has_superstructure_bamboo'].astype('category')\n",
        "submit['has_superstructure_rc_non_engineered'] = submit['has_superstructure_rc_non_engineered'].astype('category')\n",
        "submit['has_superstructure_rc_engineered'] = submit['has_superstructure_rc_engineered'].astype('category')\n",
        "submit['has_superstructure_other'] = submit['has_superstructure_other'].astype('category')\n",
        "submit['has_secondary_use'] = submit['has_secondary_use'].astype('category')\n",
        "submit['has_secondary_use_agriculture'] = submit['has_secondary_use_agriculture'].astype('category')\n",
        "submit['has_secondary_use_hotel'] = submit['has_secondary_use_hotel'].astype('category')\n",
        "submit['has_secondary_use_rental'] = submit['has_secondary_use_rental'].astype('category')\n",
        "submit['has_secondary_use_institution'] = submit['has_secondary_use_institution'].astype('category')\n",
        "submit['has_secondary_use_school'] = submit['has_secondary_use_school'].astype('category')\n",
        "submit['has_secondary_use_industry'] = submit['has_secondary_use_industry'].astype('category')\n",
        "submit['has_secondary_use_health_post'] = submit['has_secondary_use_health_post'].astype('category')\n",
        "submit['has_secondary_use_gov_office'] = submit['has_secondary_use_gov_office'].astype('category')\n",
        "submit['has_secondary_use_use_police'] = submit['has_secondary_use_use_police'].astype('category')\n",
        "submit['has_secondary_use_other'] = submit['has_secondary_use_other'].astype('category')\n",
        "\n",
        "submit['geo_level_1_id'] = submit['geo_level_1_id'].astype('category')\n",
        "submit['geo_level_2_id'] = submit['geo_level_2_id'].astype('category')\n",
        "submit['geo_level_3_id'] = submit['geo_level_3_id'].astype('category')\n",
        "\n",
        "\n"
      ],
      "execution_count": null,
      "outputs": []
    },
    {
      "cell_type": "code",
      "metadata": {
        "id": "Fd03nmI4r_mM"
      },
      "source": [
        "scaler = preprocessing.FunctionTransformer(np.log1p, validate=True).fit(submit[['age']])\n",
        "submit['age'] = scaler.transform(submit[['age']])\n",
        "\n",
        "scaler = preprocessing.FunctionTransformer(np.log1p, validate=True).fit(submit[['height_percentage']])\n",
        "submit['height_percentage'] = scaler.transform(submit[['height_percentage']]) \n",
        "\n",
        "scaler = preprocessing.FunctionTransformer(np.log1p, validate=True).fit(submit[['area_percentage']])\n",
        "submit['area_percentage'] = scaler.transform(submit[['area_percentage']]) \n",
        "\n",
        "scaler = preprocessing.FunctionTransformer(np.log1p, validate=True).fit(submit[['count_floors_pre_eq']])\n",
        "submit['count_floors_pre_eq'] = scaler.transform(submit[['count_floors_pre_eq']])\n",
        "\n",
        "scaler = preprocessing.FunctionTransformer(np.log1p, validate=True).fit(submit[['count_families']])\n",
        "submit['count_families'] = scaler.transform(submit[['count_families']]) \n",
        "\n",
        "submit['A_H'] = submit['area_percentage'] * submit['height_percentage']\n",
        "\n",
        "submit['A_H'] = submit['area_percentage'] * submit['height_percentage']\n"
      ],
      "execution_count": null,
      "outputs": []
    },
    {
      "cell_type": "code",
      "metadata": {
        "id": "HinZUZhY7Lo_"
      },
      "source": [
        "ce_me = ce.MEstimateEncoder(cols = ['geo_level_1_id','geo_level_2_id','geo_level_3_id','land_surface_condition','foundation_type','roof_type','ground_floor_type','other_floor_type','position','plan_configuration','legal_ownership_status','has_superstructure_adobe_mud',\n",
        "                                    'has_superstructure_mud_mortar_stone','has_superstructure_rc_non_engineered','has_superstructure_rc_engineered','has_superstructure_cement_mortar_stone',\n",
        "                                    'has_secondary_use','has_secondary_use_agriculture','has_superstructure_timber','has_superstructure_stone_flag','has_superstructure_cement_mortar_brick','has_superstructure_bamboo'],m=2)\n",
        "\n",
        "X_train_fe=ce_me.fit_transform(X_train,y_train)\n",
        "predict_fe=ce_me.transform(submit)"
      ],
      "execution_count": null,
      "outputs": []
    },
    {
      "cell_type": "code",
      "metadata": {
        "colab": {
          "base_uri": "https://localhost:8080/",
          "height": 226
        },
        "id": "NbuWVkk29cXH",
        "outputId": "c5e9b81d-d557-4d41-f2ba-e3205bc131c1"
      },
      "source": [
        "predict_fe = predict_fe.drop(columns = ['ground_floor_type','count_floors_pre_eq','has_secondary_use_rental','has_secondary_use_hotel','has_secondary_use_institution','has_secondary_use_school','has_secondary_use_health_post','has_secondary_use_gov_office','has_secondary_use_use_police','has_secondary_use_other'])\n",
        "predict_fe.head()"
      ],
      "execution_count": null,
      "outputs": [
        {
          "output_type": "execute_result",
          "data": {
            "text/html": [
              "<div>\n",
              "<style scoped>\n",
              "    .dataframe tbody tr th:only-of-type {\n",
              "        vertical-align: middle;\n",
              "    }\n",
              "\n",
              "    .dataframe tbody tr th {\n",
              "        vertical-align: top;\n",
              "    }\n",
              "\n",
              "    .dataframe thead th {\n",
              "        text-align: right;\n",
              "    }\n",
              "</style>\n",
              "<table border=\"1\" class=\"dataframe\">\n",
              "  <thead>\n",
              "    <tr style=\"text-align: right;\">\n",
              "      <th></th>\n",
              "      <th>building_id</th>\n",
              "      <th>geo_level_1_id</th>\n",
              "      <th>geo_level_2_id</th>\n",
              "      <th>geo_level_3_id</th>\n",
              "      <th>age</th>\n",
              "      <th>area_percentage</th>\n",
              "      <th>height_percentage</th>\n",
              "      <th>land_surface_condition</th>\n",
              "      <th>foundation_type</th>\n",
              "      <th>roof_type</th>\n",
              "      <th>other_floor_type</th>\n",
              "      <th>position</th>\n",
              "      <th>plan_configuration</th>\n",
              "      <th>has_superstructure_adobe_mud</th>\n",
              "      <th>has_superstructure_mud_mortar_stone</th>\n",
              "      <th>has_superstructure_stone_flag</th>\n",
              "      <th>has_superstructure_cement_mortar_stone</th>\n",
              "      <th>has_superstructure_mud_mortar_brick</th>\n",
              "      <th>has_superstructure_cement_mortar_brick</th>\n",
              "      <th>has_superstructure_timber</th>\n",
              "      <th>has_superstructure_bamboo</th>\n",
              "      <th>has_superstructure_rc_non_engineered</th>\n",
              "      <th>has_superstructure_rc_engineered</th>\n",
              "      <th>has_superstructure_other</th>\n",
              "      <th>legal_ownership_status</th>\n",
              "      <th>count_families</th>\n",
              "      <th>has_secondary_use</th>\n",
              "      <th>has_secondary_use_agriculture</th>\n",
              "      <th>has_secondary_use_industry</th>\n",
              "      <th>A_H</th>\n",
              "    </tr>\n",
              "  </thead>\n",
              "  <tbody>\n",
              "    <tr>\n",
              "      <th>0</th>\n",
              "      <td>300051</td>\n",
              "      <td>2.794519</td>\n",
              "      <td>2.690489</td>\n",
              "      <td>2.654859</td>\n",
              "      <td>3.044522</td>\n",
              "      <td>2.079442</td>\n",
              "      <td>1.945910</td>\n",
              "      <td>2.23464</td>\n",
              "      <td>2.329752</td>\n",
              "      <td>2.269715</td>\n",
              "      <td>2.315472</td>\n",
              "      <td>2.229486</td>\n",
              "      <td>2.24419</td>\n",
              "      <td>2.228304</td>\n",
              "      <td>2.337704</td>\n",
              "      <td>2.231378</td>\n",
              "      <td>2.243863</td>\n",
              "      <td>0</td>\n",
              "      <td>2.283197</td>\n",
              "      <td>2.263805</td>\n",
              "      <td>2.250916</td>\n",
              "      <td>2.259074</td>\n",
              "      <td>2.252682</td>\n",
              "      <td>0</td>\n",
              "      <td>2.244698</td>\n",
              "      <td>0.693147</td>\n",
              "      <td>2.256289</td>\n",
              "      <td>2.237394</td>\n",
              "      <td>0</td>\n",
              "      <td>4.046406</td>\n",
              "    </tr>\n",
              "    <tr>\n",
              "      <th>1</th>\n",
              "      <td>99355</td>\n",
              "      <td>2.165634</td>\n",
              "      <td>2.169729</td>\n",
              "      <td>2.053083</td>\n",
              "      <td>3.258097</td>\n",
              "      <td>2.639057</td>\n",
              "      <td>1.791759</td>\n",
              "      <td>2.23464</td>\n",
              "      <td>2.329752</td>\n",
              "      <td>2.269715</td>\n",
              "      <td>2.315472</td>\n",
              "      <td>2.229486</td>\n",
              "      <td>2.24419</td>\n",
              "      <td>2.228304</td>\n",
              "      <td>2.337704</td>\n",
              "      <td>2.231378</td>\n",
              "      <td>2.243863</td>\n",
              "      <td>0</td>\n",
              "      <td>2.283197</td>\n",
              "      <td>2.263805</td>\n",
              "      <td>2.250916</td>\n",
              "      <td>2.259074</td>\n",
              "      <td>2.252682</td>\n",
              "      <td>0</td>\n",
              "      <td>2.244698</td>\n",
              "      <td>0.693147</td>\n",
              "      <td>2.100317</td>\n",
              "      <td>2.260358</td>\n",
              "      <td>0</td>\n",
              "      <td>4.728556</td>\n",
              "    </tr>\n",
              "    <tr>\n",
              "      <th>2</th>\n",
              "      <td>890251</td>\n",
              "      <td>1.997679</td>\n",
              "      <td>2.135689</td>\n",
              "      <td>2.492581</td>\n",
              "      <td>1.791759</td>\n",
              "      <td>1.609438</td>\n",
              "      <td>1.791759</td>\n",
              "      <td>2.23464</td>\n",
              "      <td>2.329752</td>\n",
              "      <td>2.269715</td>\n",
              "      <td>2.315472</td>\n",
              "      <td>2.229486</td>\n",
              "      <td>2.24419</td>\n",
              "      <td>2.228304</td>\n",
              "      <td>2.337704</td>\n",
              "      <td>2.231378</td>\n",
              "      <td>2.243863</td>\n",
              "      <td>0</td>\n",
              "      <td>2.283197</td>\n",
              "      <td>2.263805</td>\n",
              "      <td>2.250916</td>\n",
              "      <td>2.259074</td>\n",
              "      <td>2.252682</td>\n",
              "      <td>0</td>\n",
              "      <td>2.244698</td>\n",
              "      <td>0.693147</td>\n",
              "      <td>2.256289</td>\n",
              "      <td>2.237394</td>\n",
              "      <td>0</td>\n",
              "      <td>2.883726</td>\n",
              "    </tr>\n",
              "    <tr>\n",
              "      <th>3</th>\n",
              "      <td>745817</td>\n",
              "      <td>1.732428</td>\n",
              "      <td>1.528920</td>\n",
              "      <td>1.432779</td>\n",
              "      <td>0.000000</td>\n",
              "      <td>2.995732</td>\n",
              "      <td>1.386294</td>\n",
              "      <td>2.23464</td>\n",
              "      <td>2.329752</td>\n",
              "      <td>1.577251</td>\n",
              "      <td>2.046194</td>\n",
              "      <td>2.309835</td>\n",
              "      <td>2.24419</td>\n",
              "      <td>2.228304</td>\n",
              "      <td>1.922090</td>\n",
              "      <td>2.231378</td>\n",
              "      <td>2.243863</td>\n",
              "      <td>0</td>\n",
              "      <td>1.694777</td>\n",
              "      <td>2.263805</td>\n",
              "      <td>2.250916</td>\n",
              "      <td>2.259074</td>\n",
              "      <td>2.252682</td>\n",
              "      <td>0</td>\n",
              "      <td>2.244698</td>\n",
              "      <td>1.098612</td>\n",
              "      <td>2.100317</td>\n",
              "      <td>2.237394</td>\n",
              "      <td>0</td>\n",
              "      <td>4.152967</td>\n",
              "    </tr>\n",
              "    <tr>\n",
              "      <th>4</th>\n",
              "      <td>421793</td>\n",
              "      <td>2.794519</td>\n",
              "      <td>2.680775</td>\n",
              "      <td>2.792808</td>\n",
              "      <td>2.772589</td>\n",
              "      <td>2.197225</td>\n",
              "      <td>2.079442</td>\n",
              "      <td>2.23464</td>\n",
              "      <td>2.329752</td>\n",
              "      <td>2.321114</td>\n",
              "      <td>2.315472</td>\n",
              "      <td>2.309835</td>\n",
              "      <td>2.24419</td>\n",
              "      <td>2.228304</td>\n",
              "      <td>2.337704</td>\n",
              "      <td>2.231378</td>\n",
              "      <td>2.243863</td>\n",
              "      <td>0</td>\n",
              "      <td>2.283197</td>\n",
              "      <td>2.263805</td>\n",
              "      <td>2.250916</td>\n",
              "      <td>2.259074</td>\n",
              "      <td>2.252682</td>\n",
              "      <td>0</td>\n",
              "      <td>2.244698</td>\n",
              "      <td>0.693147</td>\n",
              "      <td>2.256289</td>\n",
              "      <td>2.237394</td>\n",
              "      <td>0</td>\n",
              "      <td>4.569000</td>\n",
              "    </tr>\n",
              "  </tbody>\n",
              "</table>\n",
              "</div>"
            ],
            "text/plain": [
              "   building_id  geo_level_1_id  ...  has_secondary_use_industry       A_H\n",
              "0       300051        2.794519  ...                           0  4.046406\n",
              "1        99355        2.165634  ...                           0  4.728556\n",
              "2       890251        1.997679  ...                           0  2.883726\n",
              "3       745817        1.732428  ...                           0  4.152967\n",
              "4       421793        2.794519  ...                           0  4.569000\n",
              "\n",
              "[5 rows x 30 columns]"
            ]
          },
          "metadata": {
            "tags": []
          },
          "execution_count": 197
        }
      ]
    },
    {
      "cell_type": "code",
      "metadata": {
        "id": "RuTAdISG3D9D",
        "colab": {
          "base_uri": "https://localhost:8080/"
        },
        "outputId": "84712ef4-4e5c-45fa-8504-1ee9a07827de"
      },
      "source": [
        "#Predicting using lgbm \n",
        "y_submit = automl.predict(predict_fe)\n",
        "\n",
        "y_submit"
      ],
      "execution_count": null,
      "outputs": [
        {
          "output_type": "execute_result",
          "data": {
            "text/plain": [
              "array([3, 2, 3, ..., 2, 2, 2])"
            ]
          },
          "metadata": {
            "tags": []
          },
          "execution_count": 198
        }
      ]
    },
    {
      "cell_type": "code",
      "metadata": {
        "id": "FmOZaVnA4WtM"
      },
      "source": [
        "#@title\n",
        "submission = pd.DataFrame({\n",
        "        \"building_id\": submit[\"building_id\"],\n",
        "        \"damage_grade\": y_submit\n",
        "    })\n",
        "\n",
        "submission.to_csv('mySubmission_lgbm3.csv', index=False)"
      ],
      "execution_count": null,
      "outputs": []
    },
    {
      "cell_type": "markdown",
      "metadata": {
        "id": "DEJO578FIpHy"
      },
      "source": [
        "Can do for Feature Selection:"
      ]
    },
    {
      "cell_type": "code",
      "metadata": {
        "id": "wYnJ0o1_IT0s"
      },
      "source": [
        "#@title\n",
        "#If want to improve more on the model...\n",
        "from sklearn.feature_selection import SelectKBest, chi2\n",
        "\n",
        "#sel=SelectKBest(chi2,k=35)\n",
        "sel=sel.fit(X_train,y_train)\n",
        "\n",
        "#X_train_new = sel.transform(X_train)\n",
        "X_test_new = sel.transform(X_test)"
      ],
      "execution_count": null,
      "outputs": []
    },
    {
      "cell_type": "code",
      "metadata": {
        "id": "dWyX5A51JuNj"
      },
      "source": [
        "#@title\n",
        "# Need to create code for the model\n",
        "# Need to type in Cross validation code..\n",
        "# Need to type hyperparameter tuning with it too\n",
        "\n",
        "#run cv for every combo of hyperparameter tuning (searh.results for the best...)\n",
        "\n",
        "#retrain on the best combination"
      ],
      "execution_count": null,
      "outputs": []
    },
    {
      "cell_type": "markdown",
      "metadata": {
        "id": "IHTrLlXoq9-e"
      },
      "source": [
        "#Random Forest"
      ]
    },
    {
      "cell_type": "code",
      "metadata": {
        "id": "ShEH9vHozOfI"
      },
      "source": [
        "from flaml import AutoML\n",
        "automl2 = AutoML()\n",
        "\n",
        "\n",
        "settings = {\n",
        "    \"metric\": 'micro_f1',  # primary metrics can be chosen from: ['accuracy','roc_auc','f1','log_loss','mae','mse','r2']\n",
        "    \"task\": 'classification',  # task type    \n",
        "    \"log_file_name\": 'earthquake_experiment.log',\n",
        "    \"eval_method\":'auto',\n",
        "    \"model_history\":True\n",
        "}"
      ],
      "execution_count": 99,
      "outputs": []
    },
    {
      "cell_type": "code",
      "metadata": {
        "colab": {
          "base_uri": "https://localhost:8080/"
        },
        "id": "K4HdEGsaM0ET",
        "outputId": "a65688ed-1126-457c-d74c-e092738d7d65"
      },
      "source": [
        "automl2.fit(X_train_fe, y_train, estimator_list=[\"rf\"],**settings)"
      ],
      "execution_count": 100,
      "outputs": [
        {
          "output_type": "stream",
          "text": [
            "[flaml.automl: 07-31 23:17:00] {913} INFO - Evaluation method: holdout\n",
            "[flaml.automl: 07-31 23:17:00] {607} INFO - Using StratifiedKFold\n",
            "[flaml.automl: 07-31 23:17:00] {934} INFO - Minimizing error metric: 1-micro_f1\n",
            "[flaml.automl: 07-31 23:17:00] {954} INFO - List of ML learners in AutoML Run: ['rf']\n",
            "[flaml.automl: 07-31 23:17:00] {1020} INFO - iteration 0, current learner rf\n",
            "[flaml.automl: 07-31 23:17:01] {1180} INFO -  at 2.6s,\tbest rf's error=0.2919,\tbest rf's error=0.2919\n",
            "[flaml.automl: 07-31 23:17:01] {1020} INFO - iteration 1, current learner rf\n",
            "[flaml.automl: 07-31 23:17:01] {1180} INFO -  at 2.9s,\tbest rf's error=0.2650,\tbest rf's error=0.2650\n",
            "[flaml.automl: 07-31 23:17:01] {1020} INFO - iteration 2, current learner rf\n",
            "[flaml.automl: 07-31 23:17:01] {1180} INFO -  at 3.3s,\tbest rf's error=0.2650,\tbest rf's error=0.2650\n",
            "[flaml.automl: 07-31 23:17:01] {1020} INFO - iteration 3, current learner rf\n",
            "[flaml.automl: 07-31 23:17:02] {1180} INFO -  at 3.9s,\tbest rf's error=0.2650,\tbest rf's error=0.2650\n",
            "[flaml.automl: 07-31 23:17:02] {1020} INFO - iteration 4, current learner rf\n",
            "[flaml.automl: 07-31 23:17:02] {1180} INFO -  at 4.2s,\tbest rf's error=0.2582,\tbest rf's error=0.2582\n",
            "[flaml.automl: 07-31 23:17:02] {1020} INFO - iteration 5, current learner rf\n",
            "[flaml.automl: 07-31 23:17:03] {1180} INFO -  at 4.8s,\tbest rf's error=0.2582,\tbest rf's error=0.2582\n",
            "[flaml.automl: 07-31 23:17:03] {1020} INFO - iteration 6, current learner rf\n",
            "[flaml.automl: 07-31 23:17:03] {1180} INFO -  at 5.2s,\tbest rf's error=0.2582,\tbest rf's error=0.2582\n",
            "[flaml.automl: 07-31 23:17:03] {1020} INFO - iteration 7, current learner rf\n",
            "[flaml.automl: 07-31 23:17:04] {1180} INFO -  at 6.1s,\tbest rf's error=0.2582,\tbest rf's error=0.2582\n",
            "[flaml.automl: 07-31 23:17:04] {1020} INFO - iteration 8, current learner rf\n",
            "[flaml.automl: 07-31 23:17:05] {1180} INFO -  at 6.9s,\tbest rf's error=0.2582,\tbest rf's error=0.2582\n",
            "[flaml.automl: 07-31 23:17:05] {1020} INFO - iteration 9, current learner rf\n",
            "[flaml.automl: 07-31 23:17:06] {1180} INFO -  at 7.8s,\tbest rf's error=0.2582,\tbest rf's error=0.2582\n",
            "[flaml.automl: 07-31 23:17:06] {1020} INFO - iteration 10, current learner rf\n",
            "[flaml.automl: 07-31 23:17:07] {1180} INFO -  at 8.8s,\tbest rf's error=0.2556,\tbest rf's error=0.2556\n",
            "[flaml.automl: 07-31 23:17:07] {1020} INFO - iteration 11, current learner rf\n",
            "[flaml.automl: 07-31 23:17:08] {1180} INFO -  at 9.6s,\tbest rf's error=0.2556,\tbest rf's error=0.2556\n",
            "[flaml.automl: 07-31 23:17:08] {1020} INFO - iteration 12, current learner rf\n",
            "[flaml.automl: 07-31 23:17:10] {1180} INFO -  at 12.1s,\tbest rf's error=0.2556,\tbest rf's error=0.2556\n",
            "[flaml.automl: 07-31 23:17:10] {1020} INFO - iteration 13, current learner rf\n",
            "[flaml.automl: 07-31 23:17:11] {1180} INFO -  at 13.3s,\tbest rf's error=0.2534,\tbest rf's error=0.2534\n",
            "[flaml.automl: 07-31 23:17:11] {1020} INFO - iteration 14, current learner rf\n",
            "[flaml.automl: 07-31 23:17:14] {1180} INFO -  at 15.6s,\tbest rf's error=0.2534,\tbest rf's error=0.2534\n",
            "[flaml.automl: 07-31 23:17:14] {1020} INFO - iteration 15, current learner rf\n",
            "[flaml.automl: 07-31 23:17:15] {1180} INFO -  at 17.1s,\tbest rf's error=0.2534,\tbest rf's error=0.2534\n",
            "[flaml.automl: 07-31 23:17:15] {1020} INFO - iteration 16, current learner rf\n",
            "[flaml.automl: 07-31 23:17:16] {1180} INFO -  at 18.4s,\tbest rf's error=0.2534,\tbest rf's error=0.2534\n",
            "[flaml.automl: 07-31 23:17:16] {1020} INFO - iteration 17, current learner rf\n",
            "[flaml.automl: 07-31 23:17:17] {1180} INFO -  at 19.4s,\tbest rf's error=0.2534,\tbest rf's error=0.2534\n",
            "[flaml.automl: 07-31 23:17:17] {1020} INFO - iteration 18, current learner rf\n",
            "[flaml.automl: 07-31 23:17:22] {1180} INFO -  at 23.9s,\tbest rf's error=0.2531,\tbest rf's error=0.2531\n",
            "[flaml.automl: 07-31 23:17:22] {1020} INFO - iteration 19, current learner rf\n",
            "[flaml.automl: 07-31 23:17:27] {1180} INFO -  at 28.9s,\tbest rf's error=0.2525,\tbest rf's error=0.2525\n",
            "[flaml.automl: 07-31 23:17:27] {1020} INFO - iteration 20, current learner rf\n",
            "[flaml.automl: 07-31 23:17:30] {1180} INFO -  at 31.6s,\tbest rf's error=0.2486,\tbest rf's error=0.2486\n",
            "[flaml.automl: 07-31 23:17:30] {1020} INFO - iteration 21, current learner rf\n",
            "[flaml.automl: 07-31 23:17:34] {1180} INFO -  at 36.5s,\tbest rf's error=0.2486,\tbest rf's error=0.2486\n",
            "[flaml.automl: 07-31 23:17:34] {1020} INFO - iteration 22, current learner rf\n",
            "[flaml.automl: 07-31 23:17:38] {1180} INFO -  at 39.7s,\tbest rf's error=0.2486,\tbest rf's error=0.2486\n",
            "[flaml.automl: 07-31 23:17:38] {1020} INFO - iteration 23, current learner rf\n",
            "[flaml.automl: 07-31 23:17:44] {1180} INFO -  at 45.9s,\tbest rf's error=0.2486,\tbest rf's error=0.2486\n",
            "[flaml.automl: 07-31 23:17:44] {1020} INFO - iteration 24, current learner rf\n",
            "[flaml.automl: 07-31 23:17:47] {1180} INFO -  at 49.2s,\tbest rf's error=0.2486,\tbest rf's error=0.2486\n",
            "[flaml.automl: 07-31 23:17:47] {1020} INFO - iteration 25, current learner rf\n",
            "[flaml.automl: 07-31 23:17:51] {1180} INFO -  at 52.9s,\tbest rf's error=0.2486,\tbest rf's error=0.2486\n",
            "[flaml.automl: 07-31 23:17:51] {1020} INFO - iteration 26, current learner rf\n",
            "[flaml.automl: 07-31 23:17:56] {1180} INFO -  at 57.7s,\tbest rf's error=0.2486,\tbest rf's error=0.2486\n",
            "[flaml.automl: 07-31 23:17:56] {1220} INFO - selected model: RandomForestClassifier(max_features=0.6474332373706322, max_leaf_nodes=173,\n",
            "                       n_estimators=4, n_jobs=-1)\n",
            "[flaml.automl: 07-31 23:17:56] {970} INFO - fit succeeded\n"
          ],
          "name": "stderr"
        }
      ]
    },
    {
      "cell_type": "code",
      "metadata": {
        "colab": {
          "base_uri": "https://localhost:8080/"
        },
        "id": "h6JsnwqjW30j",
        "outputId": "31a9434a-99b2-4451-d076-d523c963e50b"
      },
      "source": [
        "automl2.model.estimator"
      ],
      "execution_count": 101,
      "outputs": [
        {
          "output_type": "execute_result",
          "data": {
            "text/plain": [
              "RandomForestClassifier(max_features=0.6474332373706322, max_leaf_nodes=173,\n",
              "                       n_estimators=4, n_jobs=-1)"
            ]
          },
          "metadata": {
            "tags": []
          },
          "execution_count": 101
        }
      ]
    },
    {
      "cell_type": "code",
      "metadata": {
        "colab": {
          "base_uri": "https://localhost:8080/"
        },
        "id": "lPHiD6eqOP5O",
        "outputId": "bf3eba1f-99cd-4a48-8c11-00d0cb5c8d84"
      },
      "source": [
        "''' retrieve best config and best learner'''\n",
        "print('Best ML leaner:', automl2.best_estimator)\n",
        "print('Best hyperparmeter config:', automl2.best_config)\n",
        "print('Best accuracy on validation data: {0:.4g}'.format(1-automl2.best_loss))\n",
        "print('Training duration of best run: {0:.4g} s'.format(automl2.best_config_train_time))\n",
        "\n",
        "print('Best hyperparmeter config:', automl2.best_config)"
      ],
      "execution_count": 102,
      "outputs": [
        {
          "output_type": "stream",
          "text": [
            "Best ML leaner: rf\n",
            "Best hyperparmeter config: {'n_estimators': 4, 'max_features': 0.6474332373706322, 'max_leaves': 173, 'criterion': 'gini', 'FLAML_sample_size': 175905}\n",
            "Best accuracy on validation data: 0.7514\n",
            "Training duration of best run: 2.661 s\n",
            "Best hyperparmeter config: {'n_estimators': 4, 'max_features': 0.6474332373706322, 'max_leaves': 173, 'criterion': 'gini', 'FLAML_sample_size': 175905}\n"
          ],
          "name": "stdout"
        }
      ]
    },
    {
      "cell_type": "code",
      "metadata": {
        "id": "WBFLo7W5Uo39"
      },
      "source": [
        "#PREDICTING ON THE TESTING SET\n",
        "y_pred_rf = automl2.predict(X_test_fe)\n",
        "\n",
        "y_pred_prob_rf=automl2.predict_proba(X_test_fe)"
      ],
      "execution_count": 103,
      "outputs": []
    },
    {
      "cell_type": "markdown",
      "metadata": {
        "id": "_2EbubMUVyC2"
      },
      "source": [
        "MODEL PERFORMANCE"
      ]
    },
    {
      "cell_type": "code",
      "metadata": {
        "colab": {
          "base_uri": "https://localhost:8080/"
        },
        "id": "EOwT8RUoVxJl",
        "outputId": "42408798-0f1b-449f-dc22-da5157ed40b4"
      },
      "source": [
        "from sklearn.metrics import confusion_matrix\n",
        "\n",
        "confusion_matrix(y_test, y_pred_rf)"
      ],
      "execution_count": 104,
      "outputs": [
        {
          "output_type": "execute_result",
          "data": {
            "text/plain": [
              "array([[ 3015,  3244,    88],\n",
              "       [ 1492, 31292,  4210],\n",
              "       [  116,  8535, 13159]])"
            ]
          },
          "metadata": {
            "tags": []
          },
          "execution_count": 104
        }
      ]
    },
    {
      "cell_type": "code",
      "metadata": {
        "colab": {
          "base_uri": "https://localhost:8080/"
        },
        "id": "2z45x2hpV-8b",
        "outputId": "52d81d42-d04e-4c3d-afdd-48473fd5b86b"
      },
      "source": [
        "from sklearn.metrics import classification_report\n",
        "\n",
        "print(classification_report(y_test, y_pred_rf))"
      ],
      "execution_count": 105,
      "outputs": [
        {
          "output_type": "stream",
          "text": [
            "              precision    recall  f1-score   support\n",
            "\n",
            "           1       0.65      0.48      0.55      6347\n",
            "           2       0.73      0.85      0.78     36994\n",
            "           3       0.75      0.60      0.67     21810\n",
            "\n",
            "    accuracy                           0.73     65151\n",
            "   macro avg       0.71      0.64      0.67     65151\n",
            "weighted avg       0.73      0.73      0.72     65151\n",
            "\n"
          ],
          "name": "stdout"
        }
      ]
    },
    {
      "cell_type": "markdown",
      "metadata": {
        "id": "IKJMrsTQWM1v"
      },
      "source": [
        "Manually creating RF from AutoML"
      ]
    },
    {
      "cell_type": "code",
      "metadata": {
        "colab": {
          "base_uri": "https://localhost:8080/"
        },
        "id": "ds8r40iEWvuO",
        "outputId": "3ff0de63-9128-42d6-c47c-0d3ed7f894aa"
      },
      "source": [
        "# Define a random forest model and call it classifier_RF\n",
        "classifier_RF = RandomForestClassifier(max_features=0.6474332373706322, max_leaf_nodes=173,\n",
        "                       n_estimators=4, n_jobs=-1) # recall what random_state mean\n",
        "\n",
        "# Train the model classifier_RF on the training data\n",
        "classifier_RF.fit(X_train_fe, y_train)"
      ],
      "execution_count": 113,
      "outputs": [
        {
          "output_type": "execute_result",
          "data": {
            "text/plain": [
              "RandomForestClassifier(max_features=0.6474332373706322, max_leaf_nodes=173,\n",
              "                       n_estimators=4, n_jobs=-1)"
            ]
          },
          "metadata": {
            "tags": []
          },
          "execution_count": 113
        }
      ]
    },
    {
      "cell_type": "code",
      "metadata": {
        "colab": {
          "base_uri": "https://localhost:8080/"
        },
        "id": "KIzgKTsSXRmG",
        "outputId": "6eadf398-f5c1-42f7-d09d-d27862820790"
      },
      "source": [
        "test_rf = classifier_RF.predict(X_test_fe)\n",
        "\n",
        "test_prob_rf=classifier_RF.predict_proba(X_test_fe)\n",
        "\n",
        "class_names = [str(x) for x in classifier_RF.classes_]\n",
        "\n",
        "from sklearn.metrics import accuracy_score, cohen_kappa_score, f1_score, log_loss\n",
        "\n",
        "print(\"Accuracy = {:.2f}\".format(accuracy_score(y_test, test_rf)))\n",
        "print(\"Kappa = {:.2f}\".format(cohen_kappa_score(y_test, test_rf)))\n",
        "print(\"F1 Score = {:.2f}\".format(f1_score(y_test, test_rf,average='micro')))\n",
        "print(\"Log Loss = {:.2f}\".format(log_loss(y_test, test_prob_rf)))"
      ],
      "execution_count": 114,
      "outputs": [
        {
          "output_type": "stream",
          "text": [
            "Accuracy = 0.73\n",
            "Kappa = 0.49\n",
            "F1 Score = 0.73\n",
            "Log Loss = 0.62\n"
          ],
          "name": "stdout"
        }
      ]
    },
    {
      "cell_type": "code",
      "metadata": {
        "colab": {
          "base_uri": "https://localhost:8080/"
        },
        "id": "ziJR4vyMYHiX",
        "outputId": "0608485a-8da8-429c-b112-f0151c7f9258"
      },
      "source": [
        "# Lets look at the model metrics\n",
        "\n",
        "print('Metrics of the Random Forest model: \\n')\n",
        "\n",
        "cm = np.transpose(confusion_matrix(y_test, test_rf))\n",
        "print(\"Confusion matrix: \\n\" + str(cm))\n",
        "\n",
        "print(\"                                   Accuracy: \" + str(custom_accuracy_score(y_test, test_rf))) \n",
        "print(\"                   SENSITIVITY (aka RECALL): \" + str(custom_sensitivity_score(y_test, test_rf)))\n",
        "print(\"                 SPECIFICITY (aka FALL-OUT): \" + str(custom_specificity_score(y_test, test_rf)))\n",
        "print(\" POSITIVE PREDICTIVE VALUE, (aka PRECISION): \" + str(custom_ppv_score(y_test, test_rf)))\n",
        "print(\"                 NEGATIVE PREDICTIVE VALUE): \" + str(custom_npv_score(y_test, test_rf)))\n",
        "\n"
      ],
      "execution_count": 117,
      "outputs": [
        {
          "output_type": "stream",
          "text": [
            "Metrics of the Random Forest model: \n",
            "\n",
            "Confusion matrix: \n",
            "[[ 3049  1516   120]\n",
            " [ 3206 31053  8362]\n",
            " [   92  4425 13328]]\n",
            "                                   Accuracy: 0.87837420152483\n",
            "                   SENSITIVITY (aka RECALL): 0.9534526697166017\n",
            "                 SPECIFICITY (aka FALL-OUT): 0.4874500399680256\n",
            " POSITIVE PREDICTIVE VALUE, (aka PRECISION): 0.9064187512770366\n",
            "                 NEGATIVE PREDICTIVE VALUE): 0.667907995618839\n"
          ],
          "name": "stdout"
        }
      ]
    },
    {
      "cell_type": "code",
      "metadata": {
        "colab": {
          "base_uri": "https://localhost:8080/",
          "height": 369
        },
        "id": "TujjG13T6EzU",
        "outputId": "695c3621-876e-4e83-d5fa-b407b6365af8"
      },
      "source": [
        "# Visualizing LGBM Model\n",
        "from yellowbrick.classifier import ClassificationReport\n",
        "\n",
        "# Instantiate the classification model and visualizer\n",
        "visualizer = ClassificationReport(classifier_RF,force_model=True)\n",
        "\n",
        "visualizer.fit(X_train_fe, y_train)  # Fit the visualizer and the model\n",
        "visualizer.score(X_test_fe, y_test)  # Evaluate the model on the test data"
      ],
      "execution_count": 119,
      "outputs": [
        {
          "output_type": "execute_result",
          "data": {
            "text/plain": [
              "0.7280011051250173"
            ]
          },
          "metadata": {
            "tags": []
          },
          "execution_count": 119
        },
        {
          "output_type": "display_data",
          "data": {
            "image/png": "[encoded data removed]",
            "text/plain": [
              "<Figure size 576x396 with 2 Axes>"
            ]
          },
          "metadata": {
            "tags": []
          }
        }
      ]
    },
    {
      "cell_type": "code",
      "metadata": {
        "colab": {
          "base_uri": "https://localhost:8080/",
          "height": 393
        },
        "id": "kXIVhyeh6QAo",
        "outputId": "e24f7668-fdbd-4474-8201-394ed785822a"
      },
      "source": [
        "from sklearn.linear_model import LogisticRegression\n",
        "from sklearn.model_selection import train_test_split\n",
        "\n",
        "from yellowbrick.classifier import ROCAUC\n",
        "from yellowbrick.datasets import load_spam\n",
        "\n",
        "\n",
        "model = classifier_RF\n",
        "visualizer = ROCAUC(model)\n",
        "\n",
        "visualizer.fit(X_train_fe, y_train)        # Fit the training data to the visualizer\n",
        "visualizer.score(X_test_fe, y_test)        # Evaluate the model on the test data\n",
        "visualizer.show() "
      ],
      "execution_count": 120,
      "outputs": [
        {
          "output_type": "display_data",
          "data": {
            "image/png": "[encoded data removed]",
            "text/plain": [
              "<Figure size 576x396 with 1 Axes>"
            ]
          },
          "metadata": {
            "tags": []
          }
        },
        {
          "output_type": "execute_result",
          "data": {
            "text/plain": [
              "<matplotlib.axes._subplots.AxesSubplot at 0x7f1261a735d0>"
            ]
          },
          "metadata": {
            "tags": []
          },
          "execution_count": 120
        }
      ]
    },
    {
      "cell_type": "code",
      "metadata": {
        "colab": {
          "base_uri": "https://localhost:8080/",
          "height": 419
        },
        "id": "cSxHHup96a3d",
        "outputId": "ff999484-26b3-4434-f15e-a5f2ab4b62eb"
      },
      "source": [
        "from sklearn.ensemble import RandomForestClassifier\n",
        "\n",
        "from yellowbrick.datasets import load_occupancy\n",
        "from yellowbrick.model_selection import FeatureImportances\n",
        "\n",
        "\n",
        "model = classifier_RF\n",
        "viz = FeatureImportances(model)\n",
        "viz.fit(X_train_fe, y_train)\n",
        "viz.show()"
      ],
      "execution_count": 124,
      "outputs": [
        {
          "output_type": "display_data",
          "data": {
            "image/png": "[encoded data removed]",
            "text/plain": [
              "<Figure size 576x396 with 1 Axes>"
            ]
          },
          "metadata": {
            "tags": []
          }
        },
        {
          "output_type": "execute_result",
          "data": {
            "text/plain": [
              "<matplotlib.axes._subplots.AxesSubplot at 0x7f1260e0b690>"
            ]
          },
          "metadata": {
            "tags": []
          },
          "execution_count": 124
        }
      ]
    },
    {
      "cell_type": "code",
      "metadata": {
        "id": "GlejPtJuWug_"
      },
      "source": [
        ""
      ],
      "execution_count": null,
      "outputs": []
    },
    {
      "cell_type": "markdown",
      "metadata": {
        "id": "bTWsE6nx1e0G"
      },
      "source": [
        "#XGBOOST"
      ]
    },
    {
      "cell_type": "code",
      "metadata": {
        "id": "5EA1FgSv1PQz"
      },
      "source": [
        "classifier_GBM = GradientBoostingClassifier(random_state=77300)\n",
        "\n",
        "classifier_GBM.fit(X_train, y_train)"
      ],
      "execution_count": null,
      "outputs": []
    },
    {
      "cell_type": "code",
      "metadata": {
        "id": "DV-zBu4z1d6P"
      },
      "source": [
        "y_pred_prob = classifier_GBM.predict_proba(X_test)[:,1]"
      ],
      "execution_count": null,
      "outputs": []
    },
    {
      "cell_type": "code",
      "metadata": {
        "id": "nO1P2t9GMI0Q"
      },
      "source": [
        ""
      ],
      "execution_count": null,
      "outputs": []
    },
    {
      "cell_type": "markdown",
      "metadata": {
        "id": "7JmtRrf7clv7"
      },
      "source": [
        ""
      ]
    },
    {
      "cell_type": "code",
      "metadata": {
        "id": "XIwIi8R7zq9I"
      },
      "source": [
        "from sklearn.pipeline import Pipeline\n",
        "from yellowbrick.classifier import ClassificationReport\n",
        "\n",
        "\n",
        "def visualize_model(X, y, estimator, **kwargs):\n",
        "    \"\"\"\n",
        "    Test various estimators.\n",
        "    \"\"\"\n",
        "    y = LabelEncoder().fit_transform(y)\n",
        "    model = Pipeline([\n",
        "        ('one_hot_encoder', OneHotEncoder()),\n",
        "        ('estimator', estimator)\n",
        "    ])\n",
        "\n",
        "    # Instantiate the classification model and visualizer\n",
        "    visualizer = ClassificationReport(\n",
        "        model, classes=['edible', 'poisonous'],\n",
        "        cmap=\"YlGn\", size=(600, 360), **kwargs\n",
        "    )\n",
        "    visualizer.fit(X, y)\n",
        "    visualizer.score(X, y)\n",
        "    visualizer.show()\n",
        "\n",
        "for model in models:\n",
        "    visualize_model(X, y, model)"
      ],
      "execution_count": null,
      "outputs": []
    },
    {
      "cell_type": "code",
      "metadata": {
        "id": "uxBwX7PqY5vE"
      },
      "source": [
        ""
      ],
      "execution_count": 116,
      "outputs": []
    }
  ]
}