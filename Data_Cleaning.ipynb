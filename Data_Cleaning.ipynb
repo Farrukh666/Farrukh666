{
  "cells": [
    {
      "cell_type": "markdown",
      "metadata": {
        "id": "view-in-github",
        "colab_type": "text"
      },
      "source": [
        "<a href=\"https://colab.research.google.com/github/Farrukh666/Farrukh666/blob/main/Data_Cleaning.ipynb\" target=\"_parent\"><img src=\"https://colab.research.google.com/assets/colab-badge.svg\" alt=\"Open In Colab\"/></a>"
      ]
    },
    {
      "cell_type": "code",
      "execution_count": 1,
      "metadata": {
        "colab": {
          "base_uri": "https://localhost:8080/"
        },
        "id": "PRZ7o99iEbxZ",
        "outputId": "9170f8c7-d697-4a6f-8457-cbd1c2bd78ce"
      },
      "outputs": [
        {
          "output_type": "stream",
          "name": "stdout",
          "text": [
            "Collecting fuzzywuzzy\n",
            "  Downloading fuzzywuzzy-0.18.0-py2.py3-none-any.whl (18 kB)\n",
            "Installing collected packages: fuzzywuzzy\n",
            "Successfully installed fuzzywuzzy-0.18.0\n"
          ]
        },
        {
          "output_type": "stream",
          "name": "stderr",
          "text": [
            "/usr/local/lib/python3.7/dist-packages/fuzzywuzzy/fuzz.py:11: UserWarning: Using slow pure-python SequenceMatcher. Install python-Levenshtein to remove this warning\n",
            "  warnings.warn('Using slow pure-python SequenceMatcher. Install python-Levenshtein to remove this warning')\n"
          ]
        },
        {
          "output_type": "stream",
          "name": "stdout",
          "text": [
            "Requirement already satisfied: fuzzywuzzy[speedup] in /usr/local/lib/python3.7/dist-packages (0.18.0)\n",
            "Collecting python-levenshtein>=0.12\n",
            "  Downloading python-Levenshtein-0.12.2.tar.gz (50 kB)\n",
            "\u001b[K     |████████████████████████████████| 50 kB 3.1 MB/s \n",
            "\u001b[?25hRequirement already satisfied: setuptools in /usr/local/lib/python3.7/dist-packages (from python-levenshtein>=0.12->fuzzywuzzy[speedup]) (57.4.0)\n",
            "Building wheels for collected packages: python-levenshtein\n",
            "  Building wheel for python-levenshtein (setup.py) ... \u001b[?25l\u001b[?25hdone\n",
            "  Created wheel for python-levenshtein: filename=python_Levenshtein-0.12.2-cp37-cp37m-linux_x86_64.whl size=149857 sha256=636f5c711a26e32898de11377ab81d717900ab394394e7cb9ccbb2116f3d5ecc\n",
            "  Stored in directory: /root/.cache/pip/wheels/05/5f/ca/7c4367734892581bb5ff896f15027a932c551080b2abd3e00d\n",
            "Successfully built python-levenshtein\n",
            "Installing collected packages: python-levenshtein\n",
            "Successfully installed python-levenshtein-0.12.2\n",
            "[nltk_data] Downloading package punkt to /root/nltk_data...\n",
            "[nltk_data]   Unzipping tokenizers/punkt.zip.\n",
            "[nltk_data] Downloading package averaged_perceptron_tagger to\n",
            "[nltk_data]     /root/nltk_data...\n",
            "[nltk_data]   Unzipping taggers/averaged_perceptron_tagger.zip.\n",
            "[nltk_data] Downloading package wordnet to /root/nltk_data...\n",
            "[nltk_data]   Unzipping corpora/wordnet.zip.\n"
          ]
        }
      ],
      "source": [
        "#Installing & Importing Libraries\n",
        "\n",
        "!pip install fuzzywuzzy\n",
        "\n",
        "from fuzzywuzzy import fuzz\n",
        "from fuzzywuzzy import process\n",
        "\n",
        "!pip install fuzzywuzzy[speedup]\n",
        "\n",
        "import pandas as pd\n",
        "\n",
        "import nltk\n",
        "import pandas as pd\n",
        "import numpy as np\n",
        "import warnings\n",
        "warnings.filterwarnings(\"ignore\")\n",
        "import nltk\n",
        "\n",
        "from nltk.corpus import stopwords\n",
        "import re\n",
        "import networkx\n",
        "\n",
        "from nltk.stem import WordNetLemmatizer\n",
        "from nltk.corpus import stopwords\n",
        "\n",
        "from sklearn.metrics import confusion_matrix, classification_report, accuracy_score\n",
        "\n",
        "import os\n",
        "import pandas as pd\n",
        "import matplotlib.pyplot as plt\n",
        "import seaborn as sns\n",
        "import itertools\n",
        "import collections\n",
        "\n",
        "import pandas as pd\n",
        "import numpy as np\n",
        "#for text pre-processing\n",
        "import re, string\n",
        "import nltk\n",
        "from nltk.tokenize import word_tokenize\n",
        "from nltk.corpus import stopwords\n",
        "from nltk.tokenize import word_tokenize\n",
        "from nltk.stem import SnowballStemmer\n",
        "from nltk.corpus import wordnet\n",
        "from nltk.stem import WordNetLemmatizer\n",
        "nltk.download('punkt')\n",
        "nltk.download('averaged_perceptron_tagger')\n",
        "nltk.download('wordnet')\n",
        "#for model-building\n",
        "from sklearn.model_selection import train_test_split\n",
        "from sklearn.linear_model import LogisticRegression\n",
        "from sklearn.naive_bayes import MultinomialNB\n",
        "from sklearn.metrics import classification_report, f1_score, accuracy_score, confusion_matrix\n",
        "from sklearn.metrics import roc_curve, auc, roc_auc_score\n",
        "# bag of words\n",
        "from sklearn.feature_extraction.text import TfidfVectorizer\n",
        "from sklearn.feature_extraction.text import CountVectorizer\n",
        "\n",
        "import re\n",
        "# For handling string\n",
        "import string\n",
        "# For performing mathematical operations\n",
        "import math"
      ]
    },
    {
      "cell_type": "code",
      "source": [
        "!pip install strsimpy==0.2.1"
      ],
      "metadata": {
        "colab": {
          "base_uri": "https://localhost:8080/"
        },
        "id": "p08n8PdHyGsn",
        "outputId": "11fb654d-0834-4488-e21f-9d7a0428d8bb"
      },
      "execution_count": 2,
      "outputs": [
        {
          "output_type": "stream",
          "name": "stdout",
          "text": [
            "Collecting strsimpy==0.2.1\n",
            "  Downloading strsimpy-0.2.1-py3-none-any.whl (45 kB)\n",
            "\u001b[K     |████████████████████████████████| 45 kB 1.9 MB/s \n",
            "\u001b[?25hInstalling collected packages: strsimpy\n",
            "Successfully installed strsimpy-0.2.1\n"
          ]
        }
      ]
    },
    {
      "cell_type": "code",
      "source": [
        "#Importing Data file..\n",
        "df1 = pd.read_excel('Brands.xlsx', header=0) \n",
        "df2 = pd.read_excel('Brands_psd.xlsx', header=0)"
      ],
      "metadata": {
        "id": "ocmIlmwERE4D"
      },
      "execution_count": 3,
      "outputs": []
    },
    {
      "cell_type": "code",
      "execution_count": 7,
      "metadata": {
        "id": "NUvwFtK3E-qS"
      },
      "outputs": [],
      "source": [
        "#Importing Data file..\n",
        "df = pd.read_csv('/content/Health_rb2.csv', header=0)"
      ]
    },
    {
      "cell_type": "code",
      "source": [
        "df1=df.drop('Attribute 1',axis=1)\n",
        "df2=df.drop('Product SKU Description',axis=1)"
      ],
      "metadata": {
        "id": "YLnp8wfqHGdl"
      },
      "execution_count": 11,
      "outputs": []
    },
    {
      "cell_type": "code",
      "source": [
        "df1.head(1)"
      ],
      "metadata": {
        "colab": {
          "base_uri": "https://localhost:8080/",
          "height": 81
        },
        "id": "OwKCw_DuHS7B",
        "outputId": "7b453fb4-9668-42e2-d482-25acd47ac3b1"
      },
      "execution_count": 16,
      "outputs": [
        {
          "output_type": "execute_result",
          "data": {
            "text/plain": [
              "      LOB Level 1 Name Brand Name Level 6 Name  Product SKU Description  \\\n",
              "0  Health          UAE    Bonjela    HC Others  BONJE,ME,GEL, 24x12x15g   \n",
              "\n",
              "            Product Id                     PSU  \n",
              "0  34910303_PREC000029  Bonjela,GEL, 24x12x15g  "
            ],
            "text/html": [
              "\n",
              "  <div id=\"df-df80662f-610f-469a-934f-d9d6adddc899\">\n",
              "    <div class=\"colab-df-container\">\n",
              "      <div>\n",
              "<style scoped>\n",
              "    .dataframe tbody tr th:only-of-type {\n",
              "        vertical-align: middle;\n",
              "    }\n",
              "\n",
              "    .dataframe tbody tr th {\n",
              "        vertical-align: top;\n",
              "    }\n",
              "\n",
              "    .dataframe thead th {\n",
              "        text-align: right;\n",
              "    }\n",
              "</style>\n",
              "<table border=\"1\" class=\"dataframe\">\n",
              "  <thead>\n",
              "    <tr style=\"text-align: right;\">\n",
              "      <th></th>\n",
              "      <th>LOB</th>\n",
              "      <th>Level 1 Name</th>\n",
              "      <th>Brand Name</th>\n",
              "      <th>Level 6 Name</th>\n",
              "      <th>Product SKU Description</th>\n",
              "      <th>Product Id</th>\n",
              "      <th>PSU</th>\n",
              "    </tr>\n",
              "  </thead>\n",
              "  <tbody>\n",
              "    <tr>\n",
              "      <th>0</th>\n",
              "      <td>Health</td>\n",
              "      <td>UAE</td>\n",
              "      <td>Bonjela</td>\n",
              "      <td>HC Others</td>\n",
              "      <td>BONJE,ME,GEL, 24x12x15g</td>\n",
              "      <td>34910303_PREC000029</td>\n",
              "      <td>Bonjela,GEL, 24x12x15g</td>\n",
              "    </tr>\n",
              "  </tbody>\n",
              "</table>\n",
              "</div>\n",
              "      <button class=\"colab-df-convert\" onclick=\"convertToInteractive('df-df80662f-610f-469a-934f-d9d6adddc899')\"\n",
              "              title=\"Convert this dataframe to an interactive table.\"\n",
              "              style=\"display:none;\">\n",
              "        \n",
              "  <svg xmlns=\"http://www.w3.org/2000/svg\" height=\"24px\"viewBox=\"0 0 24 24\"\n",
              "       width=\"24px\">\n",
              "    <path d=\"M0 0h24v24H0V0z\" fill=\"none\"/>\n",
              "    <path d=\"M18.56 5.44l.94 2.06.94-2.06 2.06-.94-2.06-.94-.94-2.06-.94 2.06-2.06.94zm-11 1L8.5 8.5l.94-2.06 2.06-.94-2.06-.94L8.5 2.5l-.94 2.06-2.06.94zm10 10l.94 2.06.94-2.06 2.06-.94-2.06-.94-.94-2.06-.94 2.06-2.06.94z\"/><path d=\"M17.41 7.96l-1.37-1.37c-.4-.4-.92-.59-1.43-.59-.52 0-1.04.2-1.43.59L10.3 9.45l-7.72 7.72c-.78.78-.78 2.05 0 2.83L4 21.41c.39.39.9.59 1.41.59.51 0 1.02-.2 1.41-.59l7.78-7.78 2.81-2.81c.8-.78.8-2.07 0-2.86zM5.41 20L4 18.59l7.72-7.72 1.47 1.35L5.41 20z\"/>\n",
              "  </svg>\n",
              "      </button>\n",
              "      \n",
              "  <style>\n",
              "    .colab-df-container {\n",
              "      display:flex;\n",
              "      flex-wrap:wrap;\n",
              "      gap: 12px;\n",
              "    }\n",
              "\n",
              "    .colab-df-convert {\n",
              "      background-color: #E8F0FE;\n",
              "      border: none;\n",
              "      border-radius: 50%;\n",
              "      cursor: pointer;\n",
              "      display: none;\n",
              "      fill: #1967D2;\n",
              "      height: 32px;\n",
              "      padding: 0 0 0 0;\n",
              "      width: 32px;\n",
              "    }\n",
              "\n",
              "    .colab-df-convert:hover {\n",
              "      background-color: #E2EBFA;\n",
              "      box-shadow: 0px 1px 2px rgba(60, 64, 67, 0.3), 0px 1px 3px 1px rgba(60, 64, 67, 0.15);\n",
              "      fill: #174EA6;\n",
              "    }\n",
              "\n",
              "    [theme=dark] .colab-df-convert {\n",
              "      background-color: #3B4455;\n",
              "      fill: #D2E3FC;\n",
              "    }\n",
              "\n",
              "    [theme=dark] .colab-df-convert:hover {\n",
              "      background-color: #434B5C;\n",
              "      box-shadow: 0px 1px 3px 1px rgba(0, 0, 0, 0.15);\n",
              "      filter: drop-shadow(0px 1px 2px rgba(0, 0, 0, 0.3));\n",
              "      fill: #FFFFFF;\n",
              "    }\n",
              "  </style>\n",
              "\n",
              "      <script>\n",
              "        const buttonEl =\n",
              "          document.querySelector('#df-df80662f-610f-469a-934f-d9d6adddc899 button.colab-df-convert');\n",
              "        buttonEl.style.display =\n",
              "          google.colab.kernel.accessAllowed ? 'block' : 'none';\n",
              "\n",
              "        async function convertToInteractive(key) {\n",
              "          const element = document.querySelector('#df-df80662f-610f-469a-934f-d9d6adddc899');\n",
              "          const dataTable =\n",
              "            await google.colab.kernel.invokeFunction('convertToInteractive',\n",
              "                                                     [key], {});\n",
              "          if (!dataTable) return;\n",
              "\n",
              "          const docLinkHtml = 'Like what you see? Visit the ' +\n",
              "            '<a target=\"_blank\" href=https://colab.research.google.com/notebooks/data_table.ipynb>data table notebook</a>'\n",
              "            + ' to learn more about interactive tables.';\n",
              "          element.innerHTML = '';\n",
              "          dataTable['output_type'] = 'display_data';\n",
              "          await google.colab.output.renderOutput(dataTable, element);\n",
              "          const docLink = document.createElement('div');\n",
              "          docLink.innerHTML = docLinkHtml;\n",
              "          element.appendChild(docLink);\n",
              "        }\n",
              "      </script>\n",
              "    </div>\n",
              "  </div>\n",
              "  "
            ]
          },
          "metadata": {},
          "execution_count": 16
        }
      ]
    },
    {
      "cell_type": "code",
      "source": [
        "df2.head(1)"
      ],
      "metadata": {
        "colab": {
          "base_uri": "https://localhost:8080/",
          "height": 81
        },
        "id": "5c3YFuNLRfdE",
        "outputId": "b84237cd-7d6a-4fb0-f8c6-18d0003e4be4"
      },
      "execution_count": 13,
      "outputs": [
        {
          "output_type": "execute_result",
          "data": {
            "text/plain": [
              "      LOB Level 1 Name Brand Name Level 6 Name           Product Id  \\\n",
              "0  Health          UAE    Bonjela    HC Others  34910303_PREC000029   \n",
              "\n",
              "                   Attribute 1  \n",
              "0  BONJELA  ADULT ORAL GEL 15G  "
            ],
            "text/html": [
              "\n",
              "  <div id=\"df-4a238c09-ebd8-4693-a86f-01f0ceae34f5\">\n",
              "    <div class=\"colab-df-container\">\n",
              "      <div>\n",
              "<style scoped>\n",
              "    .dataframe tbody tr th:only-of-type {\n",
              "        vertical-align: middle;\n",
              "    }\n",
              "\n",
              "    .dataframe tbody tr th {\n",
              "        vertical-align: top;\n",
              "    }\n",
              "\n",
              "    .dataframe thead th {\n",
              "        text-align: right;\n",
              "    }\n",
              "</style>\n",
              "<table border=\"1\" class=\"dataframe\">\n",
              "  <thead>\n",
              "    <tr style=\"text-align: right;\">\n",
              "      <th></th>\n",
              "      <th>LOB</th>\n",
              "      <th>Level 1 Name</th>\n",
              "      <th>Brand Name</th>\n",
              "      <th>Level 6 Name</th>\n",
              "      <th>Product Id</th>\n",
              "      <th>Attribute 1</th>\n",
              "    </tr>\n",
              "  </thead>\n",
              "  <tbody>\n",
              "    <tr>\n",
              "      <th>0</th>\n",
              "      <td>Health</td>\n",
              "      <td>UAE</td>\n",
              "      <td>Bonjela</td>\n",
              "      <td>HC Others</td>\n",
              "      <td>34910303_PREC000029</td>\n",
              "      <td>BONJELA  ADULT ORAL GEL 15G</td>\n",
              "    </tr>\n",
              "  </tbody>\n",
              "</table>\n",
              "</div>\n",
              "      <button class=\"colab-df-convert\" onclick=\"convertToInteractive('df-4a238c09-ebd8-4693-a86f-01f0ceae34f5')\"\n",
              "              title=\"Convert this dataframe to an interactive table.\"\n",
              "              style=\"display:none;\">\n",
              "        \n",
              "  <svg xmlns=\"http://www.w3.org/2000/svg\" height=\"24px\"viewBox=\"0 0 24 24\"\n",
              "       width=\"24px\">\n",
              "    <path d=\"M0 0h24v24H0V0z\" fill=\"none\"/>\n",
              "    <path d=\"M18.56 5.44l.94 2.06.94-2.06 2.06-.94-2.06-.94-.94-2.06-.94 2.06-2.06.94zm-11 1L8.5 8.5l.94-2.06 2.06-.94-2.06-.94L8.5 2.5l-.94 2.06-2.06.94zm10 10l.94 2.06.94-2.06 2.06-.94-2.06-.94-.94-2.06-.94 2.06-2.06.94z\"/><path d=\"M17.41 7.96l-1.37-1.37c-.4-.4-.92-.59-1.43-.59-.52 0-1.04.2-1.43.59L10.3 9.45l-7.72 7.72c-.78.78-.78 2.05 0 2.83L4 21.41c.39.39.9.59 1.41.59.51 0 1.02-.2 1.41-.59l7.78-7.78 2.81-2.81c.8-.78.8-2.07 0-2.86zM5.41 20L4 18.59l7.72-7.72 1.47 1.35L5.41 20z\"/>\n",
              "  </svg>\n",
              "      </button>\n",
              "      \n",
              "  <style>\n",
              "    .colab-df-container {\n",
              "      display:flex;\n",
              "      flex-wrap:wrap;\n",
              "      gap: 12px;\n",
              "    }\n",
              "\n",
              "    .colab-df-convert {\n",
              "      background-color: #E8F0FE;\n",
              "      border: none;\n",
              "      border-radius: 50%;\n",
              "      cursor: pointer;\n",
              "      display: none;\n",
              "      fill: #1967D2;\n",
              "      height: 32px;\n",
              "      padding: 0 0 0 0;\n",
              "      width: 32px;\n",
              "    }\n",
              "\n",
              "    .colab-df-convert:hover {\n",
              "      background-color: #E2EBFA;\n",
              "      box-shadow: 0px 1px 2px rgba(60, 64, 67, 0.3), 0px 1px 3px 1px rgba(60, 64, 67, 0.15);\n",
              "      fill: #174EA6;\n",
              "    }\n",
              "\n",
              "    [theme=dark] .colab-df-convert {\n",
              "      background-color: #3B4455;\n",
              "      fill: #D2E3FC;\n",
              "    }\n",
              "\n",
              "    [theme=dark] .colab-df-convert:hover {\n",
              "      background-color: #434B5C;\n",
              "      box-shadow: 0px 1px 3px 1px rgba(0, 0, 0, 0.15);\n",
              "      filter: drop-shadow(0px 1px 2px rgba(0, 0, 0, 0.3));\n",
              "      fill: #FFFFFF;\n",
              "    }\n",
              "  </style>\n",
              "\n",
              "      <script>\n",
              "        const buttonEl =\n",
              "          document.querySelector('#df-4a238c09-ebd8-4693-a86f-01f0ceae34f5 button.colab-df-convert');\n",
              "        buttonEl.style.display =\n",
              "          google.colab.kernel.accessAllowed ? 'block' : 'none';\n",
              "\n",
              "        async function convertToInteractive(key) {\n",
              "          const element = document.querySelector('#df-4a238c09-ebd8-4693-a86f-01f0ceae34f5');\n",
              "          const dataTable =\n",
              "            await google.colab.kernel.invokeFunction('convertToInteractive',\n",
              "                                                     [key], {});\n",
              "          if (!dataTable) return;\n",
              "\n",
              "          const docLinkHtml = 'Like what you see? Visit the ' +\n",
              "            '<a target=\"_blank\" href=https://colab.research.google.com/notebooks/data_table.ipynb>data table notebook</a>'\n",
              "            + ' to learn more about interactive tables.';\n",
              "          element.innerHTML = '';\n",
              "          dataTable['output_type'] = 'display_data';\n",
              "          await google.colab.output.renderOutput(dataTable, element);\n",
              "          const docLink = document.createElement('div');\n",
              "          docLink.innerHTML = docLinkHtml;\n",
              "          element.appendChild(docLink);\n",
              "        }\n",
              "      </script>\n",
              "    </div>\n",
              "  </div>\n",
              "  "
            ]
          },
          "metadata": {},
          "execution_count": 13
        }
      ]
    },
    {
      "cell_type": "code",
      "source": [
        "#Fixing Brand spelling \n",
        "\n",
        "# df['new_psa'] = df['Brand Name'].concat\n",
        "df1['PSU'] = df1['Brand Name'] + ',' + df1['Product SKU Description'].str.split(',', n=2).str.get(-1)\n",
        "df1.head(2)"
      ],
      "metadata": {
        "colab": {
          "base_uri": "https://localhost:8080/",
          "height": 112
        },
        "id": "D8BdN7XYUt70",
        "outputId": "1f3c6027-7045-47fe-e73a-46e167b65fe4"
      },
      "execution_count": 14,
      "outputs": [
        {
          "output_type": "execute_result",
          "data": {
            "text/plain": [
              "      LOB Level 1 Name Brand Name Level 6 Name   Product SKU Description  \\\n",
              "0  Health          UAE    Bonjela    HC Others   BONJE,ME,GEL, 24x12x15g   \n",
              "1  Health          UAE  Clearasil    HC Others  CLRSL,ME,ULTRA SCRUB 150   \n",
              "\n",
              "                    Product Id                        PSU  \n",
              "0          34910303_PREC000029     Bonjela,GEL, 24x12x15g  \n",
              "1  76900001_6295120006795RC612  Clearasil,ULTRA SCRUB 150  "
            ],
            "text/html": [
              "\n",
              "  <div id=\"df-6c78f6a9-a358-45fd-9567-589fab7ad6b9\">\n",
              "    <div class=\"colab-df-container\">\n",
              "      <div>\n",
              "<style scoped>\n",
              "    .dataframe tbody tr th:only-of-type {\n",
              "        vertical-align: middle;\n",
              "    }\n",
              "\n",
              "    .dataframe tbody tr th {\n",
              "        vertical-align: top;\n",
              "    }\n",
              "\n",
              "    .dataframe thead th {\n",
              "        text-align: right;\n",
              "    }\n",
              "</style>\n",
              "<table border=\"1\" class=\"dataframe\">\n",
              "  <thead>\n",
              "    <tr style=\"text-align: right;\">\n",
              "      <th></th>\n",
              "      <th>LOB</th>\n",
              "      <th>Level 1 Name</th>\n",
              "      <th>Brand Name</th>\n",
              "      <th>Level 6 Name</th>\n",
              "      <th>Product SKU Description</th>\n",
              "      <th>Product Id</th>\n",
              "      <th>PSU</th>\n",
              "    </tr>\n",
              "  </thead>\n",
              "  <tbody>\n",
              "    <tr>\n",
              "      <th>0</th>\n",
              "      <td>Health</td>\n",
              "      <td>UAE</td>\n",
              "      <td>Bonjela</td>\n",
              "      <td>HC Others</td>\n",
              "      <td>BONJE,ME,GEL, 24x12x15g</td>\n",
              "      <td>34910303_PREC000029</td>\n",
              "      <td>Bonjela,GEL, 24x12x15g</td>\n",
              "    </tr>\n",
              "    <tr>\n",
              "      <th>1</th>\n",
              "      <td>Health</td>\n",
              "      <td>UAE</td>\n",
              "      <td>Clearasil</td>\n",
              "      <td>HC Others</td>\n",
              "      <td>CLRSL,ME,ULTRA SCRUB 150</td>\n",
              "      <td>76900001_6295120006795RC612</td>\n",
              "      <td>Clearasil,ULTRA SCRUB 150</td>\n",
              "    </tr>\n",
              "  </tbody>\n",
              "</table>\n",
              "</div>\n",
              "      <button class=\"colab-df-convert\" onclick=\"convertToInteractive('df-6c78f6a9-a358-45fd-9567-589fab7ad6b9')\"\n",
              "              title=\"Convert this dataframe to an interactive table.\"\n",
              "              style=\"display:none;\">\n",
              "        \n",
              "  <svg xmlns=\"http://www.w3.org/2000/svg\" height=\"24px\"viewBox=\"0 0 24 24\"\n",
              "       width=\"24px\">\n",
              "    <path d=\"M0 0h24v24H0V0z\" fill=\"none\"/>\n",
              "    <path d=\"M18.56 5.44l.94 2.06.94-2.06 2.06-.94-2.06-.94-.94-2.06-.94 2.06-2.06.94zm-11 1L8.5 8.5l.94-2.06 2.06-.94-2.06-.94L8.5 2.5l-.94 2.06-2.06.94zm10 10l.94 2.06.94-2.06 2.06-.94-2.06-.94-.94-2.06-.94 2.06-2.06.94z\"/><path d=\"M17.41 7.96l-1.37-1.37c-.4-.4-.92-.59-1.43-.59-.52 0-1.04.2-1.43.59L10.3 9.45l-7.72 7.72c-.78.78-.78 2.05 0 2.83L4 21.41c.39.39.9.59 1.41.59.51 0 1.02-.2 1.41-.59l7.78-7.78 2.81-2.81c.8-.78.8-2.07 0-2.86zM5.41 20L4 18.59l7.72-7.72 1.47 1.35L5.41 20z\"/>\n",
              "  </svg>\n",
              "      </button>\n",
              "      \n",
              "  <style>\n",
              "    .colab-df-container {\n",
              "      display:flex;\n",
              "      flex-wrap:wrap;\n",
              "      gap: 12px;\n",
              "    }\n",
              "\n",
              "    .colab-df-convert {\n",
              "      background-color: #E8F0FE;\n",
              "      border: none;\n",
              "      border-radius: 50%;\n",
              "      cursor: pointer;\n",
              "      display: none;\n",
              "      fill: #1967D2;\n",
              "      height: 32px;\n",
              "      padding: 0 0 0 0;\n",
              "      width: 32px;\n",
              "    }\n",
              "\n",
              "    .colab-df-convert:hover {\n",
              "      background-color: #E2EBFA;\n",
              "      box-shadow: 0px 1px 2px rgba(60, 64, 67, 0.3), 0px 1px 3px 1px rgba(60, 64, 67, 0.15);\n",
              "      fill: #174EA6;\n",
              "    }\n",
              "\n",
              "    [theme=dark] .colab-df-convert {\n",
              "      background-color: #3B4455;\n",
              "      fill: #D2E3FC;\n",
              "    }\n",
              "\n",
              "    [theme=dark] .colab-df-convert:hover {\n",
              "      background-color: #434B5C;\n",
              "      box-shadow: 0px 1px 3px 1px rgba(0, 0, 0, 0.15);\n",
              "      filter: drop-shadow(0px 1px 2px rgba(0, 0, 0, 0.3));\n",
              "      fill: #FFFFFF;\n",
              "    }\n",
              "  </style>\n",
              "\n",
              "      <script>\n",
              "        const buttonEl =\n",
              "          document.querySelector('#df-6c78f6a9-a358-45fd-9567-589fab7ad6b9 button.colab-df-convert');\n",
              "        buttonEl.style.display =\n",
              "          google.colab.kernel.accessAllowed ? 'block' : 'none';\n",
              "\n",
              "        async function convertToInteractive(key) {\n",
              "          const element = document.querySelector('#df-6c78f6a9-a358-45fd-9567-589fab7ad6b9');\n",
              "          const dataTable =\n",
              "            await google.colab.kernel.invokeFunction('convertToInteractive',\n",
              "                                                     [key], {});\n",
              "          if (!dataTable) return;\n",
              "\n",
              "          const docLinkHtml = 'Like what you see? Visit the ' +\n",
              "            '<a target=\"_blank\" href=https://colab.research.google.com/notebooks/data_table.ipynb>data table notebook</a>'\n",
              "            + ' to learn more about interactive tables.';\n",
              "          element.innerHTML = '';\n",
              "          dataTable['output_type'] = 'display_data';\n",
              "          await google.colab.output.renderOutput(dataTable, element);\n",
              "          const docLink = document.createElement('div');\n",
              "          docLink.innerHTML = docLinkHtml;\n",
              "          element.appendChild(docLink);\n",
              "        }\n",
              "      </script>\n",
              "    </div>\n",
              "  </div>\n",
              "  "
            ]
          },
          "metadata": {},
          "execution_count": 14
        }
      ]
    },
    {
      "cell_type": "code",
      "source": [
        "#Taking out desc & packsizes...\n",
        "\n",
        "df1['Desc'] = df1['Brand Name'] + ',' + df1['Product SKU Description'].str.split(',', n=2).str.get(-1)\n",
        "df1.head(2)"
      ],
      "metadata": {
        "id": "BBh7IR8zQBW_"
      },
      "execution_count": null,
      "outputs": []
    },
    {
      "cell_type": "code",
      "source": [
        "#Whitespace cleaning\n",
        "\n",
        "from unicodedata import normalize\n",
        "def clean_normalize_whitespace(x):\n",
        "    if isinstance(x, str):\n",
        "        return normalize('NFKC', x).strip()\n",
        "    else:\n",
        "        return x\n",
        "\n",
        "df1 = df1.applymap(clean_normalize_whitespace)\n",
        "df2 = df2.applymap(clean_normalize_whitespace)\n",
        "#clean column headings as well\n",
        "#df_GDP.columns = df_GDP.columns.to_series().apply(clean_normalize_whitespace)"
      ],
      "metadata": {
        "id": "IIt5OXhsuGtW"
      },
      "execution_count": 17,
      "outputs": []
    },
    {
      "cell_type": "code",
      "source": [
        "df1['PSU']=df1['PSU'].astype(str)\n",
        "df2['Attribute 1']=df2['Attribute 1'].astype(str)"
      ],
      "metadata": {
        "id": "XDyw-d-dIy7j"
      },
      "execution_count": 19,
      "outputs": []
    },
    {
      "cell_type": "code",
      "source": [
        "#Cleaning both the Data Frames texts..\n",
        "\n",
        "def text_prepare(text):\n",
        "    \"\"\"\n",
        "        text: a string\n",
        "        \n",
        "        return: a clean string\n",
        "    \"\"\"\n",
        "    REPLACE_BY_SPACE_RE = re.compile('[\\n\\\"\\'/(){}\\[\\]\\|@,;#]')\n",
        "    text = re.sub(REPLACE_BY_SPACE_RE, ' ', text)\n",
        "    text = re.sub(' +', ' ', text)\n",
        "    text = text.lower()\n",
        "    return text\n",
        "\n",
        "df1[\"PSU\"] = df1[\"PSU\"].apply(lambda x: text_prepare(x))\n",
        "df2[\"A1\"] = df2[\"Attribute 1\"].apply(lambda x: text_prepare(x))"
      ],
      "metadata": {
        "id": "JqD_b-PfTdmN"
      },
      "execution_count": 20,
      "outputs": []
    },
    {
      "cell_type": "code",
      "source": [
        "df2.head(1)"
      ],
      "metadata": {
        "colab": {
          "base_uri": "https://localhost:8080/",
          "height": 81
        },
        "id": "Z7E8ho2gUMeL",
        "outputId": "31d51f69-d372-4fa7-8a85-f9efdbbf1ebb"
      },
      "execution_count": 21,
      "outputs": [
        {
          "output_type": "execute_result",
          "data": {
            "text/plain": [
              "      LOB Level 1 Name Brand Name Level 6 Name           Product Id  \\\n",
              "0  Health          UAE    Bonjela    HC Others  34910303_PREC000029   \n",
              "\n",
              "                   Attribute 1                          A1  \n",
              "0  BONJELA  ADULT ORAL GEL 15G  bonjela adult oral gel 15g  "
            ],
            "text/html": [
              "\n",
              "  <div id=\"df-4d5a2a43-d946-4bd1-b4bb-d0958dc7bbfd\">\n",
              "    <div class=\"colab-df-container\">\n",
              "      <div>\n",
              "<style scoped>\n",
              "    .dataframe tbody tr th:only-of-type {\n",
              "        vertical-align: middle;\n",
              "    }\n",
              "\n",
              "    .dataframe tbody tr th {\n",
              "        vertical-align: top;\n",
              "    }\n",
              "\n",
              "    .dataframe thead th {\n",
              "        text-align: right;\n",
              "    }\n",
              "</style>\n",
              "<table border=\"1\" class=\"dataframe\">\n",
              "  <thead>\n",
              "    <tr style=\"text-align: right;\">\n",
              "      <th></th>\n",
              "      <th>LOB</th>\n",
              "      <th>Level 1 Name</th>\n",
              "      <th>Brand Name</th>\n",
              "      <th>Level 6 Name</th>\n",
              "      <th>Product Id</th>\n",
              "      <th>Attribute 1</th>\n",
              "      <th>A1</th>\n",
              "    </tr>\n",
              "  </thead>\n",
              "  <tbody>\n",
              "    <tr>\n",
              "      <th>0</th>\n",
              "      <td>Health</td>\n",
              "      <td>UAE</td>\n",
              "      <td>Bonjela</td>\n",
              "      <td>HC Others</td>\n",
              "      <td>34910303_PREC000029</td>\n",
              "      <td>BONJELA  ADULT ORAL GEL 15G</td>\n",
              "      <td>bonjela adult oral gel 15g</td>\n",
              "    </tr>\n",
              "  </tbody>\n",
              "</table>\n",
              "</div>\n",
              "      <button class=\"colab-df-convert\" onclick=\"convertToInteractive('df-4d5a2a43-d946-4bd1-b4bb-d0958dc7bbfd')\"\n",
              "              title=\"Convert this dataframe to an interactive table.\"\n",
              "              style=\"display:none;\">\n",
              "        \n",
              "  <svg xmlns=\"http://www.w3.org/2000/svg\" height=\"24px\"viewBox=\"0 0 24 24\"\n",
              "       width=\"24px\">\n",
              "    <path d=\"M0 0h24v24H0V0z\" fill=\"none\"/>\n",
              "    <path d=\"M18.56 5.44l.94 2.06.94-2.06 2.06-.94-2.06-.94-.94-2.06-.94 2.06-2.06.94zm-11 1L8.5 8.5l.94-2.06 2.06-.94-2.06-.94L8.5 2.5l-.94 2.06-2.06.94zm10 10l.94 2.06.94-2.06 2.06-.94-2.06-.94-.94-2.06-.94 2.06-2.06.94z\"/><path d=\"M17.41 7.96l-1.37-1.37c-.4-.4-.92-.59-1.43-.59-.52 0-1.04.2-1.43.59L10.3 9.45l-7.72 7.72c-.78.78-.78 2.05 0 2.83L4 21.41c.39.39.9.59 1.41.59.51 0 1.02-.2 1.41-.59l7.78-7.78 2.81-2.81c.8-.78.8-2.07 0-2.86zM5.41 20L4 18.59l7.72-7.72 1.47 1.35L5.41 20z\"/>\n",
              "  </svg>\n",
              "      </button>\n",
              "      \n",
              "  <style>\n",
              "    .colab-df-container {\n",
              "      display:flex;\n",
              "      flex-wrap:wrap;\n",
              "      gap: 12px;\n",
              "    }\n",
              "\n",
              "    .colab-df-convert {\n",
              "      background-color: #E8F0FE;\n",
              "      border: none;\n",
              "      border-radius: 50%;\n",
              "      cursor: pointer;\n",
              "      display: none;\n",
              "      fill: #1967D2;\n",
              "      height: 32px;\n",
              "      padding: 0 0 0 0;\n",
              "      width: 32px;\n",
              "    }\n",
              "\n",
              "    .colab-df-convert:hover {\n",
              "      background-color: #E2EBFA;\n",
              "      box-shadow: 0px 1px 2px rgba(60, 64, 67, 0.3), 0px 1px 3px 1px rgba(60, 64, 67, 0.15);\n",
              "      fill: #174EA6;\n",
              "    }\n",
              "\n",
              "    [theme=dark] .colab-df-convert {\n",
              "      background-color: #3B4455;\n",
              "      fill: #D2E3FC;\n",
              "    }\n",
              "\n",
              "    [theme=dark] .colab-df-convert:hover {\n",
              "      background-color: #434B5C;\n",
              "      box-shadow: 0px 1px 3px 1px rgba(0, 0, 0, 0.15);\n",
              "      filter: drop-shadow(0px 1px 2px rgba(0, 0, 0, 0.3));\n",
              "      fill: #FFFFFF;\n",
              "    }\n",
              "  </style>\n",
              "\n",
              "      <script>\n",
              "        const buttonEl =\n",
              "          document.querySelector('#df-4d5a2a43-d946-4bd1-b4bb-d0958dc7bbfd button.colab-df-convert');\n",
              "        buttonEl.style.display =\n",
              "          google.colab.kernel.accessAllowed ? 'block' : 'none';\n",
              "\n",
              "        async function convertToInteractive(key) {\n",
              "          const element = document.querySelector('#df-4d5a2a43-d946-4bd1-b4bb-d0958dc7bbfd');\n",
              "          const dataTable =\n",
              "            await google.colab.kernel.invokeFunction('convertToInteractive',\n",
              "                                                     [key], {});\n",
              "          if (!dataTable) return;\n",
              "\n",
              "          const docLinkHtml = 'Like what you see? Visit the ' +\n",
              "            '<a target=\"_blank\" href=https://colab.research.google.com/notebooks/data_table.ipynb>data table notebook</a>'\n",
              "            + ' to learn more about interactive tables.';\n",
              "          element.innerHTML = '';\n",
              "          dataTable['output_type'] = 'display_data';\n",
              "          await google.colab.output.renderOutput(dataTable, element);\n",
              "          const docLink = document.createElement('div');\n",
              "          docLink.innerHTML = docLinkHtml;\n",
              "          element.appendChild(docLink);\n",
              "        }\n",
              "      </script>\n",
              "    </div>\n",
              "  </div>\n",
              "  "
            ]
          },
          "metadata": {},
          "execution_count": 21
        }
      ]
    },
    {
      "cell_type": "code",
      "source": [
        "df1.head(2)"
      ],
      "metadata": {
        "colab": {
          "base_uri": "https://localhost:8080/",
          "height": 112
        },
        "id": "iA7LrXL8USAg",
        "outputId": "824d52d6-c8c3-4ecb-d677-2b5bdc9de271"
      },
      "execution_count": 59,
      "outputs": [
        {
          "output_type": "execute_result",
          "data": {
            "text/plain": [
              "      LOB Level 1 Name Brand Name Level 6 Name   Product SKU Description  \\\n",
              "0  Health          UAE    Bonjela    HC Others   BONJE,ME,GEL, 24x12x15g   \n",
              "1  Health          UAE  Clearasil    HC Others  CLRSL,ME,ULTRA SCRUB 150   \n",
              "\n",
              "                    Product Id                        PSU Size  Brand&Size  \n",
              "0          34910303_PREC000029      bonjela gel 24x12x15g  15g  Bonjela15g  \n",
              "1  76900001_6295120006795RC612  clearasil ultra scrub 150  NaN         NaN  "
            ],
            "text/html": [
              "\n",
              "  <div id=\"df-1abe6af1-ea97-4293-815f-7f740829ad70\">\n",
              "    <div class=\"colab-df-container\">\n",
              "      <div>\n",
              "<style scoped>\n",
              "    .dataframe tbody tr th:only-of-type {\n",
              "        vertical-align: middle;\n",
              "    }\n",
              "\n",
              "    .dataframe tbody tr th {\n",
              "        vertical-align: top;\n",
              "    }\n",
              "\n",
              "    .dataframe thead th {\n",
              "        text-align: right;\n",
              "    }\n",
              "</style>\n",
              "<table border=\"1\" class=\"dataframe\">\n",
              "  <thead>\n",
              "    <tr style=\"text-align: right;\">\n",
              "      <th></th>\n",
              "      <th>LOB</th>\n",
              "      <th>Level 1 Name</th>\n",
              "      <th>Brand Name</th>\n",
              "      <th>Level 6 Name</th>\n",
              "      <th>Product SKU Description</th>\n",
              "      <th>Product Id</th>\n",
              "      <th>PSU</th>\n",
              "      <th>Size</th>\n",
              "      <th>Brand&amp;Size</th>\n",
              "    </tr>\n",
              "  </thead>\n",
              "  <tbody>\n",
              "    <tr>\n",
              "      <th>0</th>\n",
              "      <td>Health</td>\n",
              "      <td>UAE</td>\n",
              "      <td>Bonjela</td>\n",
              "      <td>HC Others</td>\n",
              "      <td>BONJE,ME,GEL, 24x12x15g</td>\n",
              "      <td>34910303_PREC000029</td>\n",
              "      <td>bonjela gel 24x12x15g</td>\n",
              "      <td>15g</td>\n",
              "      <td>Bonjela15g</td>\n",
              "    </tr>\n",
              "    <tr>\n",
              "      <th>1</th>\n",
              "      <td>Health</td>\n",
              "      <td>UAE</td>\n",
              "      <td>Clearasil</td>\n",
              "      <td>HC Others</td>\n",
              "      <td>CLRSL,ME,ULTRA SCRUB 150</td>\n",
              "      <td>76900001_6295120006795RC612</td>\n",
              "      <td>clearasil ultra scrub 150</td>\n",
              "      <td>NaN</td>\n",
              "      <td>NaN</td>\n",
              "    </tr>\n",
              "  </tbody>\n",
              "</table>\n",
              "</div>\n",
              "      <button class=\"colab-df-convert\" onclick=\"convertToInteractive('df-1abe6af1-ea97-4293-815f-7f740829ad70')\"\n",
              "              title=\"Convert this dataframe to an interactive table.\"\n",
              "              style=\"display:none;\">\n",
              "        \n",
              "  <svg xmlns=\"http://www.w3.org/2000/svg\" height=\"24px\"viewBox=\"0 0 24 24\"\n",
              "       width=\"24px\">\n",
              "    <path d=\"M0 0h24v24H0V0z\" fill=\"none\"/>\n",
              "    <path d=\"M18.56 5.44l.94 2.06.94-2.06 2.06-.94-2.06-.94-.94-2.06-.94 2.06-2.06.94zm-11 1L8.5 8.5l.94-2.06 2.06-.94-2.06-.94L8.5 2.5l-.94 2.06-2.06.94zm10 10l.94 2.06.94-2.06 2.06-.94-2.06-.94-.94-2.06-.94 2.06-2.06.94z\"/><path d=\"M17.41 7.96l-1.37-1.37c-.4-.4-.92-.59-1.43-.59-.52 0-1.04.2-1.43.59L10.3 9.45l-7.72 7.72c-.78.78-.78 2.05 0 2.83L4 21.41c.39.39.9.59 1.41.59.51 0 1.02-.2 1.41-.59l7.78-7.78 2.81-2.81c.8-.78.8-2.07 0-2.86zM5.41 20L4 18.59l7.72-7.72 1.47 1.35L5.41 20z\"/>\n",
              "  </svg>\n",
              "      </button>\n",
              "      \n",
              "  <style>\n",
              "    .colab-df-container {\n",
              "      display:flex;\n",
              "      flex-wrap:wrap;\n",
              "      gap: 12px;\n",
              "    }\n",
              "\n",
              "    .colab-df-convert {\n",
              "      background-color: #E8F0FE;\n",
              "      border: none;\n",
              "      border-radius: 50%;\n",
              "      cursor: pointer;\n",
              "      display: none;\n",
              "      fill: #1967D2;\n",
              "      height: 32px;\n",
              "      padding: 0 0 0 0;\n",
              "      width: 32px;\n",
              "    }\n",
              "\n",
              "    .colab-df-convert:hover {\n",
              "      background-color: #E2EBFA;\n",
              "      box-shadow: 0px 1px 2px rgba(60, 64, 67, 0.3), 0px 1px 3px 1px rgba(60, 64, 67, 0.15);\n",
              "      fill: #174EA6;\n",
              "    }\n",
              "\n",
              "    [theme=dark] .colab-df-convert {\n",
              "      background-color: #3B4455;\n",
              "      fill: #D2E3FC;\n",
              "    }\n",
              "\n",
              "    [theme=dark] .colab-df-convert:hover {\n",
              "      background-color: #434B5C;\n",
              "      box-shadow: 0px 1px 3px 1px rgba(0, 0, 0, 0.15);\n",
              "      filter: drop-shadow(0px 1px 2px rgba(0, 0, 0, 0.3));\n",
              "      fill: #FFFFFF;\n",
              "    }\n",
              "  </style>\n",
              "\n",
              "      <script>\n",
              "        const buttonEl =\n",
              "          document.querySelector('#df-1abe6af1-ea97-4293-815f-7f740829ad70 button.colab-df-convert');\n",
              "        buttonEl.style.display =\n",
              "          google.colab.kernel.accessAllowed ? 'block' : 'none';\n",
              "\n",
              "        async function convertToInteractive(key) {\n",
              "          const element = document.querySelector('#df-1abe6af1-ea97-4293-815f-7f740829ad70');\n",
              "          const dataTable =\n",
              "            await google.colab.kernel.invokeFunction('convertToInteractive',\n",
              "                                                     [key], {});\n",
              "          if (!dataTable) return;\n",
              "\n",
              "          const docLinkHtml = 'Like what you see? Visit the ' +\n",
              "            '<a target=\"_blank\" href=https://colab.research.google.com/notebooks/data_table.ipynb>data table notebook</a>'\n",
              "            + ' to learn more about interactive tables.';\n",
              "          element.innerHTML = '';\n",
              "          dataTable['output_type'] = 'display_data';\n",
              "          await google.colab.output.renderOutput(dataTable, element);\n",
              "          const docLink = document.createElement('div');\n",
              "          docLink.innerHTML = docLinkHtml;\n",
              "          element.appendChild(docLink);\n",
              "        }\n",
              "      </script>\n",
              "    </div>\n",
              "  </div>\n",
              "  "
            ]
          },
          "metadata": {},
          "execution_count": 59
        }
      ]
    },
    {
      "cell_type": "code",
      "source": [
        "df1 = df1.dropna()\n",
        "df2 = df2.dropna()"
      ],
      "metadata": {
        "id": "nWG6p-jtfGAe"
      },
      "execution_count": 63,
      "outputs": []
    },
    {
      "cell_type": "code",
      "source": [
        "df1.isna().sum()"
      ],
      "metadata": {
        "colab": {
          "base_uri": "https://localhost:8080/"
        },
        "id": "UOV7dZf6WiMD",
        "outputId": "4c8b340f-d3b4-4a84-9aea-b8ee6cb82ecd"
      },
      "execution_count": 67,
      "outputs": [
        {
          "output_type": "execute_result",
          "data": {
            "text/plain": [
              "LOB                        0\n",
              "Level 1 Name               0\n",
              "Brand Name                 0\n",
              "Level 6 Name               0\n",
              "Product SKU Description    0\n",
              "Product Id                 0\n",
              "PSU                        0\n",
              "Size                       0\n",
              "Brand&Size                 0\n",
              "dtype: int64"
            ]
          },
          "metadata": {},
          "execution_count": 67
        }
      ]
    },
    {
      "cell_type": "code",
      "source": [
        "#Extracting Pack Size\n",
        "\n",
        "size_list = df1['Product SKU Description'].str.extract(\"((\\d+\\.?\\d? ?ML)|(\\d+\\.?\\d? ?L)|(\\d+\\.?\\d? ?KG)|(\\d+\\.?\\d? ?G)|(\\d+\\.?\\d? ?M)|(\\d+\\.?\\d? ?K)|(\\d+\\.?\\d? ?g)|(\\d+\\.?\\d? ?%)|(\\d+\\.?\\d? ?ml))\")\n",
        "df1['Size'] = size_list[0]"
      ],
      "metadata": {
        "id": "DvMhGLFOWMH6"
      },
      "execution_count": 53,
      "outputs": []
    },
    {
      "cell_type": "code",
      "source": [
        "#Extracting Pack Size\n",
        "\n",
        "size_list = df2['Attribute 1'].str.extract(\"((\\d+\\.?\\d? ?ML)|(\\d+\\.?\\d? ?L)|(\\d+\\.?\\d? ?KG)|(\\d+\\.?\\d? ?G)|(\\d+\\.?\\d? ?M)|(\\d+\\.?\\d? ?K)|(\\d+\\.?\\d? ?g)|(\\d+\\.?\\d? ?%)|(\\d+\\.?\\d? ?ml))\")\n",
        "df2['Size'] = size_list[0]"
      ],
      "metadata": {
        "id": "GKw9MQ77W5hp"
      },
      "execution_count": 55,
      "outputs": []
    },
    {
      "cell_type": "code",
      "source": [
        "# Concatenating Brand_Name plus Size\n",
        "\n",
        "df1[\"Brand&Size\"] = df1[\"Brand Name\"] + df1[\"Size\"]\n",
        "df2[\"Brand&Size\"] = df2[\"Brand Name\"] + df2[\"Size\"]"
      ],
      "metadata": {
        "id": "djMkGipTXtqo"
      },
      "execution_count": 56,
      "outputs": []
    },
    {
      "cell_type": "code",
      "source": [
        "df1.head(2)"
      ],
      "metadata": {
        "colab": {
          "base_uri": "https://localhost:8080/",
          "height": 112
        },
        "id": "exvUnXi7aycD",
        "outputId": "bec2f73a-d4cc-47e0-9521-87a62f0175fd"
      },
      "execution_count": 57,
      "outputs": [
        {
          "output_type": "execute_result",
          "data": {
            "text/plain": [
              "      LOB Level 1 Name Brand Name Level 6 Name   Product SKU Description  \\\n",
              "0  Health          UAE    Bonjela    HC Others   BONJE,ME,GEL, 24x12x15g   \n",
              "1  Health          UAE  Clearasil    HC Others  CLRSL,ME,ULTRA SCRUB 150   \n",
              "\n",
              "                    Product Id                        PSU Size  Brand&Size  \n",
              "0          34910303_PREC000029      bonjela gel 24x12x15g  15g  Bonjela15g  \n",
              "1  76900001_6295120006795RC612  clearasil ultra scrub 150  NaN         NaN  "
            ],
            "text/html": [
              "\n",
              "  <div id=\"df-0f2999e8-c0c4-4245-80fc-7e4a42f0a047\">\n",
              "    <div class=\"colab-df-container\">\n",
              "      <div>\n",
              "<style scoped>\n",
              "    .dataframe tbody tr th:only-of-type {\n",
              "        vertical-align: middle;\n",
              "    }\n",
              "\n",
              "    .dataframe tbody tr th {\n",
              "        vertical-align: top;\n",
              "    }\n",
              "\n",
              "    .dataframe thead th {\n",
              "        text-align: right;\n",
              "    }\n",
              "</style>\n",
              "<table border=\"1\" class=\"dataframe\">\n",
              "  <thead>\n",
              "    <tr style=\"text-align: right;\">\n",
              "      <th></th>\n",
              "      <th>LOB</th>\n",
              "      <th>Level 1 Name</th>\n",
              "      <th>Brand Name</th>\n",
              "      <th>Level 6 Name</th>\n",
              "      <th>Product SKU Description</th>\n",
              "      <th>Product Id</th>\n",
              "      <th>PSU</th>\n",
              "      <th>Size</th>\n",
              "      <th>Brand&amp;Size</th>\n",
              "    </tr>\n",
              "  </thead>\n",
              "  <tbody>\n",
              "    <tr>\n",
              "      <th>0</th>\n",
              "      <td>Health</td>\n",
              "      <td>UAE</td>\n",
              "      <td>Bonjela</td>\n",
              "      <td>HC Others</td>\n",
              "      <td>BONJE,ME,GEL, 24x12x15g</td>\n",
              "      <td>34910303_PREC000029</td>\n",
              "      <td>bonjela gel 24x12x15g</td>\n",
              "      <td>15g</td>\n",
              "      <td>Bonjela15g</td>\n",
              "    </tr>\n",
              "    <tr>\n",
              "      <th>1</th>\n",
              "      <td>Health</td>\n",
              "      <td>UAE</td>\n",
              "      <td>Clearasil</td>\n",
              "      <td>HC Others</td>\n",
              "      <td>CLRSL,ME,ULTRA SCRUB 150</td>\n",
              "      <td>76900001_6295120006795RC612</td>\n",
              "      <td>clearasil ultra scrub 150</td>\n",
              "      <td>NaN</td>\n",
              "      <td>NaN</td>\n",
              "    </tr>\n",
              "  </tbody>\n",
              "</table>\n",
              "</div>\n",
              "      <button class=\"colab-df-convert\" onclick=\"convertToInteractive('df-0f2999e8-c0c4-4245-80fc-7e4a42f0a047')\"\n",
              "              title=\"Convert this dataframe to an interactive table.\"\n",
              "              style=\"display:none;\">\n",
              "        \n",
              "  <svg xmlns=\"http://www.w3.org/2000/svg\" height=\"24px\"viewBox=\"0 0 24 24\"\n",
              "       width=\"24px\">\n",
              "    <path d=\"M0 0h24v24H0V0z\" fill=\"none\"/>\n",
              "    <path d=\"M18.56 5.44l.94 2.06.94-2.06 2.06-.94-2.06-.94-.94-2.06-.94 2.06-2.06.94zm-11 1L8.5 8.5l.94-2.06 2.06-.94-2.06-.94L8.5 2.5l-.94 2.06-2.06.94zm10 10l.94 2.06.94-2.06 2.06-.94-2.06-.94-.94-2.06-.94 2.06-2.06.94z\"/><path d=\"M17.41 7.96l-1.37-1.37c-.4-.4-.92-.59-1.43-.59-.52 0-1.04.2-1.43.59L10.3 9.45l-7.72 7.72c-.78.78-.78 2.05 0 2.83L4 21.41c.39.39.9.59 1.41.59.51 0 1.02-.2 1.41-.59l7.78-7.78 2.81-2.81c.8-.78.8-2.07 0-2.86zM5.41 20L4 18.59l7.72-7.72 1.47 1.35L5.41 20z\"/>\n",
              "  </svg>\n",
              "      </button>\n",
              "      \n",
              "  <style>\n",
              "    .colab-df-container {\n",
              "      display:flex;\n",
              "      flex-wrap:wrap;\n",
              "      gap: 12px;\n",
              "    }\n",
              "\n",
              "    .colab-df-convert {\n",
              "      background-color: #E8F0FE;\n",
              "      border: none;\n",
              "      border-radius: 50%;\n",
              "      cursor: pointer;\n",
              "      display: none;\n",
              "      fill: #1967D2;\n",
              "      height: 32px;\n",
              "      padding: 0 0 0 0;\n",
              "      width: 32px;\n",
              "    }\n",
              "\n",
              "    .colab-df-convert:hover {\n",
              "      background-color: #E2EBFA;\n",
              "      box-shadow: 0px 1px 2px rgba(60, 64, 67, 0.3), 0px 1px 3px 1px rgba(60, 64, 67, 0.15);\n",
              "      fill: #174EA6;\n",
              "    }\n",
              "\n",
              "    [theme=dark] .colab-df-convert {\n",
              "      background-color: #3B4455;\n",
              "      fill: #D2E3FC;\n",
              "    }\n",
              "\n",
              "    [theme=dark] .colab-df-convert:hover {\n",
              "      background-color: #434B5C;\n",
              "      box-shadow: 0px 1px 3px 1px rgba(0, 0, 0, 0.15);\n",
              "      filter: drop-shadow(0px 1px 2px rgba(0, 0, 0, 0.3));\n",
              "      fill: #FFFFFF;\n",
              "    }\n",
              "  </style>\n",
              "\n",
              "      <script>\n",
              "        const buttonEl =\n",
              "          document.querySelector('#df-0f2999e8-c0c4-4245-80fc-7e4a42f0a047 button.colab-df-convert');\n",
              "        buttonEl.style.display =\n",
              "          google.colab.kernel.accessAllowed ? 'block' : 'none';\n",
              "\n",
              "        async function convertToInteractive(key) {\n",
              "          const element = document.querySelector('#df-0f2999e8-c0c4-4245-80fc-7e4a42f0a047');\n",
              "          const dataTable =\n",
              "            await google.colab.kernel.invokeFunction('convertToInteractive',\n",
              "                                                     [key], {});\n",
              "          if (!dataTable) return;\n",
              "\n",
              "          const docLinkHtml = 'Like what you see? Visit the ' +\n",
              "            '<a target=\"_blank\" href=https://colab.research.google.com/notebooks/data_table.ipynb>data table notebook</a>'\n",
              "            + ' to learn more about interactive tables.';\n",
              "          element.innerHTML = '';\n",
              "          dataTable['output_type'] = 'display_data';\n",
              "          await google.colab.output.renderOutput(dataTable, element);\n",
              "          const docLink = document.createElement('div');\n",
              "          docLink.innerHTML = docLinkHtml;\n",
              "          element.appendChild(docLink);\n",
              "        }\n",
              "      </script>\n",
              "    </div>\n",
              "  </div>\n",
              "  "
            ]
          },
          "metadata": {},
          "execution_count": 57
        }
      ]
    },
    {
      "cell_type": "code",
      "source": [
        "df2.head(2)"
      ],
      "metadata": {
        "colab": {
          "base_uri": "https://localhost:8080/",
          "height": 112
        },
        "id": "tvo_bpQBU-Lx",
        "outputId": "ce5f138a-bc59-431c-89f2-aa23769dfd67"
      },
      "execution_count": 58,
      "outputs": [
        {
          "output_type": "execute_result",
          "data": {
            "text/plain": [
              "      LOB Level 1 Name Brand Name Level 6 Name                   Product Id  \\\n",
              "0  Health          UAE    Bonjela    HC Others          34910303_PREC000029   \n",
              "1  Health          UAE  Clearasil    HC Others  76900001_6295120006795RC612   \n",
              "\n",
              "                            Attribute 1                                  A1  \\\n",
              "0           BONJELA  ADULT ORAL GEL 15G          bonjela adult oral gel 15g   \n",
              "1  ###CLEARASIL ULTRA DPT SCRUB 6X150ML   clearasil ultra dpt scrub 6x150ml   \n",
              "\n",
              "    Size      Brand&Size  \n",
              "0    15G      Bonjela15G  \n",
              "1  150ML  Clearasil150ML  "
            ],
            "text/html": [
              "\n",
              "  <div id=\"df-8e2d3731-3d5f-4a8b-ac3f-6770ef47979f\">\n",
              "    <div class=\"colab-df-container\">\n",
              "      <div>\n",
              "<style scoped>\n",
              "    .dataframe tbody tr th:only-of-type {\n",
              "        vertical-align: middle;\n",
              "    }\n",
              "\n",
              "    .dataframe tbody tr th {\n",
              "        vertical-align: top;\n",
              "    }\n",
              "\n",
              "    .dataframe thead th {\n",
              "        text-align: right;\n",
              "    }\n",
              "</style>\n",
              "<table border=\"1\" class=\"dataframe\">\n",
              "  <thead>\n",
              "    <tr style=\"text-align: right;\">\n",
              "      <th></th>\n",
              "      <th>LOB</th>\n",
              "      <th>Level 1 Name</th>\n",
              "      <th>Brand Name</th>\n",
              "      <th>Level 6 Name</th>\n",
              "      <th>Product Id</th>\n",
              "      <th>Attribute 1</th>\n",
              "      <th>A1</th>\n",
              "      <th>Size</th>\n",
              "      <th>Brand&amp;Size</th>\n",
              "    </tr>\n",
              "  </thead>\n",
              "  <tbody>\n",
              "    <tr>\n",
              "      <th>0</th>\n",
              "      <td>Health</td>\n",
              "      <td>UAE</td>\n",
              "      <td>Bonjela</td>\n",
              "      <td>HC Others</td>\n",
              "      <td>34910303_PREC000029</td>\n",
              "      <td>BONJELA  ADULT ORAL GEL 15G</td>\n",
              "      <td>bonjela adult oral gel 15g</td>\n",
              "      <td>15G</td>\n",
              "      <td>Bonjela15G</td>\n",
              "    </tr>\n",
              "    <tr>\n",
              "      <th>1</th>\n",
              "      <td>Health</td>\n",
              "      <td>UAE</td>\n",
              "      <td>Clearasil</td>\n",
              "      <td>HC Others</td>\n",
              "      <td>76900001_6295120006795RC612</td>\n",
              "      <td>###CLEARASIL ULTRA DPT SCRUB 6X150ML</td>\n",
              "      <td>clearasil ultra dpt scrub 6x150ml</td>\n",
              "      <td>150ML</td>\n",
              "      <td>Clearasil150ML</td>\n",
              "    </tr>\n",
              "  </tbody>\n",
              "</table>\n",
              "</div>\n",
              "      <button class=\"colab-df-convert\" onclick=\"convertToInteractive('df-8e2d3731-3d5f-4a8b-ac3f-6770ef47979f')\"\n",
              "              title=\"Convert this dataframe to an interactive table.\"\n",
              "              style=\"display:none;\">\n",
              "        \n",
              "  <svg xmlns=\"http://www.w3.org/2000/svg\" height=\"24px\"viewBox=\"0 0 24 24\"\n",
              "       width=\"24px\">\n",
              "    <path d=\"M0 0h24v24H0V0z\" fill=\"none\"/>\n",
              "    <path d=\"M18.56 5.44l.94 2.06.94-2.06 2.06-.94-2.06-.94-.94-2.06-.94 2.06-2.06.94zm-11 1L8.5 8.5l.94-2.06 2.06-.94-2.06-.94L8.5 2.5l-.94 2.06-2.06.94zm10 10l.94 2.06.94-2.06 2.06-.94-2.06-.94-.94-2.06-.94 2.06-2.06.94z\"/><path d=\"M17.41 7.96l-1.37-1.37c-.4-.4-.92-.59-1.43-.59-.52 0-1.04.2-1.43.59L10.3 9.45l-7.72 7.72c-.78.78-.78 2.05 0 2.83L4 21.41c.39.39.9.59 1.41.59.51 0 1.02-.2 1.41-.59l7.78-7.78 2.81-2.81c.8-.78.8-2.07 0-2.86zM5.41 20L4 18.59l7.72-7.72 1.47 1.35L5.41 20z\"/>\n",
              "  </svg>\n",
              "      </button>\n",
              "      \n",
              "  <style>\n",
              "    .colab-df-container {\n",
              "      display:flex;\n",
              "      flex-wrap:wrap;\n",
              "      gap: 12px;\n",
              "    }\n",
              "\n",
              "    .colab-df-convert {\n",
              "      background-color: #E8F0FE;\n",
              "      border: none;\n",
              "      border-radius: 50%;\n",
              "      cursor: pointer;\n",
              "      display: none;\n",
              "      fill: #1967D2;\n",
              "      height: 32px;\n",
              "      padding: 0 0 0 0;\n",
              "      width: 32px;\n",
              "    }\n",
              "\n",
              "    .colab-df-convert:hover {\n",
              "      background-color: #E2EBFA;\n",
              "      box-shadow: 0px 1px 2px rgba(60, 64, 67, 0.3), 0px 1px 3px 1px rgba(60, 64, 67, 0.15);\n",
              "      fill: #174EA6;\n",
              "    }\n",
              "\n",
              "    [theme=dark] .colab-df-convert {\n",
              "      background-color: #3B4455;\n",
              "      fill: #D2E3FC;\n",
              "    }\n",
              "\n",
              "    [theme=dark] .colab-df-convert:hover {\n",
              "      background-color: #434B5C;\n",
              "      box-shadow: 0px 1px 3px 1px rgba(0, 0, 0, 0.15);\n",
              "      filter: drop-shadow(0px 1px 2px rgba(0, 0, 0, 0.3));\n",
              "      fill: #FFFFFF;\n",
              "    }\n",
              "  </style>\n",
              "\n",
              "      <script>\n",
              "        const buttonEl =\n",
              "          document.querySelector('#df-8e2d3731-3d5f-4a8b-ac3f-6770ef47979f button.colab-df-convert');\n",
              "        buttonEl.style.display =\n",
              "          google.colab.kernel.accessAllowed ? 'block' : 'none';\n",
              "\n",
              "        async function convertToInteractive(key) {\n",
              "          const element = document.querySelector('#df-8e2d3731-3d5f-4a8b-ac3f-6770ef47979f');\n",
              "          const dataTable =\n",
              "            await google.colab.kernel.invokeFunction('convertToInteractive',\n",
              "                                                     [key], {});\n",
              "          if (!dataTable) return;\n",
              "\n",
              "          const docLinkHtml = 'Like what you see? Visit the ' +\n",
              "            '<a target=\"_blank\" href=https://colab.research.google.com/notebooks/data_table.ipynb>data table notebook</a>'\n",
              "            + ' to learn more about interactive tables.';\n",
              "          element.innerHTML = '';\n",
              "          dataTable['output_type'] = 'display_data';\n",
              "          await google.colab.output.renderOutput(dataTable, element);\n",
              "          const docLink = document.createElement('div');\n",
              "          docLink.innerHTML = docLinkHtml;\n",
              "          element.appendChild(docLink);\n",
              "        }\n",
              "      </script>\n",
              "    </div>\n",
              "  </div>\n",
              "  "
            ]
          },
          "metadata": {},
          "execution_count": 58
        }
      ]
    },
    {
      "cell_type": "code",
      "source": [
        "#Joining two datasets\n",
        "\n",
        "df_final= df1.merge(df2, on='Brand&Size', how='outer')"
      ],
      "metadata": {
        "id": "RnzQ2HQ8bLhu"
      },
      "execution_count": 65,
      "outputs": []
    },
    {
      "cell_type": "code",
      "source": [
        "df_final.head()"
      ],
      "metadata": {
        "colab": {
          "base_uri": "https://localhost:8080/",
          "height": 565
        },
        "id": "BIXPhM-xbjNA",
        "outputId": "0bbb68cc-532f-4a45-ad6e-c95bde648c8c"
      },
      "execution_count": 66,
      "outputs": [
        {
          "output_type": "execute_result",
          "data": {
            "text/plain": [
              "    LOB_x Level 1 Name_x Brand Name_x Level 6 Name_x  \\\n",
              "0  Health            UAE      Bonjela      HC Others   \n",
              "1  Health            UAE    Clearasil      HC Others   \n",
              "2  Health            UAE    Clearasil      HC Others   \n",
              "3  Health            UAE    Clearasil      HC Others   \n",
              "4  Health            UAE    Clearasil      HC Others   \n",
              "\n",
              "     Product SKU Description                 Product Id_x  \\\n",
              "0    BONJE,ME,GEL, 24x12x15g          34910303_PREC000029   \n",
              "1  CLRSL,ME,CREAM WASH 150ML  76900001_6295120006818RC610   \n",
              "2  CLRSL,ME,CREAM WASH 150ML  76900001_6295120006818RC610   \n",
              "3  CLRSL,ME,CREAM WASH 150ML  76900001_6295120006818RC610   \n",
              "4  CLRSL,ME,CREAM WASH 150ML  76900001_6295120006818RC610   \n",
              "\n",
              "                          PSU Size_x      Brand&Size   LOB_y Level 1 Name_y  \\\n",
              "0       bonjela gel 24x12x15g    15g      Bonjela15g     NaN            NaN   \n",
              "1  clearasil cream wash 150ml  150ML  Clearasil150ML  Health            UAE   \n",
              "2  clearasil cream wash 150ml  150ML  Clearasil150ML  Health            UAE   \n",
              "3  clearasil cream wash 150ml  150ML  Clearasil150ML  Health            UAE   \n",
              "4  clearasil cream wash 150ml  150ML  Clearasil150ML  Health            UAE   \n",
              "\n",
              "  Brand Name_y Level 6 Name_y                 Product Id_y  \\\n",
              "0          NaN            NaN                          NaN   \n",
              "1    Clearasil      HC Others  76900001_6295120006795RC612   \n",
              "2    Clearasil      HC Others  76900001_6295120001233RC600   \n",
              "3    Clearasil      HC Others  76900001_6295120005088RC607   \n",
              "4    Clearasil      HC Others  76900001_6295120001240RC601   \n",
              "\n",
              "                               Attribute 1  \\\n",
              "0                                      NaN   \n",
              "1     ###CLEARASIL ULTRA DPT SCRUB 6X150ML   \n",
              "2        ###CLEARASIL PERFECT WASH 6X150ML   \n",
              "3  ###CLEARASIL OIL FREE GEL SCRUB 6X150ML   \n",
              "4   ###CLEARASIL OIL FREE GEL WASH 6X150ML   \n",
              "\n",
              "                                      A1 Size_y  \n",
              "0                                    NaN    NaN  \n",
              "1      clearasil ultra dpt scrub 6x150ml  150ML  \n",
              "2         clearasil perfect wash 6x150ml  150ML  \n",
              "3   clearasil oil free gel scrub 6x150ml  150ML  \n",
              "4    clearasil oil free gel wash 6x150ml  150ML  "
            ],
            "text/html": [
              "\n",
              "  <div id=\"df-198d7524-b60e-492e-b1da-0675a9108163\">\n",
              "    <div class=\"colab-df-container\">\n",
              "      <div>\n",
              "<style scoped>\n",
              "    .dataframe tbody tr th:only-of-type {\n",
              "        vertical-align: middle;\n",
              "    }\n",
              "\n",
              "    .dataframe tbody tr th {\n",
              "        vertical-align: top;\n",
              "    }\n",
              "\n",
              "    .dataframe thead th {\n",
              "        text-align: right;\n",
              "    }\n",
              "</style>\n",
              "<table border=\"1\" class=\"dataframe\">\n",
              "  <thead>\n",
              "    <tr style=\"text-align: right;\">\n",
              "      <th></th>\n",
              "      <th>LOB_x</th>\n",
              "      <th>Level 1 Name_x</th>\n",
              "      <th>Brand Name_x</th>\n",
              "      <th>Level 6 Name_x</th>\n",
              "      <th>Product SKU Description</th>\n",
              "      <th>Product Id_x</th>\n",
              "      <th>PSU</th>\n",
              "      <th>Size_x</th>\n",
              "      <th>Brand&amp;Size</th>\n",
              "      <th>LOB_y</th>\n",
              "      <th>Level 1 Name_y</th>\n",
              "      <th>Brand Name_y</th>\n",
              "      <th>Level 6 Name_y</th>\n",
              "      <th>Product Id_y</th>\n",
              "      <th>Attribute 1</th>\n",
              "      <th>A1</th>\n",
              "      <th>Size_y</th>\n",
              "    </tr>\n",
              "  </thead>\n",
              "  <tbody>\n",
              "    <tr>\n",
              "      <th>0</th>\n",
              "      <td>Health</td>\n",
              "      <td>UAE</td>\n",
              "      <td>Bonjela</td>\n",
              "      <td>HC Others</td>\n",
              "      <td>BONJE,ME,GEL, 24x12x15g</td>\n",
              "      <td>34910303_PREC000029</td>\n",
              "      <td>bonjela gel 24x12x15g</td>\n",
              "      <td>15g</td>\n",
              "      <td>Bonjela15g</td>\n",
              "      <td>NaN</td>\n",
              "      <td>NaN</td>\n",
              "      <td>NaN</td>\n",
              "      <td>NaN</td>\n",
              "      <td>NaN</td>\n",
              "      <td>NaN</td>\n",
              "      <td>NaN</td>\n",
              "      <td>NaN</td>\n",
              "    </tr>\n",
              "    <tr>\n",
              "      <th>1</th>\n",
              "      <td>Health</td>\n",
              "      <td>UAE</td>\n",
              "      <td>Clearasil</td>\n",
              "      <td>HC Others</td>\n",
              "      <td>CLRSL,ME,CREAM WASH 150ML</td>\n",
              "      <td>76900001_6295120006818RC610</td>\n",
              "      <td>clearasil cream wash 150ml</td>\n",
              "      <td>150ML</td>\n",
              "      <td>Clearasil150ML</td>\n",
              "      <td>Health</td>\n",
              "      <td>UAE</td>\n",
              "      <td>Clearasil</td>\n",
              "      <td>HC Others</td>\n",
              "      <td>76900001_6295120006795RC612</td>\n",
              "      <td>###CLEARASIL ULTRA DPT SCRUB 6X150ML</td>\n",
              "      <td>clearasil ultra dpt scrub 6x150ml</td>\n",
              "      <td>150ML</td>\n",
              "    </tr>\n",
              "    <tr>\n",
              "      <th>2</th>\n",
              "      <td>Health</td>\n",
              "      <td>UAE</td>\n",
              "      <td>Clearasil</td>\n",
              "      <td>HC Others</td>\n",
              "      <td>CLRSL,ME,CREAM WASH 150ML</td>\n",
              "      <td>76900001_6295120006818RC610</td>\n",
              "      <td>clearasil cream wash 150ml</td>\n",
              "      <td>150ML</td>\n",
              "      <td>Clearasil150ML</td>\n",
              "      <td>Health</td>\n",
              "      <td>UAE</td>\n",
              "      <td>Clearasil</td>\n",
              "      <td>HC Others</td>\n",
              "      <td>76900001_6295120001233RC600</td>\n",
              "      <td>###CLEARASIL PERFECT WASH 6X150ML</td>\n",
              "      <td>clearasil perfect wash 6x150ml</td>\n",
              "      <td>150ML</td>\n",
              "    </tr>\n",
              "    <tr>\n",
              "      <th>3</th>\n",
              "      <td>Health</td>\n",
              "      <td>UAE</td>\n",
              "      <td>Clearasil</td>\n",
              "      <td>HC Others</td>\n",
              "      <td>CLRSL,ME,CREAM WASH 150ML</td>\n",
              "      <td>76900001_6295120006818RC610</td>\n",
              "      <td>clearasil cream wash 150ml</td>\n",
              "      <td>150ML</td>\n",
              "      <td>Clearasil150ML</td>\n",
              "      <td>Health</td>\n",
              "      <td>UAE</td>\n",
              "      <td>Clearasil</td>\n",
              "      <td>HC Others</td>\n",
              "      <td>76900001_6295120005088RC607</td>\n",
              "      <td>###CLEARASIL OIL FREE GEL SCRUB 6X150ML</td>\n",
              "      <td>clearasil oil free gel scrub 6x150ml</td>\n",
              "      <td>150ML</td>\n",
              "    </tr>\n",
              "    <tr>\n",
              "      <th>4</th>\n",
              "      <td>Health</td>\n",
              "      <td>UAE</td>\n",
              "      <td>Clearasil</td>\n",
              "      <td>HC Others</td>\n",
              "      <td>CLRSL,ME,CREAM WASH 150ML</td>\n",
              "      <td>76900001_6295120006818RC610</td>\n",
              "      <td>clearasil cream wash 150ml</td>\n",
              "      <td>150ML</td>\n",
              "      <td>Clearasil150ML</td>\n",
              "      <td>Health</td>\n",
              "      <td>UAE</td>\n",
              "      <td>Clearasil</td>\n",
              "      <td>HC Others</td>\n",
              "      <td>76900001_6295120001240RC601</td>\n",
              "      <td>###CLEARASIL OIL FREE GEL WASH 6X150ML</td>\n",
              "      <td>clearasil oil free gel wash 6x150ml</td>\n",
              "      <td>150ML</td>\n",
              "    </tr>\n",
              "  </tbody>\n",
              "</table>\n",
              "</div>\n",
              "      <button class=\"colab-df-convert\" onclick=\"convertToInteractive('df-198d7524-b60e-492e-b1da-0675a9108163')\"\n",
              "              title=\"Convert this dataframe to an interactive table.\"\n",
              "              style=\"display:none;\">\n",
              "        \n",
              "  <svg xmlns=\"http://www.w3.org/2000/svg\" height=\"24px\"viewBox=\"0 0 24 24\"\n",
              "       width=\"24px\">\n",
              "    <path d=\"M0 0h24v24H0V0z\" fill=\"none\"/>\n",
              "    <path d=\"M18.56 5.44l.94 2.06.94-2.06 2.06-.94-2.06-.94-.94-2.06-.94 2.06-2.06.94zm-11 1L8.5 8.5l.94-2.06 2.06-.94-2.06-.94L8.5 2.5l-.94 2.06-2.06.94zm10 10l.94 2.06.94-2.06 2.06-.94-2.06-.94-.94-2.06-.94 2.06-2.06.94z\"/><path d=\"M17.41 7.96l-1.37-1.37c-.4-.4-.92-.59-1.43-.59-.52 0-1.04.2-1.43.59L10.3 9.45l-7.72 7.72c-.78.78-.78 2.05 0 2.83L4 21.41c.39.39.9.59 1.41.59.51 0 1.02-.2 1.41-.59l7.78-7.78 2.81-2.81c.8-.78.8-2.07 0-2.86zM5.41 20L4 18.59l7.72-7.72 1.47 1.35L5.41 20z\"/>\n",
              "  </svg>\n",
              "      </button>\n",
              "      \n",
              "  <style>\n",
              "    .colab-df-container {\n",
              "      display:flex;\n",
              "      flex-wrap:wrap;\n",
              "      gap: 12px;\n",
              "    }\n",
              "\n",
              "    .colab-df-convert {\n",
              "      background-color: #E8F0FE;\n",
              "      border: none;\n",
              "      border-radius: 50%;\n",
              "      cursor: pointer;\n",
              "      display: none;\n",
              "      fill: #1967D2;\n",
              "      height: 32px;\n",
              "      padding: 0 0 0 0;\n",
              "      width: 32px;\n",
              "    }\n",
              "\n",
              "    .colab-df-convert:hover {\n",
              "      background-color: #E2EBFA;\n",
              "      box-shadow: 0px 1px 2px rgba(60, 64, 67, 0.3), 0px 1px 3px 1px rgba(60, 64, 67, 0.15);\n",
              "      fill: #174EA6;\n",
              "    }\n",
              "\n",
              "    [theme=dark] .colab-df-convert {\n",
              "      background-color: #3B4455;\n",
              "      fill: #D2E3FC;\n",
              "    }\n",
              "\n",
              "    [theme=dark] .colab-df-convert:hover {\n",
              "      background-color: #434B5C;\n",
              "      box-shadow: 0px 1px 3px 1px rgba(0, 0, 0, 0.15);\n",
              "      filter: drop-shadow(0px 1px 2px rgba(0, 0, 0, 0.3));\n",
              "      fill: #FFFFFF;\n",
              "    }\n",
              "  </style>\n",
              "\n",
              "      <script>\n",
              "        const buttonEl =\n",
              "          document.querySelector('#df-198d7524-b60e-492e-b1da-0675a9108163 button.colab-df-convert');\n",
              "        buttonEl.style.display =\n",
              "          google.colab.kernel.accessAllowed ? 'block' : 'none';\n",
              "\n",
              "        async function convertToInteractive(key) {\n",
              "          const element = document.querySelector('#df-198d7524-b60e-492e-b1da-0675a9108163');\n",
              "          const dataTable =\n",
              "            await google.colab.kernel.invokeFunction('convertToInteractive',\n",
              "                                                     [key], {});\n",
              "          if (!dataTable) return;\n",
              "\n",
              "          const docLinkHtml = 'Like what you see? Visit the ' +\n",
              "            '<a target=\"_blank\" href=https://colab.research.google.com/notebooks/data_table.ipynb>data table notebook</a>'\n",
              "            + ' to learn more about interactive tables.';\n",
              "          element.innerHTML = '';\n",
              "          dataTable['output_type'] = 'display_data';\n",
              "          await google.colab.output.renderOutput(dataTable, element);\n",
              "          const docLink = document.createElement('div');\n",
              "          docLink.innerHTML = docLinkHtml;\n",
              "          element.appendChild(docLink);\n",
              "        }\n",
              "      </script>\n",
              "    </div>\n",
              "  </div>\n",
              "  "
            ]
          },
          "metadata": {},
          "execution_count": 66
        }
      ]
    },
    {
      "cell_type": "code",
      "source": [
        "df_final.isna().sum()"
      ],
      "metadata": {
        "colab": {
          "base_uri": "https://localhost:8080/"
        },
        "id": "euv7zzRVdlSk",
        "outputId": "492836c6-d425-4a8d-b400-7d8310b3f9f5"
      },
      "execution_count": 68,
      "outputs": [
        {
          "output_type": "execute_result",
          "data": {
            "text/plain": [
              "LOB_x                      307\n",
              "Level 1 Name_x             307\n",
              "Brand Name_x               307\n",
              "Level 6 Name_x             307\n",
              "Product SKU Description    307\n",
              "Product Id_x               307\n",
              "PSU                        307\n",
              "Size_x                     307\n",
              "Brand&Size                   0\n",
              "LOB_y                       57\n",
              "Level 1 Name_y              57\n",
              "Brand Name_y                57\n",
              "Level 6 Name_y              57\n",
              "Product Id_y                57\n",
              "Attribute 1                 57\n",
              "A1                          57\n",
              "Size_y                      57\n",
              "dtype: int64"
            ]
          },
          "metadata": {},
          "execution_count": 68
        }
      ]
    },
    {
      "cell_type": "code",
      "source": [
        "df_final = df_final.dropna()"
      ],
      "metadata": {
        "id": "nNzc0wSKWpwF"
      },
      "execution_count": null,
      "outputs": []
    },
    {
      "cell_type": "code",
      "source": [
        "df= df_final[['PSU', 'A1']]\n",
        "df.head(5)"
      ],
      "metadata": {
        "colab": {
          "base_uri": "https://localhost:8080/",
          "height": 206
        },
        "id": "6EQyWEsRcHRK",
        "outputId": "3f43f9f7-d34f-4297-8970-28a6c3743c86"
      },
      "execution_count": 71,
      "outputs": [
        {
          "output_type": "execute_result",
          "data": {
            "text/plain": [
              "                          PSU                                     A1\n",
              "0       bonjela gel 24x12x15g                                    NaN\n",
              "1  clearasil cream wash 150ml      clearasil ultra dpt scrub 6x150ml\n",
              "2  clearasil cream wash 150ml         clearasil perfect wash 6x150ml\n",
              "3  clearasil cream wash 150ml   clearasil oil free gel scrub 6x150ml\n",
              "4  clearasil cream wash 150ml    clearasil oil free gel wash 6x150ml"
            ],
            "text/html": [
              "\n",
              "  <div id=\"df-34ad873d-8061-492b-8149-adbafda97d37\">\n",
              "    <div class=\"colab-df-container\">\n",
              "      <div>\n",
              "<style scoped>\n",
              "    .dataframe tbody tr th:only-of-type {\n",
              "        vertical-align: middle;\n",
              "    }\n",
              "\n",
              "    .dataframe tbody tr th {\n",
              "        vertical-align: top;\n",
              "    }\n",
              "\n",
              "    .dataframe thead th {\n",
              "        text-align: right;\n",
              "    }\n",
              "</style>\n",
              "<table border=\"1\" class=\"dataframe\">\n",
              "  <thead>\n",
              "    <tr style=\"text-align: right;\">\n",
              "      <th></th>\n",
              "      <th>PSU</th>\n",
              "      <th>A1</th>\n",
              "    </tr>\n",
              "  </thead>\n",
              "  <tbody>\n",
              "    <tr>\n",
              "      <th>0</th>\n",
              "      <td>bonjela gel 24x12x15g</td>\n",
              "      <td>NaN</td>\n",
              "    </tr>\n",
              "    <tr>\n",
              "      <th>1</th>\n",
              "      <td>clearasil cream wash 150ml</td>\n",
              "      <td>clearasil ultra dpt scrub 6x150ml</td>\n",
              "    </tr>\n",
              "    <tr>\n",
              "      <th>2</th>\n",
              "      <td>clearasil cream wash 150ml</td>\n",
              "      <td>clearasil perfect wash 6x150ml</td>\n",
              "    </tr>\n",
              "    <tr>\n",
              "      <th>3</th>\n",
              "      <td>clearasil cream wash 150ml</td>\n",
              "      <td>clearasil oil free gel scrub 6x150ml</td>\n",
              "    </tr>\n",
              "    <tr>\n",
              "      <th>4</th>\n",
              "      <td>clearasil cream wash 150ml</td>\n",
              "      <td>clearasil oil free gel wash 6x150ml</td>\n",
              "    </tr>\n",
              "  </tbody>\n",
              "</table>\n",
              "</div>\n",
              "      <button class=\"colab-df-convert\" onclick=\"convertToInteractive('df-34ad873d-8061-492b-8149-adbafda97d37')\"\n",
              "              title=\"Convert this dataframe to an interactive table.\"\n",
              "              style=\"display:none;\">\n",
              "        \n",
              "  <svg xmlns=\"http://www.w3.org/2000/svg\" height=\"24px\"viewBox=\"0 0 24 24\"\n",
              "       width=\"24px\">\n",
              "    <path d=\"M0 0h24v24H0V0z\" fill=\"none\"/>\n",
              "    <path d=\"M18.56 5.44l.94 2.06.94-2.06 2.06-.94-2.06-.94-.94-2.06-.94 2.06-2.06.94zm-11 1L8.5 8.5l.94-2.06 2.06-.94-2.06-.94L8.5 2.5l-.94 2.06-2.06.94zm10 10l.94 2.06.94-2.06 2.06-.94-2.06-.94-.94-2.06-.94 2.06-2.06.94z\"/><path d=\"M17.41 7.96l-1.37-1.37c-.4-.4-.92-.59-1.43-.59-.52 0-1.04.2-1.43.59L10.3 9.45l-7.72 7.72c-.78.78-.78 2.05 0 2.83L4 21.41c.39.39.9.59 1.41.59.51 0 1.02-.2 1.41-.59l7.78-7.78 2.81-2.81c.8-.78.8-2.07 0-2.86zM5.41 20L4 18.59l7.72-7.72 1.47 1.35L5.41 20z\"/>\n",
              "  </svg>\n",
              "      </button>\n",
              "      \n",
              "  <style>\n",
              "    .colab-df-container {\n",
              "      display:flex;\n",
              "      flex-wrap:wrap;\n",
              "      gap: 12px;\n",
              "    }\n",
              "\n",
              "    .colab-df-convert {\n",
              "      background-color: #E8F0FE;\n",
              "      border: none;\n",
              "      border-radius: 50%;\n",
              "      cursor: pointer;\n",
              "      display: none;\n",
              "      fill: #1967D2;\n",
              "      height: 32px;\n",
              "      padding: 0 0 0 0;\n",
              "      width: 32px;\n",
              "    }\n",
              "\n",
              "    .colab-df-convert:hover {\n",
              "      background-color: #E2EBFA;\n",
              "      box-shadow: 0px 1px 2px rgba(60, 64, 67, 0.3), 0px 1px 3px 1px rgba(60, 64, 67, 0.15);\n",
              "      fill: #174EA6;\n",
              "    }\n",
              "\n",
              "    [theme=dark] .colab-df-convert {\n",
              "      background-color: #3B4455;\n",
              "      fill: #D2E3FC;\n",
              "    }\n",
              "\n",
              "    [theme=dark] .colab-df-convert:hover {\n",
              "      background-color: #434B5C;\n",
              "      box-shadow: 0px 1px 3px 1px rgba(0, 0, 0, 0.15);\n",
              "      filter: drop-shadow(0px 1px 2px rgba(0, 0, 0, 0.3));\n",
              "      fill: #FFFFFF;\n",
              "    }\n",
              "  </style>\n",
              "\n",
              "      <script>\n",
              "        const buttonEl =\n",
              "          document.querySelector('#df-34ad873d-8061-492b-8149-adbafda97d37 button.colab-df-convert');\n",
              "        buttonEl.style.display =\n",
              "          google.colab.kernel.accessAllowed ? 'block' : 'none';\n",
              "\n",
              "        async function convertToInteractive(key) {\n",
              "          const element = document.querySelector('#df-34ad873d-8061-492b-8149-adbafda97d37');\n",
              "          const dataTable =\n",
              "            await google.colab.kernel.invokeFunction('convertToInteractive',\n",
              "                                                     [key], {});\n",
              "          if (!dataTable) return;\n",
              "\n",
              "          const docLinkHtml = 'Like what you see? Visit the ' +\n",
              "            '<a target=\"_blank\" href=https://colab.research.google.com/notebooks/data_table.ipynb>data table notebook</a>'\n",
              "            + ' to learn more about interactive tables.';\n",
              "          element.innerHTML = '';\n",
              "          dataTable['output_type'] = 'display_data';\n",
              "          await google.colab.output.renderOutput(dataTable, element);\n",
              "          const docLink = document.createElement('div');\n",
              "          docLink.innerHTML = docLinkHtml;\n",
              "          element.appendChild(docLink);\n",
              "        }\n",
              "      </script>\n",
              "    </div>\n",
              "  </div>\n",
              "  "
            ]
          },
          "metadata": {},
          "execution_count": 71
        }
      ]
    },
    {
      "cell_type": "code",
      "source": [
        "#Tried another library, works too\n",
        "from strsimpy.levenshtein import Levenshtein\n",
        "\n",
        "levenshtein = Levenshtein()\n",
        "\n",
        "df['compare'] = df['A1'].apply(lambda x: levenshtein.distance(x, df['PSU'].tolist()))"
      ],
      "metadata": {
        "id": "ituF_AQ0ynAn"
      },
      "execution_count": 22,
      "outputs": []
    },
    {
      "cell_type": "code",
      "source": [
        "df['PSU']=df['PSU'].astype(str)\n",
        "df['A1']=df['A1'].astype(str)"
      ],
      "metadata": {
        "id": "n6WhQXGIX1Dc"
      },
      "execution_count": 73,
      "outputs": []
    },
    {
      "cell_type": "code",
      "source": [
        "#Finding the similarity of our SKUs\n",
        "from fuzzywuzzy import fuzz\n",
        "products_tuple = df[['PSU', 'A1']].apply(tuple, axis=1).tolist()\n",
        "df['ratio'] = [fuzz.ratio(*i) for i in products_tuple]"
      ],
      "metadata": {
        "id": "nP5uat4BziEQ"
      },
      "execution_count": 74,
      "outputs": []
    },
    {
      "cell_type": "code",
      "source": [
        "#Gives better scores...\n",
        "df['ratio2'] = [fuzz.token_sort_ratio(*i) for i in products_tuple]"
      ],
      "metadata": {
        "id": "ohHPpEdCDFfE"
      },
      "execution_count": 75,
      "outputs": []
    },
    {
      "cell_type": "code",
      "source": [
        "df.head(5)"
      ],
      "metadata": {
        "colab": {
          "base_uri": "https://localhost:8080/",
          "height": 206
        },
        "id": "BtK0UK6dA5-y",
        "outputId": "72704073-1beb-4287-ff79-02011c71121d"
      },
      "execution_count": 76,
      "outputs": [
        {
          "output_type": "execute_result",
          "data": {
            "text/plain": [
              "                          PSU                                     A1  ratio  \\\n",
              "0       bonjela gel 24x12x15g                                    nan     17   \n",
              "1  clearasil cream wash 150ml      clearasil ultra dpt scrub 6x150ml     60   \n",
              "2  clearasil cream wash 150ml         clearasil perfect wash 6x150ml     77   \n",
              "3  clearasil cream wash 150ml   clearasil oil free gel scrub 6x150ml     57   \n",
              "4  clearasil cream wash 150ml    clearasil oil free gel wash 6x150ml     74   \n",
              "\n",
              "   ratio2  \n",
              "0      17  \n",
              "1      64  \n",
              "2      79  \n",
              "3      58  \n",
              "4      75  "
            ],
            "text/html": [
              "\n",
              "  <div id=\"df-cd2105d8-2cd5-428e-aeef-1dede295bc89\">\n",
              "    <div class=\"colab-df-container\">\n",
              "      <div>\n",
              "<style scoped>\n",
              "    .dataframe tbody tr th:only-of-type {\n",
              "        vertical-align: middle;\n",
              "    }\n",
              "\n",
              "    .dataframe tbody tr th {\n",
              "        vertical-align: top;\n",
              "    }\n",
              "\n",
              "    .dataframe thead th {\n",
              "        text-align: right;\n",
              "    }\n",
              "</style>\n",
              "<table border=\"1\" class=\"dataframe\">\n",
              "  <thead>\n",
              "    <tr style=\"text-align: right;\">\n",
              "      <th></th>\n",
              "      <th>PSU</th>\n",
              "      <th>A1</th>\n",
              "      <th>ratio</th>\n",
              "      <th>ratio2</th>\n",
              "    </tr>\n",
              "  </thead>\n",
              "  <tbody>\n",
              "    <tr>\n",
              "      <th>0</th>\n",
              "      <td>bonjela gel 24x12x15g</td>\n",
              "      <td>nan</td>\n",
              "      <td>17</td>\n",
              "      <td>17</td>\n",
              "    </tr>\n",
              "    <tr>\n",
              "      <th>1</th>\n",
              "      <td>clearasil cream wash 150ml</td>\n",
              "      <td>clearasil ultra dpt scrub 6x150ml</td>\n",
              "      <td>60</td>\n",
              "      <td>64</td>\n",
              "    </tr>\n",
              "    <tr>\n",
              "      <th>2</th>\n",
              "      <td>clearasil cream wash 150ml</td>\n",
              "      <td>clearasil perfect wash 6x150ml</td>\n",
              "      <td>77</td>\n",
              "      <td>79</td>\n",
              "    </tr>\n",
              "    <tr>\n",
              "      <th>3</th>\n",
              "      <td>clearasil cream wash 150ml</td>\n",
              "      <td>clearasil oil free gel scrub 6x150ml</td>\n",
              "      <td>57</td>\n",
              "      <td>58</td>\n",
              "    </tr>\n",
              "    <tr>\n",
              "      <th>4</th>\n",
              "      <td>clearasil cream wash 150ml</td>\n",
              "      <td>clearasil oil free gel wash 6x150ml</td>\n",
              "      <td>74</td>\n",
              "      <td>75</td>\n",
              "    </tr>\n",
              "  </tbody>\n",
              "</table>\n",
              "</div>\n",
              "      <button class=\"colab-df-convert\" onclick=\"convertToInteractive('df-cd2105d8-2cd5-428e-aeef-1dede295bc89')\"\n",
              "              title=\"Convert this dataframe to an interactive table.\"\n",
              "              style=\"display:none;\">\n",
              "        \n",
              "  <svg xmlns=\"http://www.w3.org/2000/svg\" height=\"24px\"viewBox=\"0 0 24 24\"\n",
              "       width=\"24px\">\n",
              "    <path d=\"M0 0h24v24H0V0z\" fill=\"none\"/>\n",
              "    <path d=\"M18.56 5.44l.94 2.06.94-2.06 2.06-.94-2.06-.94-.94-2.06-.94 2.06-2.06.94zm-11 1L8.5 8.5l.94-2.06 2.06-.94-2.06-.94L8.5 2.5l-.94 2.06-2.06.94zm10 10l.94 2.06.94-2.06 2.06-.94-2.06-.94-.94-2.06-.94 2.06-2.06.94z\"/><path d=\"M17.41 7.96l-1.37-1.37c-.4-.4-.92-.59-1.43-.59-.52 0-1.04.2-1.43.59L10.3 9.45l-7.72 7.72c-.78.78-.78 2.05 0 2.83L4 21.41c.39.39.9.59 1.41.59.51 0 1.02-.2 1.41-.59l7.78-7.78 2.81-2.81c.8-.78.8-2.07 0-2.86zM5.41 20L4 18.59l7.72-7.72 1.47 1.35L5.41 20z\"/>\n",
              "  </svg>\n",
              "      </button>\n",
              "      \n",
              "  <style>\n",
              "    .colab-df-container {\n",
              "      display:flex;\n",
              "      flex-wrap:wrap;\n",
              "      gap: 12px;\n",
              "    }\n",
              "\n",
              "    .colab-df-convert {\n",
              "      background-color: #E8F0FE;\n",
              "      border: none;\n",
              "      border-radius: 50%;\n",
              "      cursor: pointer;\n",
              "      display: none;\n",
              "      fill: #1967D2;\n",
              "      height: 32px;\n",
              "      padding: 0 0 0 0;\n",
              "      width: 32px;\n",
              "    }\n",
              "\n",
              "    .colab-df-convert:hover {\n",
              "      background-color: #E2EBFA;\n",
              "      box-shadow: 0px 1px 2px rgba(60, 64, 67, 0.3), 0px 1px 3px 1px rgba(60, 64, 67, 0.15);\n",
              "      fill: #174EA6;\n",
              "    }\n",
              "\n",
              "    [theme=dark] .colab-df-convert {\n",
              "      background-color: #3B4455;\n",
              "      fill: #D2E3FC;\n",
              "    }\n",
              "\n",
              "    [theme=dark] .colab-df-convert:hover {\n",
              "      background-color: #434B5C;\n",
              "      box-shadow: 0px 1px 3px 1px rgba(0, 0, 0, 0.15);\n",
              "      filter: drop-shadow(0px 1px 2px rgba(0, 0, 0, 0.3));\n",
              "      fill: #FFFFFF;\n",
              "    }\n",
              "  </style>\n",
              "\n",
              "      <script>\n",
              "        const buttonEl =\n",
              "          document.querySelector('#df-cd2105d8-2cd5-428e-aeef-1dede295bc89 button.colab-df-convert');\n",
              "        buttonEl.style.display =\n",
              "          google.colab.kernel.accessAllowed ? 'block' : 'none';\n",
              "\n",
              "        async function convertToInteractive(key) {\n",
              "          const element = document.querySelector('#df-cd2105d8-2cd5-428e-aeef-1dede295bc89');\n",
              "          const dataTable =\n",
              "            await google.colab.kernel.invokeFunction('convertToInteractive',\n",
              "                                                     [key], {});\n",
              "          if (!dataTable) return;\n",
              "\n",
              "          const docLinkHtml = 'Like what you see? Visit the ' +\n",
              "            '<a target=\"_blank\" href=https://colab.research.google.com/notebooks/data_table.ipynb>data table notebook</a>'\n",
              "            + ' to learn more about interactive tables.';\n",
              "          element.innerHTML = '';\n",
              "          dataTable['output_type'] = 'display_data';\n",
              "          await google.colab.output.renderOutput(dataTable, element);\n",
              "          const docLink = document.createElement('div');\n",
              "          docLink.innerHTML = docLinkHtml;\n",
              "          element.appendChild(docLink);\n",
              "        }\n",
              "      </script>\n",
              "    </div>\n",
              "  </div>\n",
              "  "
            ]
          },
          "metadata": {},
          "execution_count": 76
        }
      ]
    },
    {
      "cell_type": "code",
      "source": [
        "from google.colab import files\n",
        "\n",
        "df.to_csv('raw.csv', encoding = 'utf-8-sig') \n",
        "files.download('raw.csv')"
      ],
      "metadata": {
        "colab": {
          "base_uri": "https://localhost:8080/",
          "height": 17
        },
        "id": "YjoG7ZR6ctFu",
        "outputId": "0ccf96cc-3710-4e56-9594-4c6e918b73a8"
      },
      "execution_count": 77,
      "outputs": [
        {
          "output_type": "display_data",
          "data": {
            "text/plain": [
              "<IPython.core.display.Javascript object>"
            ],
            "application/javascript": [
              "\n",
              "    async function download(id, filename, size) {\n",
              "      if (!google.colab.kernel.accessAllowed) {\n",
              "        return;\n",
              "      }\n",
              "      const div = document.createElement('div');\n",
              "      const label = document.createElement('label');\n",
              "      label.textContent = `Downloading \"${filename}\": `;\n",
              "      div.appendChild(label);\n",
              "      const progress = document.createElement('progress');\n",
              "      progress.max = size;\n",
              "      div.appendChild(progress);\n",
              "      document.body.appendChild(div);\n",
              "\n",
              "      const buffers = [];\n",
              "      let downloaded = 0;\n",
              "\n",
              "      const channel = await google.colab.kernel.comms.open(id);\n",
              "      // Send a message to notify the kernel that we're ready.\n",
              "      channel.send({})\n",
              "\n",
              "      for await (const message of channel.messages) {\n",
              "        // Send a message to notify the kernel that we're ready.\n",
              "        channel.send({})\n",
              "        if (message.buffers) {\n",
              "          for (const buffer of message.buffers) {\n",
              "            buffers.push(buffer);\n",
              "            downloaded += buffer.byteLength;\n",
              "            progress.value = downloaded;\n",
              "          }\n",
              "        }\n",
              "      }\n",
              "      const blob = new Blob(buffers, {type: 'application/binary'});\n",
              "      const a = document.createElement('a');\n",
              "      a.href = window.URL.createObjectURL(blob);\n",
              "      a.download = filename;\n",
              "      div.appendChild(a);\n",
              "      a.click();\n",
              "      div.remove();\n",
              "    }\n",
              "  "
            ]
          },
          "metadata": {}
        },
        {
          "output_type": "display_data",
          "data": {
            "text/plain": [
              "<IPython.core.display.Javascript object>"
            ],
            "application/javascript": [
              "download(\"download_1f9e4e34-fadd-4a82-8b64-42ee27e59a3f\", \"raw.csv\", 10840252)"
            ]
          },
          "metadata": {}
        }
      ]
    },
    {
      "cell_type": "code",
      "source": [
        "from fuzzywuzzy import fuzz\n",
        "from fuzzywuzzy import process"
      ],
      "metadata": {
        "id": "W4ILK7bgvK81"
      },
      "execution_count": 73,
      "outputs": []
    },
    {
      "cell_type": "code",
      "source": [
        "#Running FuzzyWuzzy\n",
        "df['compare'] = df['A1'].apply(lambda x: process.extractOne(x, df['PSU'].tolist()))"
      ],
      "metadata": {
        "id": "75jGkGxScam5"
      },
      "execution_count": 86,
      "outputs": []
    },
    {
      "cell_type": "code",
      "execution_count": null,
      "metadata": {
        "colab": {
          "base_uri": "https://localhost:8080/"
        },
        "id": "Aa-qmrUnnyjb",
        "outputId": "044b690f-9ec8-4fa9-c2d6-b273e17665d5"
      },
      "outputs": [
        {
          "name": "stdout",
          "output_type": "stream",
          "text": [
            "        Product SKU Description                            Attribute 1\n",
            "0     DETOL,BH,Aqua DIL 5X750ml         ###DETTOL REFRESHING SOAP 120G\n",
            "1     DETOL,BH,Aqua DIL 5X750ml   DETTOL A/B  SURFACE CLEANER 6X500 ML\n",
            "2     DETOL,BH,Aqua DIL 5X750ml   DETTOL A/B  SURFACE CLEANER 6X500 ML\n",
            "3     DETOL,BH,Aqua DIL 5X750ml    ###DETTOL POWER & PURE AQUA 5X500ML\n",
            "4     DETOL,BH,Aqua DIL 5X750ml    ###DETTOL POWER & PURE AQUA 5X500ML\n",
            "...                         ...                                    ...\n",
            "1060  DETOL,BH,Aqua DIL 5X750ml       ###DETTOL 'ON THE GO' TRAVEL KIT\n",
            "1061  DETOL,BH,Aqua DIL 5X750ml         DETTOL PERSONAL CARE  24X250ML\n",
            "1062  DETOL,BH,Aqua DIL 5X750ml  ########DETTOL PERSONAL CARE 12X250ML\n",
            "1063  DETOL,BH,Aqua DIL 5X750ml          DETTOL PERSONAL CARE 24X500ML\n",
            "1064  DETOL,BH,Aqua DIL 5X750ml          DETTOL PERSONAL CARE 24X500ML\n",
            "\n",
            "[1065 rows x 2 columns]\n"
          ]
        }
      ],
      "source": [
        "#Hypothesis Testing for fuzzy wuzzy to see how one SKU reacts to improper matches..\n",
        "\n",
        "xavi = pd.read_excel('/content/Fuzzy1.xlsx')\n",
        "\n",
        "print(xavi)\n",
        "\n",
        "spec_chars = [\" \",\"!\",'\"',\"#\",\"%\",\"&\",\"'\",\"(\",\")\",\n",
        "              \"*\",\"+\",\",\",\"-\",\".\",\"/\",\":\",\";\",\"<\",\n",
        "              \"=\",\">\",\"?\",\"@\",\"[\",\"\\\\\",\"]\",\"^\",\"_\",\n",
        "              \"`\",\"{\",\"|\",\"}\",\"~\",\"–\",\",\"]\n",
        "for char in spec_chars:\n",
        "    xavi['PSD'] = xavi['Product SKU Description'].str.replace(char, ' ')\n",
        "\n",
        "    spec_chars2 = [\" \",\"!\",'\"',\"%\",\"&\",\"'\",\"(\",\")\",\n",
        "              \"*\",\"+\",\",\",\"-\",\".\",\"/\",\":\",\";\",\"<\",\n",
        "              \"=\",\">\",\"?\",\"@\",\"[\",\"\\\\\",\"]\",\"^\",\"_\",\n",
        "              \"`\",\"{\",\"|\",\"}\",\"~\",\"–\",\"###\"]\n",
        "for char in spec_chars2:\n",
        "    xavi['A1'] = xavi['Attribute 1'].str.replace(char, ' ')\n",
        "\n",
        "\n",
        "#Lowercase\n",
        "xavi['PSD']= xavi['PSD'].apply(lambda x: x.lower())\n",
        "xavi['A1']= xavi['A1'].apply(lambda x: x.lower())\n",
        "\n",
        "xavi['Product SKU Description']=xavi['Product SKU Description'].astype(str)\n",
        "xavi['Attribute 1']=xavi['Attribute 1'].astype(str)\n",
        "\n",
        "xavi['compare'] = xavi['A1'].apply(lambda x: process.extractOne(x, xavi['PSD'].to_list()))"
      ]
    },
    {
      "cell_type": "code",
      "execution_count": null,
      "metadata": {
        "id": "bCIqKc1HoBn-"
      },
      "outputs": [],
      "source": [
        "##Cleaning Text Data\n",
        "\n",
        "#Lowercase\n",
        "xavi['PSD']= xavi['PSD'].apply(lambda x: x.lower())\n",
        "xavi['A1']= xavi['A1'].apply(lambda x: x.lower())\n",
        "\n",
        "\n",
        "#remove punctuation via String.tranlate(table)\n",
        "def remove_punct(series):\n",
        "   table = str.maketrans('', '', string.punctuation)\n",
        "   tokens_punct = series.translate(table).lower()\n",
        "   tokens_spaces = ' '.join(\n",
        "   [token.strip() for token in tokens_punct.split() if token != ' ']\n",
        "   )\n",
        "   return tokens_spaces"
      ]
    },
    {
      "cell_type": "code",
      "execution_count": null,
      "metadata": {
        "id": "uOXYqjWyODHy"
      },
      "outputs": [],
      "source": [
        "def text_prepare(text):\n",
        "    \"\"\"\n",
        "        text: a string\n",
        "        \n",
        "        return: a clean string\n",
        "    \"\"\"\n",
        "    REPLACE_BY_SPACE_RE = re.compile('[\\n\\\"\\'/(){}\\[\\]\\|@,;#]')\n",
        "    text = re.sub(REPLACE_BY_SPACE_RE, ' ', text)\n",
        "    text = re.sub(' +', ' ', text)\n",
        "    text = text.lower()\n",
        "    return text"
      ]
    },
    {
      "cell_type": "code",
      "execution_count": null,
      "metadata": {
        "colab": {
          "base_uri": "https://localhost:8080/"
        },
        "id": "oVEwot8CPzBb",
        "outputId": "4ea32b8a-f055-475e-eca4-1653f205da43"
      },
      "outputs": [
        {
          "name": "stdout",
          "output_type": "stream",
          "text": [
            "                      new_psa                            Attribute 1\n",
            "0      Bonjela,GEL, 24x12x15g            BONJELA  ADULT ORAL GEL 15G\n",
            "1      Bonjela,GEL, 24x12x15g                          Not Available\n",
            "2   Clearasil,ULTRA SCRUB 150   ###CLEARASIL ULTRA DPT SCRUB 6X150ML\n",
            "3  Clearasil,CREAM WASH 150ML  ###CLEARASIL ULTRA FACE WASH 6X150 ML\n",
            "4  Clearasil,LTN SENS 6X200ML    ###CLEARASIL OIL FREE TONER 6X200ML\n"
          ]
        }
      ],
      "source": [
        "testing= df[['new_psa','Attribute 1']]\n",
        "\n",
        "print(testing.head())"
      ]
    },
    {
      "cell_type": "code",
      "execution_count": null,
      "metadata": {
        "colab": {
          "base_uri": "https://localhost:8080/",
          "height": 459
        },
        "id": "0HArGaDBhnoJ",
        "outputId": "289afc2b-daf8-47ed-dad4-f827fdb1457b"
      },
      "outputs": [
        {
          "data": {
            "text/html": [
              "\n",
              "  <div id=\"df-98e6faef-1c26-4ee8-be6c-c1d4d7136319\">\n",
              "    <div class=\"colab-df-container\">\n",
              "      <div>\n",
              "<style scoped>\n",
              "    .dataframe tbody tr th:only-of-type {\n",
              "        vertical-align: middle;\n",
              "    }\n",
              "\n",
              "    .dataframe tbody tr th {\n",
              "        vertical-align: top;\n",
              "    }\n",
              "\n",
              "    .dataframe thead th {\n",
              "        text-align: right;\n",
              "    }\n",
              "</style>\n",
              "<table border=\"1\" class=\"dataframe\">\n",
              "  <thead>\n",
              "    <tr style=\"text-align: right;\">\n",
              "      <th></th>\n",
              "      <th>LOB</th>\n",
              "      <th>Level 1 Name</th>\n",
              "      <th>Distributor Code</th>\n",
              "      <th>Distributor Name</th>\n",
              "      <th>Brand Name</th>\n",
              "      <th>Level 6 Name</th>\n",
              "      <th>Segment Code</th>\n",
              "      <th>Product SKU Code</th>\n",
              "      <th>Product SKU Description</th>\n",
              "      <th>Product Id</th>\n",
              "      <th>Attribute 1</th>\n",
              "      <th>Net Secondary Amount - Invoiced</th>\n",
              "      <th>new_psa</th>\n",
              "    </tr>\n",
              "  </thead>\n",
              "  <tbody>\n",
              "    <tr>\n",
              "      <th>0</th>\n",
              "      <td>Health</td>\n",
              "      <td>UAE</td>\n",
              "      <td>34910303.0</td>\n",
              "      <td>city_pharmacy</td>\n",
              "      <td>Bonjela</td>\n",
              "      <td>HC Others</td>\n",
              "      <td>JM</td>\n",
              "      <td>3013916</td>\n",
              "      <td>BONJE,ME,GEL, 24x12x15g</td>\n",
              "      <td>34910303_PREC000029</td>\n",
              "      <td>BONJELA  ADULT ORAL GEL 15G</td>\n",
              "      <td>1,035,870.11</td>\n",
              "      <td>Bonjela,GEL, 24x12x15g</td>\n",
              "    </tr>\n",
              "    <tr>\n",
              "      <th>1</th>\n",
              "      <td>Health</td>\n",
              "      <td>UAE</td>\n",
              "      <td>34910304.0</td>\n",
              "      <td>MINISTRY OF HEALTH ABUDHABI</td>\n",
              "      <td>Bonjela</td>\n",
              "      <td>HC Others</td>\n",
              "      <td>JM</td>\n",
              "      <td>3013916</td>\n",
              "      <td>BONJE,ME,GEL, 24x12x15g</td>\n",
              "      <td>34910304_3013916</td>\n",
              "      <td>Not Available</td>\n",
              "      <td>15,984.00</td>\n",
              "      <td>Bonjela,GEL, 24x12x15g</td>\n",
              "    </tr>\n",
              "    <tr>\n",
              "      <th>2</th>\n",
              "      <td>Health</td>\n",
              "      <td>UAE</td>\n",
              "      <td>76900001.0</td>\n",
              "      <td>Alseer</td>\n",
              "      <td>Clearasil</td>\n",
              "      <td>HC Others</td>\n",
              "      <td>AE</td>\n",
              "      <td>0364855</td>\n",
              "      <td>CLRSL,ME,ULTRA SCRUB 150</td>\n",
              "      <td>76900001_6295120006795RC612</td>\n",
              "      <td>###CLEARASIL ULTRA DPT SCRUB 6X150ML</td>\n",
              "      <td>-98.95</td>\n",
              "      <td>Clearasil,ULTRA SCRUB 150</td>\n",
              "    </tr>\n",
              "    <tr>\n",
              "      <th>3</th>\n",
              "      <td>Health</td>\n",
              "      <td>UAE</td>\n",
              "      <td>76900001.0</td>\n",
              "      <td>Alseer</td>\n",
              "      <td>Clearasil</td>\n",
              "      <td>HC Others</td>\n",
              "      <td>MH</td>\n",
              "      <td>0364876</td>\n",
              "      <td>CLRSL,ME,CREAM WASH 150ML</td>\n",
              "      <td>76900001_6295120006818RC610</td>\n",
              "      <td>###CLEARASIL ULTRA FACE WASH 6X150 ML</td>\n",
              "      <td>-40.87</td>\n",
              "      <td>Clearasil,CREAM WASH 150ML</td>\n",
              "    </tr>\n",
              "    <tr>\n",
              "      <th>4</th>\n",
              "      <td>Health</td>\n",
              "      <td>UAE</td>\n",
              "      <td>76900001.0</td>\n",
              "      <td>Alseer</td>\n",
              "      <td>Clearasil</td>\n",
              "      <td>HC Others</td>\n",
              "      <td>MH</td>\n",
              "      <td>0364882</td>\n",
              "      <td>CLRSL,ME,LTN SENS 6X200ML</td>\n",
              "      <td>76900001_6295120005095RC609</td>\n",
              "      <td>###CLEARASIL OIL FREE TONER 6X200ML</td>\n",
              "      <td>-30.09</td>\n",
              "      <td>Clearasil,LTN SENS 6X200ML</td>\n",
              "    </tr>\n",
              "  </tbody>\n",
              "</table>\n",
              "</div>\n",
              "      <button class=\"colab-df-convert\" onclick=\"convertToInteractive('df-98e6faef-1c26-4ee8-be6c-c1d4d7136319')\"\n",
              "              title=\"Convert this dataframe to an interactive table.\"\n",
              "              style=\"display:none;\">\n",
              "        \n",
              "  <svg xmlns=\"http://www.w3.org/2000/svg\" height=\"24px\"viewBox=\"0 0 24 24\"\n",
              "       width=\"24px\">\n",
              "    <path d=\"M0 0h24v24H0V0z\" fill=\"none\"/>\n",
              "    <path d=\"M18.56 5.44l.94 2.06.94-2.06 2.06-.94-2.06-.94-.94-2.06-.94 2.06-2.06.94zm-11 1L8.5 8.5l.94-2.06 2.06-.94-2.06-.94L8.5 2.5l-.94 2.06-2.06.94zm10 10l.94 2.06.94-2.06 2.06-.94-2.06-.94-.94-2.06-.94 2.06-2.06.94z\"/><path d=\"M17.41 7.96l-1.37-1.37c-.4-.4-.92-.59-1.43-.59-.52 0-1.04.2-1.43.59L10.3 9.45l-7.72 7.72c-.78.78-.78 2.05 0 2.83L4 21.41c.39.39.9.59 1.41.59.51 0 1.02-.2 1.41-.59l7.78-7.78 2.81-2.81c.8-.78.8-2.07 0-2.86zM5.41 20L4 18.59l7.72-7.72 1.47 1.35L5.41 20z\"/>\n",
              "  </svg>\n",
              "      </button>\n",
              "      \n",
              "  <style>\n",
              "    .colab-df-container {\n",
              "      display:flex;\n",
              "      flex-wrap:wrap;\n",
              "      gap: 12px;\n",
              "    }\n",
              "\n",
              "    .colab-df-convert {\n",
              "      background-color: #E8F0FE;\n",
              "      border: none;\n",
              "      border-radius: 50%;\n",
              "      cursor: pointer;\n",
              "      display: none;\n",
              "      fill: #1967D2;\n",
              "      height: 32px;\n",
              "      padding: 0 0 0 0;\n",
              "      width: 32px;\n",
              "    }\n",
              "\n",
              "    .colab-df-convert:hover {\n",
              "      background-color: #E2EBFA;\n",
              "      box-shadow: 0px 1px 2px rgba(60, 64, 67, 0.3), 0px 1px 3px 1px rgba(60, 64, 67, 0.15);\n",
              "      fill: #174EA6;\n",
              "    }\n",
              "\n",
              "    [theme=dark] .colab-df-convert {\n",
              "      background-color: #3B4455;\n",
              "      fill: #D2E3FC;\n",
              "    }\n",
              "\n",
              "    [theme=dark] .colab-df-convert:hover {\n",
              "      background-color: #434B5C;\n",
              "      box-shadow: 0px 1px 3px 1px rgba(0, 0, 0, 0.15);\n",
              "      filter: drop-shadow(0px 1px 2px rgba(0, 0, 0, 0.3));\n",
              "      fill: #FFFFFF;\n",
              "    }\n",
              "  </style>\n",
              "\n",
              "      <script>\n",
              "        const buttonEl =\n",
              "          document.querySelector('#df-98e6faef-1c26-4ee8-be6c-c1d4d7136319 button.colab-df-convert');\n",
              "        buttonEl.style.display =\n",
              "          google.colab.kernel.accessAllowed ? 'block' : 'none';\n",
              "\n",
              "        async function convertToInteractive(key) {\n",
              "          const element = document.querySelector('#df-98e6faef-1c26-4ee8-be6c-c1d4d7136319');\n",
              "          const dataTable =\n",
              "            await google.colab.kernel.invokeFunction('convertToInteractive',\n",
              "                                                     [key], {});\n",
              "          if (!dataTable) return;\n",
              "\n",
              "          const docLinkHtml = 'Like what you see? Visit the ' +\n",
              "            '<a target=\"_blank\" href=https://colab.research.google.com/notebooks/data_table.ipynb>data table notebook</a>'\n",
              "            + ' to learn more about interactive tables.';\n",
              "          element.innerHTML = '';\n",
              "          dataTable['output_type'] = 'display_data';\n",
              "          await google.colab.output.renderOutput(dataTable, element);\n",
              "          const docLink = document.createElement('div');\n",
              "          docLink.innerHTML = docLinkHtml;\n",
              "          element.appendChild(docLink);\n",
              "        }\n",
              "      </script>\n",
              "    </div>\n",
              "  </div>\n",
              "  "
            ],
            "text/plain": [
              "      LOB Level 1 Name  Distributor Code             Distributor Name  \\\n",
              "0  Health          UAE        34910303.0                city_pharmacy   \n",
              "1  Health          UAE        34910304.0  MINISTRY OF HEALTH ABUDHABI   \n",
              "2  Health          UAE        76900001.0                       Alseer   \n",
              "3  Health          UAE        76900001.0                       Alseer   \n",
              "4  Health          UAE        76900001.0                       Alseer   \n",
              "\n",
              "  Brand Name Level 6 Name Segment Code Product SKU Code  \\\n",
              "0    Bonjela    HC Others           JM          3013916   \n",
              "1    Bonjela    HC Others           JM          3013916   \n",
              "2  Clearasil    HC Others           AE          0364855   \n",
              "3  Clearasil    HC Others           MH          0364876   \n",
              "4  Clearasil    HC Others           MH          0364882   \n",
              "\n",
              "     Product SKU Description                   Product Id  \\\n",
              "0    BONJE,ME,GEL, 24x12x15g          34910303_PREC000029   \n",
              "1    BONJE,ME,GEL, 24x12x15g             34910304_3013916   \n",
              "2   CLRSL,ME,ULTRA SCRUB 150  76900001_6295120006795RC612   \n",
              "3  CLRSL,ME,CREAM WASH 150ML  76900001_6295120006818RC610   \n",
              "4  CLRSL,ME,LTN SENS 6X200ML  76900001_6295120005095RC609   \n",
              "\n",
              "                             Attribute 1 Net Secondary Amount - Invoiced  \\\n",
              "0            BONJELA  ADULT ORAL GEL 15G                    1,035,870.11   \n",
              "1                          Not Available                       15,984.00   \n",
              "2   ###CLEARASIL ULTRA DPT SCRUB 6X150ML                          -98.95   \n",
              "3  ###CLEARASIL ULTRA FACE WASH 6X150 ML                          -40.87   \n",
              "4    ###CLEARASIL OIL FREE TONER 6X200ML                          -30.09   \n",
              "\n",
              "                      new_psa  \n",
              "0      Bonjela,GEL, 24x12x15g  \n",
              "1      Bonjela,GEL, 24x12x15g  \n",
              "2   Clearasil,ULTRA SCRUB 150  \n",
              "3  Clearasil,CREAM WASH 150ML  \n",
              "4  Clearasil,LTN SENS 6X200ML  "
            ]
          },
          "execution_count": 40,
          "metadata": {},
          "output_type": "execute_result"
        }
      ],
      "source": [
        "# df['new_psa'] = df['Brand Name'].concat\n",
        "df['new_psa'] = df['Brand Name'] + ',' + df['Product SKU Description'].str.split(',', n=2).str.get(-1)\n",
        "df.head()"
      ]
    },
    {
      "cell_type": "code",
      "execution_count": null,
      "metadata": {
        "id": "g0Pyr5AeUF9r"
      },
      "outputs": [],
      "source": [
        "testing['new_psa']=testing['new_psa'].astype(str)\n",
        "testing['Attribute 1']=testing['Attribute 1'].astype(str)"
      ]
    },
    {
      "cell_type": "code",
      "execution_count": null,
      "metadata": {
        "id": "yn_HJb5PPtt1"
      },
      "outputs": [],
      "source": [
        "testing[\"clean_PSA\"] = testing[\"new_psa\"].apply(lambda x: text_prepare(x))"
      ]
    },
    {
      "cell_type": "code",
      "execution_count": null,
      "metadata": {
        "colab": {
          "base_uri": "https://localhost:8080/",
          "height": 81
        },
        "id": "CRtXO_mhUTpt",
        "outputId": "fe79aff4-e991-4c43-922a-d86088654944"
      },
      "outputs": [
        {
          "data": {
            "text/html": [
              "\n",
              "  <div id=\"df-0fff5cbb-0cf8-40b5-9681-b72b1a2876af\">\n",
              "    <div class=\"colab-df-container\">\n",
              "      <div>\n",
              "<style scoped>\n",
              "    .dataframe tbody tr th:only-of-type {\n",
              "        vertical-align: middle;\n",
              "    }\n",
              "\n",
              "    .dataframe tbody tr th {\n",
              "        vertical-align: top;\n",
              "    }\n",
              "\n",
              "    .dataframe thead th {\n",
              "        text-align: right;\n",
              "    }\n",
              "</style>\n",
              "<table border=\"1\" class=\"dataframe\">\n",
              "  <thead>\n",
              "    <tr style=\"text-align: right;\">\n",
              "      <th></th>\n",
              "      <th>new_psa</th>\n",
              "      <th>Attribute 1</th>\n",
              "      <th>clean_PSA</th>\n",
              "    </tr>\n",
              "  </thead>\n",
              "  <tbody>\n",
              "    <tr>\n",
              "      <th>0</th>\n",
              "      <td>Bonjela,GEL, 24x12x15g</td>\n",
              "      <td>BONJELA  ADULT ORAL GEL 15G</td>\n",
              "      <td>bonjela gel 24x12x15g</td>\n",
              "    </tr>\n",
              "  </tbody>\n",
              "</table>\n",
              "</div>\n",
              "      <button class=\"colab-df-convert\" onclick=\"convertToInteractive('df-0fff5cbb-0cf8-40b5-9681-b72b1a2876af')\"\n",
              "              title=\"Convert this dataframe to an interactive table.\"\n",
              "              style=\"display:none;\">\n",
              "        \n",
              "  <svg xmlns=\"http://www.w3.org/2000/svg\" height=\"24px\"viewBox=\"0 0 24 24\"\n",
              "       width=\"24px\">\n",
              "    <path d=\"M0 0h24v24H0V0z\" fill=\"none\"/>\n",
              "    <path d=\"M18.56 5.44l.94 2.06.94-2.06 2.06-.94-2.06-.94-.94-2.06-.94 2.06-2.06.94zm-11 1L8.5 8.5l.94-2.06 2.06-.94-2.06-.94L8.5 2.5l-.94 2.06-2.06.94zm10 10l.94 2.06.94-2.06 2.06-.94-2.06-.94-.94-2.06-.94 2.06-2.06.94z\"/><path d=\"M17.41 7.96l-1.37-1.37c-.4-.4-.92-.59-1.43-.59-.52 0-1.04.2-1.43.59L10.3 9.45l-7.72 7.72c-.78.78-.78 2.05 0 2.83L4 21.41c.39.39.9.59 1.41.59.51 0 1.02-.2 1.41-.59l7.78-7.78 2.81-2.81c.8-.78.8-2.07 0-2.86zM5.41 20L4 18.59l7.72-7.72 1.47 1.35L5.41 20z\"/>\n",
              "  </svg>\n",
              "      </button>\n",
              "      \n",
              "  <style>\n",
              "    .colab-df-container {\n",
              "      display:flex;\n",
              "      flex-wrap:wrap;\n",
              "      gap: 12px;\n",
              "    }\n",
              "\n",
              "    .colab-df-convert {\n",
              "      background-color: #E8F0FE;\n",
              "      border: none;\n",
              "      border-radius: 50%;\n",
              "      cursor: pointer;\n",
              "      display: none;\n",
              "      fill: #1967D2;\n",
              "      height: 32px;\n",
              "      padding: 0 0 0 0;\n",
              "      width: 32px;\n",
              "    }\n",
              "\n",
              "    .colab-df-convert:hover {\n",
              "      background-color: #E2EBFA;\n",
              "      box-shadow: 0px 1px 2px rgba(60, 64, 67, 0.3), 0px 1px 3px 1px rgba(60, 64, 67, 0.15);\n",
              "      fill: #174EA6;\n",
              "    }\n",
              "\n",
              "    [theme=dark] .colab-df-convert {\n",
              "      background-color: #3B4455;\n",
              "      fill: #D2E3FC;\n",
              "    }\n",
              "\n",
              "    [theme=dark] .colab-df-convert:hover {\n",
              "      background-color: #434B5C;\n",
              "      box-shadow: 0px 1px 3px 1px rgba(0, 0, 0, 0.15);\n",
              "      filter: drop-shadow(0px 1px 2px rgba(0, 0, 0, 0.3));\n",
              "      fill: #FFFFFF;\n",
              "    }\n",
              "  </style>\n",
              "\n",
              "      <script>\n",
              "        const buttonEl =\n",
              "          document.querySelector('#df-0fff5cbb-0cf8-40b5-9681-b72b1a2876af button.colab-df-convert');\n",
              "        buttonEl.style.display =\n",
              "          google.colab.kernel.accessAllowed ? 'block' : 'none';\n",
              "\n",
              "        async function convertToInteractive(key) {\n",
              "          const element = document.querySelector('#df-0fff5cbb-0cf8-40b5-9681-b72b1a2876af');\n",
              "          const dataTable =\n",
              "            await google.colab.kernel.invokeFunction('convertToInteractive',\n",
              "                                                     [key], {});\n",
              "          if (!dataTable) return;\n",
              "\n",
              "          const docLinkHtml = 'Like what you see? Visit the ' +\n",
              "            '<a target=\"_blank\" href=https://colab.research.google.com/notebooks/data_table.ipynb>data table notebook</a>'\n",
              "            + ' to learn more about interactive tables.';\n",
              "          element.innerHTML = '';\n",
              "          dataTable['output_type'] = 'display_data';\n",
              "          await google.colab.output.renderOutput(dataTable, element);\n",
              "          const docLink = document.createElement('div');\n",
              "          docLink.innerHTML = docLinkHtml;\n",
              "          element.appendChild(docLink);\n",
              "        }\n",
              "      </script>\n",
              "    </div>\n",
              "  </div>\n",
              "  "
            ],
            "text/plain": [
              "                  new_psa                  Attribute 1              clean_PSA\n",
              "0  Bonjela,GEL, 24x12x15g  BONJELA  ADULT ORAL GEL 15G  bonjela gel 24x12x15g"
            ]
          },
          "execution_count": 44,
          "metadata": {},
          "output_type": "execute_result"
        }
      ],
      "source": [
        "testing.head(1)"
      ]
    },
    {
      "cell_type": "code",
      "execution_count": null,
      "metadata": {
        "colab": {
          "base_uri": "https://localhost:8080/",
          "height": 81
        },
        "id": "qj0N87xIUe-V",
        "outputId": "8922d1ac-177b-4b1a-aaa9-d1e22036d19a"
      },
      "outputs": [
        {
          "data": {
            "text/html": [
              "\n",
              "  <div id=\"df-28e3a3fe-20e8-490f-aa6c-494ee91ce426\">\n",
              "    <div class=\"colab-df-container\">\n",
              "      <div>\n",
              "<style scoped>\n",
              "    .dataframe tbody tr th:only-of-type {\n",
              "        vertical-align: middle;\n",
              "    }\n",
              "\n",
              "    .dataframe tbody tr th {\n",
              "        vertical-align: top;\n",
              "    }\n",
              "\n",
              "    .dataframe thead th {\n",
              "        text-align: right;\n",
              "    }\n",
              "</style>\n",
              "<table border=\"1\" class=\"dataframe\">\n",
              "  <thead>\n",
              "    <tr style=\"text-align: right;\">\n",
              "      <th></th>\n",
              "      <th>new_psa</th>\n",
              "      <th>Attribute 1</th>\n",
              "      <th>clean_PSA</th>\n",
              "      <th>clean_A1</th>\n",
              "    </tr>\n",
              "  </thead>\n",
              "  <tbody>\n",
              "    <tr>\n",
              "      <th>0</th>\n",
              "      <td>Bonjela,GEL, 24x12x15g</td>\n",
              "      <td>BONJELA  ADULT ORAL GEL 15G</td>\n",
              "      <td>bonjela gel 24x12x15g</td>\n",
              "      <td>bonjela adult oral gel 15g</td>\n",
              "    </tr>\n",
              "  </tbody>\n",
              "</table>\n",
              "</div>\n",
              "      <button class=\"colab-df-convert\" onclick=\"convertToInteractive('df-28e3a3fe-20e8-490f-aa6c-494ee91ce426')\"\n",
              "              title=\"Convert this dataframe to an interactive table.\"\n",
              "              style=\"display:none;\">\n",
              "        \n",
              "  <svg xmlns=\"http://www.w3.org/2000/svg\" height=\"24px\"viewBox=\"0 0 24 24\"\n",
              "       width=\"24px\">\n",
              "    <path d=\"M0 0h24v24H0V0z\" fill=\"none\"/>\n",
              "    <path d=\"M18.56 5.44l.94 2.06.94-2.06 2.06-.94-2.06-.94-.94-2.06-.94 2.06-2.06.94zm-11 1L8.5 8.5l.94-2.06 2.06-.94-2.06-.94L8.5 2.5l-.94 2.06-2.06.94zm10 10l.94 2.06.94-2.06 2.06-.94-2.06-.94-.94-2.06-.94 2.06-2.06.94z\"/><path d=\"M17.41 7.96l-1.37-1.37c-.4-.4-.92-.59-1.43-.59-.52 0-1.04.2-1.43.59L10.3 9.45l-7.72 7.72c-.78.78-.78 2.05 0 2.83L4 21.41c.39.39.9.59 1.41.59.51 0 1.02-.2 1.41-.59l7.78-7.78 2.81-2.81c.8-.78.8-2.07 0-2.86zM5.41 20L4 18.59l7.72-7.72 1.47 1.35L5.41 20z\"/>\n",
              "  </svg>\n",
              "      </button>\n",
              "      \n",
              "  <style>\n",
              "    .colab-df-container {\n",
              "      display:flex;\n",
              "      flex-wrap:wrap;\n",
              "      gap: 12px;\n",
              "    }\n",
              "\n",
              "    .colab-df-convert {\n",
              "      background-color: #E8F0FE;\n",
              "      border: none;\n",
              "      border-radius: 50%;\n",
              "      cursor: pointer;\n",
              "      display: none;\n",
              "      fill: #1967D2;\n",
              "      height: 32px;\n",
              "      padding: 0 0 0 0;\n",
              "      width: 32px;\n",
              "    }\n",
              "\n",
              "    .colab-df-convert:hover {\n",
              "      background-color: #E2EBFA;\n",
              "      box-shadow: 0px 1px 2px rgba(60, 64, 67, 0.3), 0px 1px 3px 1px rgba(60, 64, 67, 0.15);\n",
              "      fill: #174EA6;\n",
              "    }\n",
              "\n",
              "    [theme=dark] .colab-df-convert {\n",
              "      background-color: #3B4455;\n",
              "      fill: #D2E3FC;\n",
              "    }\n",
              "\n",
              "    [theme=dark] .colab-df-convert:hover {\n",
              "      background-color: #434B5C;\n",
              "      box-shadow: 0px 1px 3px 1px rgba(0, 0, 0, 0.15);\n",
              "      filter: drop-shadow(0px 1px 2px rgba(0, 0, 0, 0.3));\n",
              "      fill: #FFFFFF;\n",
              "    }\n",
              "  </style>\n",
              "\n",
              "      <script>\n",
              "        const buttonEl =\n",
              "          document.querySelector('#df-28e3a3fe-20e8-490f-aa6c-494ee91ce426 button.colab-df-convert');\n",
              "        buttonEl.style.display =\n",
              "          google.colab.kernel.accessAllowed ? 'block' : 'none';\n",
              "\n",
              "        async function convertToInteractive(key) {\n",
              "          const element = document.querySelector('#df-28e3a3fe-20e8-490f-aa6c-494ee91ce426');\n",
              "          const dataTable =\n",
              "            await google.colab.kernel.invokeFunction('convertToInteractive',\n",
              "                                                     [key], {});\n",
              "          if (!dataTable) return;\n",
              "\n",
              "          const docLinkHtml = 'Like what you see? Visit the ' +\n",
              "            '<a target=\"_blank\" href=https://colab.research.google.com/notebooks/data_table.ipynb>data table notebook</a>'\n",
              "            + ' to learn more about interactive tables.';\n",
              "          element.innerHTML = '';\n",
              "          dataTable['output_type'] = 'display_data';\n",
              "          await google.colab.output.renderOutput(dataTable, element);\n",
              "          const docLink = document.createElement('div');\n",
              "          docLink.innerHTML = docLinkHtml;\n",
              "          element.appendChild(docLink);\n",
              "        }\n",
              "      </script>\n",
              "    </div>\n",
              "  </div>\n",
              "  "
            ],
            "text/plain": [
              "                  new_psa                  Attribute 1              clean_PSA  \\\n",
              "0  Bonjela,GEL, 24x12x15g  BONJELA  ADULT ORAL GEL 15G  bonjela gel 24x12x15g   \n",
              "\n",
              "                     clean_A1  \n",
              "0  bonjela adult oral gel 15g  "
            ]
          },
          "execution_count": 45,
          "metadata": {},
          "output_type": "execute_result"
        }
      ],
      "source": [
        "testing[\"clean_A1\"] = testing[\"Attribute 1\"].apply(lambda x: text_prepare(x))\n",
        "testing.head(1)"
      ]
    },
    {
      "cell_type": "code",
      "execution_count": null,
      "metadata": {
        "colab": {
          "background_save": true
        },
        "id": "IxEs5sRsqbJZ"
      },
      "outputs": [],
      "source": [
        "testing['compare'] = testing['clean_PSA'].apply(lambda x: process.extractOne(x, testing['clean_A1'].to_list()))"
      ]
    },
    {
      "cell_type": "code",
      "execution_count": 52,
      "metadata": {
        "id": "qN7S3GWovrA8",
        "colab": {
          "base_uri": "https://localhost:8080/",
          "height": 17
        },
        "outputId": "e3f90b45-c55b-4cd0-bb43-d47c3d8e7f01"
      },
      "outputs": [
        {
          "output_type": "display_data",
          "data": {
            "text/plain": [
              "<IPython.core.display.Javascript object>"
            ],
            "application/javascript": [
              "\n",
              "    async function download(id, filename, size) {\n",
              "      if (!google.colab.kernel.accessAllowed) {\n",
              "        return;\n",
              "      }\n",
              "      const div = document.createElement('div');\n",
              "      const label = document.createElement('label');\n",
              "      label.textContent = `Downloading \"${filename}\": `;\n",
              "      div.appendChild(label);\n",
              "      const progress = document.createElement('progress');\n",
              "      progress.max = size;\n",
              "      div.appendChild(progress);\n",
              "      document.body.appendChild(div);\n",
              "\n",
              "      const buffers = [];\n",
              "      let downloaded = 0;\n",
              "\n",
              "      const channel = await google.colab.kernel.comms.open(id);\n",
              "      // Send a message to notify the kernel that we're ready.\n",
              "      channel.send({})\n",
              "\n",
              "      for await (const message of channel.messages) {\n",
              "        // Send a message to notify the kernel that we're ready.\n",
              "        channel.send({})\n",
              "        if (message.buffers) {\n",
              "          for (const buffer of message.buffers) {\n",
              "            buffers.push(buffer);\n",
              "            downloaded += buffer.byteLength;\n",
              "            progress.value = downloaded;\n",
              "          }\n",
              "        }\n",
              "      }\n",
              "      const blob = new Blob(buffers, {type: 'application/binary'});\n",
              "      const a = document.createElement('a');\n",
              "      a.href = window.URL.createObjectURL(blob);\n",
              "      a.download = filename;\n",
              "      div.appendChild(a);\n",
              "      a.click();\n",
              "      div.remove();\n",
              "    }\n",
              "  "
            ]
          },
          "metadata": {}
        },
        {
          "output_type": "display_data",
          "data": {
            "text/plain": [
              "<IPython.core.display.Javascript object>"
            ],
            "application/javascript": [
              "download(\"download_efcf1bdc-1253-41aa-8798-de5173c62715\", \"output_1.csv\", 541572)"
            ]
          },
          "metadata": {}
        }
      ],
      "source": [
        "from google.colab import files\n",
        "\n",
        "testing.to_csv('output_1.csv', encoding = 'utf-8-sig') \n",
        "files.download('output_1.csv')"
      ]
    },
    {
      "cell_type": "code",
      "execution_count": null,
      "metadata": {
        "id": "B9_8NGfxmN0M"
      },
      "outputs": [],
      "source": [
        "import pandas as pd \n",
        "import spacy\n",
        "\n",
        "import en_core_web_sm\n",
        "nlp = en_core_web_sm.load() "
      ]
    },
    {
      "cell_type": "code",
      "execution_count": null,
      "metadata": {
        "colab": {
          "base_uri": "https://localhost:8080/",
          "height": 81
        },
        "id": "pWyc_QpXbgif",
        "outputId": "aa585ee0-4751-4125-c4d4-2e652334742f"
      },
      "outputs": [
        {
          "data": {
            "text/html": [
              "\n",
              "  <div id=\"df-19b9c316-5a05-4260-977f-fc987d85b60f\">\n",
              "    <div class=\"colab-df-container\">\n",
              "      <div>\n",
              "<style scoped>\n",
              "    .dataframe tbody tr th:only-of-type {\n",
              "        vertical-align: middle;\n",
              "    }\n",
              "\n",
              "    .dataframe tbody tr th {\n",
              "        vertical-align: top;\n",
              "    }\n",
              "\n",
              "    .dataframe thead th {\n",
              "        text-align: right;\n",
              "    }\n",
              "</style>\n",
              "<table border=\"1\" class=\"dataframe\">\n",
              "  <thead>\n",
              "    <tr style=\"text-align: right;\">\n",
              "      <th></th>\n",
              "      <th>Product SKU Description</th>\n",
              "      <th>Attribute 1</th>\n",
              "      <th>Brand Name</th>\n",
              "      <th>clean_PSA</th>\n",
              "      <th>clean_A1</th>\n",
              "    </tr>\n",
              "  </thead>\n",
              "  <tbody>\n",
              "    <tr>\n",
              "      <th>0</th>\n",
              "      <td>BONJE,ME,GEL, 24x12x15g</td>\n",
              "      <td>BONJELA  ADULT ORAL GEL 15G</td>\n",
              "      <td>Bonjela</td>\n",
              "      <td>bonje me gel 24x12x15g</td>\n",
              "      <td>bonjela adult oral gel 15g</td>\n",
              "    </tr>\n",
              "  </tbody>\n",
              "</table>\n",
              "</div>\n",
              "      <button class=\"colab-df-convert\" onclick=\"convertToInteractive('df-19b9c316-5a05-4260-977f-fc987d85b60f')\"\n",
              "              title=\"Convert this dataframe to an interactive table.\"\n",
              "              style=\"display:none;\">\n",
              "        \n",
              "  <svg xmlns=\"http://www.w3.org/2000/svg\" height=\"24px\"viewBox=\"0 0 24 24\"\n",
              "       width=\"24px\">\n",
              "    <path d=\"M0 0h24v24H0V0z\" fill=\"none\"/>\n",
              "    <path d=\"M18.56 5.44l.94 2.06.94-2.06 2.06-.94-2.06-.94-.94-2.06-.94 2.06-2.06.94zm-11 1L8.5 8.5l.94-2.06 2.06-.94-2.06-.94L8.5 2.5l-.94 2.06-2.06.94zm10 10l.94 2.06.94-2.06 2.06-.94-2.06-.94-.94-2.06-.94 2.06-2.06.94z\"/><path d=\"M17.41 7.96l-1.37-1.37c-.4-.4-.92-.59-1.43-.59-.52 0-1.04.2-1.43.59L10.3 9.45l-7.72 7.72c-.78.78-.78 2.05 0 2.83L4 21.41c.39.39.9.59 1.41.59.51 0 1.02-.2 1.41-.59l7.78-7.78 2.81-2.81c.8-.78.8-2.07 0-2.86zM5.41 20L4 18.59l7.72-7.72 1.47 1.35L5.41 20z\"/>\n",
              "  </svg>\n",
              "      </button>\n",
              "      \n",
              "  <style>\n",
              "    .colab-df-container {\n",
              "      display:flex;\n",
              "      flex-wrap:wrap;\n",
              "      gap: 12px;\n",
              "    }\n",
              "\n",
              "    .colab-df-convert {\n",
              "      background-color: #E8F0FE;\n",
              "      border: none;\n",
              "      border-radius: 50%;\n",
              "      cursor: pointer;\n",
              "      display: none;\n",
              "      fill: #1967D2;\n",
              "      height: 32px;\n",
              "      padding: 0 0 0 0;\n",
              "      width: 32px;\n",
              "    }\n",
              "\n",
              "    .colab-df-convert:hover {\n",
              "      background-color: #E2EBFA;\n",
              "      box-shadow: 0px 1px 2px rgba(60, 64, 67, 0.3), 0px 1px 3px 1px rgba(60, 64, 67, 0.15);\n",
              "      fill: #174EA6;\n",
              "    }\n",
              "\n",
              "    [theme=dark] .colab-df-convert {\n",
              "      background-color: #3B4455;\n",
              "      fill: #D2E3FC;\n",
              "    }\n",
              "\n",
              "    [theme=dark] .colab-df-convert:hover {\n",
              "      background-color: #434B5C;\n",
              "      box-shadow: 0px 1px 3px 1px rgba(0, 0, 0, 0.15);\n",
              "      filter: drop-shadow(0px 1px 2px rgba(0, 0, 0, 0.3));\n",
              "      fill: #FFFFFF;\n",
              "    }\n",
              "  </style>\n",
              "\n",
              "      <script>\n",
              "        const buttonEl =\n",
              "          document.querySelector('#df-19b9c316-5a05-4260-977f-fc987d85b60f button.colab-df-convert');\n",
              "        buttonEl.style.display =\n",
              "          google.colab.kernel.accessAllowed ? 'block' : 'none';\n",
              "\n",
              "        async function convertToInteractive(key) {\n",
              "          const element = document.querySelector('#df-19b9c316-5a05-4260-977f-fc987d85b60f');\n",
              "          const dataTable =\n",
              "            await google.colab.kernel.invokeFunction('convertToInteractive',\n",
              "                                                     [key], {});\n",
              "          if (!dataTable) return;\n",
              "\n",
              "          const docLinkHtml = 'Like what you see? Visit the ' +\n",
              "            '<a target=\"_blank\" href=https://colab.research.google.com/notebooks/data_table.ipynb>data table notebook</a>'\n",
              "            + ' to learn more about interactive tables.';\n",
              "          element.innerHTML = '';\n",
              "          dataTable['output_type'] = 'display_data';\n",
              "          await google.colab.output.renderOutput(dataTable, element);\n",
              "          const docLink = document.createElement('div');\n",
              "          docLink.innerHTML = docLinkHtml;\n",
              "          element.appendChild(docLink);\n",
              "        }\n",
              "      </script>\n",
              "    </div>\n",
              "  </div>\n",
              "  "
            ],
            "text/plain": [
              "   Product SKU Description                  Attribute 1 Brand Name  \\\n",
              "0  BONJE,ME,GEL, 24x12x15g  BONJELA  ADULT ORAL GEL 15G    Bonjela   \n",
              "\n",
              "                clean_PSA                    clean_A1  \n",
              "0  bonje me gel 24x12x15g  bonjela adult oral gel 15g  "
            ]
          },
          "execution_count": 23,
          "metadata": {},
          "output_type": "execute_result"
        }
      ],
      "source": [
        "testing.head(1)"
      ]
    },
    {
      "cell_type": "code",
      "execution_count": null,
      "metadata": {
        "colab": {
          "base_uri": "https://localhost:8080/"
        },
        "id": "FnVDJvw0Fw3X",
        "outputId": "2b51a08d-c7c3-4d32-fbb4-a79935469320"
      },
      "outputs": [
        {
          "name": "stdout",
          "output_type": "stream",
          "text": [
            "     Product SKU Description                            Attribute 1\n",
            "0    BONJE,ME,GEL, 24x12x15g            BONJELA  ADULT ORAL GEL 15G\n",
            "1    BONJE,ME,GEL, 24x12x15g                          Not Available\n",
            "2   CLRSL,ME,ULTRA SCRUB 150   ###CLEARASIL ULTRA DPT SCRUB 6X150ML\n",
            "3  CLRSL,ME,CREAM WASH 150ML  ###CLEARASIL ULTRA FACE WASH 6X150 ML\n",
            "4  CLRSL,ME,LTN SENS 6X200ML    ###CLEARASIL OIL FREE TONER 6X200ML\n",
            "           Product SKU Description                             Attribute 1\n",
            "0          BONJE,ME,GEL, 24x12x15g             BONJELA  ADULT ORAL GEL 15G\n",
            "1          BONJE,ME,GEL, 24x12x15g                           Not Available\n",
            "2         CLRSL,ME,ULTRA SCRUB 150    ###CLEARASIL ULTRA DPT SCRUB 6X150ML\n",
            "3        CLRSL,ME,CREAM WASH 150ML   ###CLEARASIL ULTRA FACE WASH 6X150 ML\n",
            "4        CLRSL,ME,LTN SENS 6X200ML     ###CLEARASIL OIL FREE TONER 6X200ML\n",
            "...                            ...                                     ...\n",
            "3255    VEET,ME,12X100ML SENSITIVE             VEET CRM SENS SKIN 100ML NP\n",
            "3256    VEET,ME,12X100ML SENSITIVE                           Not Available\n",
            "3257  VEET,ME,CWS LEGS BLOSSOM X18  ###VEET COLDWAX STRIPS SUPREME 12X18'S\n",
            "3258      WOODW,ME,WWGW,2X12X150ML                           Not Available\n",
            "3259      WOODW,ME,WWGW,2X12X150ML                           Not Available\n",
            "\n",
            "[3260 rows x 2 columns]\n"
          ]
        }
      ],
      "source": [
        "testing= df[['Product SKU Description','Attribute 1']]\n",
        "\n",
        "print(testing.head())\n",
        "\n",
        "#NAs dropped\n",
        "df1 = testing.dropna()\n",
        "print(df1)"
      ]
    },
    {
      "cell_type": "code",
      "execution_count": null,
      "metadata": {
        "colab": {
          "base_uri": "https://localhost:8080/"
        },
        "id": "1L5_7Dc0o2Im",
        "outputId": "b63a7334-34ab-49d0-eb40-d0433e63f517"
      },
      "outputs": [
        {
          "name": "stdout",
          "output_type": "stream",
          "text": [
            "Number of unique values in Product SKU Description: 1018\n",
            "Number of unique values in Attribute 1: 1884\n"
          ]
        }
      ],
      "source": [
        "for col in df1[['Product SKU Description','Attribute 1']]:\n",
        "    df1[col] = df1[col].str.strip()\n",
        "    print('Number of unique values in ' + str(col) +': ' + str(df1[col].nunique()))"
      ]
    },
    {
      "cell_type": "code",
      "execution_count": null,
      "metadata": {
        "id": "e8sR3jfErbbY"
      },
      "outputs": [],
      "source": [
        "size_list = df['Attribute 1'].str.extract(\"((\\d+\\.?\\d? ?ML)|(\\d+\\.?\\d? ?L)|(\\d+\\.?\\d? ?KG)|(\\d+\\.?\\d? ?G)|(\\d+\\.?\\d? ?M)|(\\d+\\.?\\d? ?K))\")\n",
        "df1['Size'] = size_list[0]"
      ]
    },
    {
      "cell_type": "code",
      "execution_count": null,
      "metadata": {
        "colab": {
          "base_uri": "https://localhost:8080/"
        },
        "id": "9ulnv79vsNtf",
        "outputId": "5811b942-4e10-4980-e03e-31e4f558a600"
      },
      "outputs": [
        {
          "data": {
            "text/plain": [
              "0       15G\n",
              "1       NaN\n",
              "2     150ML\n",
              "3    150 ML\n",
              "4     200ML\n",
              "5     150ML\n",
              "6     150ML\n",
              "7     150ML\n",
              "8       NaN\n",
              "9       NaN\n",
              "Name: Size, dtype: object"
            ]
          },
          "execution_count": 12,
          "metadata": {},
          "output_type": "execute_result"
        }
      ],
      "source": [
        "df1['Size'].head(10)"
      ]
    },
    {
      "cell_type": "code",
      "execution_count": null,
      "metadata": {
        "id": "p6eOSWyA9liZ"
      },
      "outputs": [],
      "source": [
        "import pandas as pd\n",
        "import re\n",
        "\n",
        "# Function to extract the first words from each string\n",
        "def extractFirstWord(str):\n",
        "    listOfWords = re.findall(\"'([^']*)'\", str)\n",
        "    return [i.split()[0] for i in listOfWords]\n",
        "\n",
        "\n",
        "df1['Brands_A1'] = df1['A1'].apply(lambda x: extractFirstWord(x))"
      ]
    },
    {
      "cell_type": "code",
      "execution_count": null,
      "metadata": {
        "colab": {
          "base_uri": "https://localhost:8080/"
        },
        "id": "1Ouj_4hixsxD",
        "outputId": "9acc84d8-4757-49f3-8c97-79cd1d45a2bb"
      },
      "outputs": [
        {
          "data": {
            "text/plain": [
              "0      bonje me gel  24x12x15g\n",
              "1      bonje me gel  24x12x15g\n",
              "2     clrsl me ultra scrub 150\n",
              "3    clrsl me cream wash 150ml\n",
              "4    clrsl me ltn sens 6x200ml\n",
              "Name: PSD, dtype: object"
            ]
          },
          "execution_count": 67,
          "metadata": {},
          "output_type": "execute_result"
        }
      ],
      "source": [
        "df1['PSD'].head()"
      ]
    },
    {
      "cell_type": "code",
      "execution_count": null,
      "metadata": {
        "colab": {
          "base_uri": "https://localhost:8080/"
        },
        "id": "Eu_dllYb2JxO",
        "outputId": "501bd848-0779-4599-9827-5cf1cd17f4c3"
      },
      "outputs": [
        {
          "data": {
            "text/plain": [
              "0            bonjela  adult oral gel 15g\n",
              "1                          not available\n",
              "2      clearasil ultra dpt scrub 6x150ml\n",
              "3     clearasil ultra face wash 6x150 ml\n",
              "4       clearasil oil free toner 6x200ml\n",
              "Name: A1, dtype: object"
            ]
          },
          "execution_count": 68,
          "metadata": {},
          "output_type": "execute_result"
        }
      ],
      "source": [
        "df1['A1'].head()"
      ]
    },
    {
      "cell_type": "code",
      "execution_count": null,
      "metadata": {
        "id": "og1X2Rmo_7LI"
      },
      "outputs": [],
      "source": [
        "#Lowercase\n",
        "df1['PSD']= df1['PSD'].apply(lambda x: x.lower())\n",
        "df1['A1']= df1['A1'].apply(lambda x: x.lower())"
      ]
    },
    {
      "cell_type": "code",
      "execution_count": null,
      "metadata": {
        "colab": {
          "base_uri": "https://localhost:8080/"
        },
        "id": "nUxkXdHmzJUa",
        "outputId": "3b48620c-877c-4908-c9cb-3695345dcd5b"
      },
      "outputs": [
        {
          "name": "stdout",
          "output_type": "stream",
          "text": [
            "[nltk_data] Downloading package punkt to /root/nltk_data...\n",
            "[nltk_data]   Package punkt is already up-to-date!\n",
            "[nltk_data] Downloading package averaged_perceptron_tagger to\n",
            "[nltk_data]     /root/nltk_data...\n",
            "[nltk_data]   Package averaged_perceptron_tagger is already up-to-\n",
            "[nltk_data]       date!\n"
          ]
        },
        {
          "data": {
            "text/plain": [
              "True"
            ]
          },
          "execution_count": 19,
          "metadata": {},
          "output_type": "execute_result"
        }
      ],
      "source": [
        "from nltk.tokenize import word_tokenize\n",
        "import nltk\n",
        "nltk.download('punkt')\n",
        "\n",
        "import nltk\n",
        "nltk.download('averaged_perceptron_tagger')"
      ]
    },
    {
      "cell_type": "code",
      "execution_count": null,
      "metadata": {
        "id": "MQS3dpguz69n"
      },
      "outputs": [],
      "source": [
        "df1['PSD_tokenized'] = df1['PSD'].apply(word_tokenize)"
      ]
    },
    {
      "cell_type": "code",
      "execution_count": null,
      "metadata": {
        "colab": {
          "base_uri": "https://localhost:8080/"
        },
        "id": "Pgy877sr05UA",
        "outputId": "a60405d6-f368-4949-d927-60f455322535"
      },
      "outputs": [
        {
          "data": {
            "text/plain": [
              "0        [BONJE, ME, GEL, 24x12x15g]\n",
              "1        [BONJE, ME, GEL, 24x12x15g]\n",
              "2     [CLRSL, ME, ULTRA, SCRUB, 150]\n",
              "3    [CLRSL, ME, CREAM, WASH, 150ML]\n",
              "4    [CLRSL, ME, LTN, SENS, 6X200ML]\n",
              "Name: PSD_tokenized, dtype: object"
            ]
          },
          "execution_count": 39,
          "metadata": {},
          "output_type": "execute_result"
        }
      ],
      "source": [
        "df1['PSD_tokenized'].head(5)"
      ]
    },
    {
      "cell_type": "code",
      "execution_count": null,
      "metadata": {
        "id": "ksy2PIlX5M9V"
      },
      "outputs": [],
      "source": [
        "df1 = df1.dropna()"
      ]
    },
    {
      "cell_type": "code",
      "execution_count": null,
      "metadata": {
        "id": "aiwWnl5x1bFR"
      },
      "outputs": [],
      "source": [
        "df2= df1[df1['A1'].str.contains(\"dettol\")]"
      ]
    },
    {
      "cell_type": "code",
      "execution_count": null,
      "metadata": {
        "colab": {
          "base_uri": "https://localhost:8080/",
          "height": 206
        },
        "id": "qqe5KAv85VfE",
        "outputId": "aedf31e0-dd3e-4043-9605-02cbc15ee869"
      },
      "outputs": [
        {
          "data": {
            "text/html": [
              "\n",
              "  <div id=\"df-11266490-c5d1-49c7-8683-e200d2a6d1f8\">\n",
              "    <div class=\"colab-df-container\">\n",
              "      <div>\n",
              "<style scoped>\n",
              "    .dataframe tbody tr th:only-of-type {\n",
              "        vertical-align: middle;\n",
              "    }\n",
              "\n",
              "    .dataframe tbody tr th {\n",
              "        vertical-align: top;\n",
              "    }\n",
              "\n",
              "    .dataframe thead th {\n",
              "        text-align: right;\n",
              "    }\n",
              "</style>\n",
              "<table border=\"1\" class=\"dataframe\">\n",
              "  <thead>\n",
              "    <tr style=\"text-align: right;\">\n",
              "      <th></th>\n",
              "      <th>Product SKU Description</th>\n",
              "      <th>Attribute 1</th>\n",
              "      <th>Size</th>\n",
              "      <th>PSD</th>\n",
              "      <th>A1</th>\n",
              "      <th>Brands_A1</th>\n",
              "    </tr>\n",
              "  </thead>\n",
              "  <tbody>\n",
              "    <tr>\n",
              "      <th>10</th>\n",
              "      <td>DETOL,ME,SOAP,REFRSHNG 72X120G</td>\n",
              "      <td>###DETTOL REFRESHING SOAP 120G</td>\n",
              "      <td>120G</td>\n",
              "      <td>detol me soap refrshng 72x120g</td>\n",
              "      <td>dettol refreshing soap 120g</td>\n",
              "      <td>[]</td>\n",
              "    </tr>\n",
              "    <tr>\n",
              "      <th>12</th>\n",
              "      <td>DETOL,AE,MPC,6X500ML TRIG MSKT</td>\n",
              "      <td>DETTOL A/B  SURFACE CLEANER 6X500 ML</td>\n",
              "      <td>500 ML</td>\n",
              "      <td>detol ae mpc 6x500ml trig mskt</td>\n",
              "      <td>dettol a/b  surface cleaner 6x500 ml</td>\n",
              "      <td>[]</td>\n",
              "    </tr>\n",
              "    <tr>\n",
              "      <th>13</th>\n",
              "      <td>DETOL,AE,MPC,6X500ML TRIG MSKT</td>\n",
              "      <td>DETTOL A/B  SURFACE CLEANER 6X500 ML</td>\n",
              "      <td>500 ML</td>\n",
              "      <td>detol ae mpc 6x500ml trig mskt</td>\n",
              "      <td>dettol a/b  surface cleaner 6x500 ml</td>\n",
              "      <td>[]</td>\n",
              "    </tr>\n",
              "    <tr>\n",
              "      <th>17</th>\n",
              "      <td>DETOL,BH,Aqua DIL 5X750ml</td>\n",
              "      <td>###DETTOL POWER &amp; PURE AQUA 5X500ML</td>\n",
              "      <td>500ML</td>\n",
              "      <td>detol bh aqua dil 5x750ml</td>\n",
              "      <td>dettol power &amp; pure aqua 5x500ml</td>\n",
              "      <td>[]</td>\n",
              "    </tr>\n",
              "    <tr>\n",
              "      <th>18</th>\n",
              "      <td>DETOL,BH,Aqua DIL 5X750ml</td>\n",
              "      <td>###DETTOL POWER &amp; PURE AQUA 5X500ML</td>\n",
              "      <td>500ML</td>\n",
              "      <td>detol bh aqua dil 5x750ml</td>\n",
              "      <td>dettol power &amp; pure aqua 5x500ml</td>\n",
              "      <td>[]</td>\n",
              "    </tr>\n",
              "  </tbody>\n",
              "</table>\n",
              "</div>\n",
              "      <button class=\"colab-df-convert\" onclick=\"convertToInteractive('df-11266490-c5d1-49c7-8683-e200d2a6d1f8')\"\n",
              "              title=\"Convert this dataframe to an interactive table.\"\n",
              "              style=\"display:none;\">\n",
              "        \n",
              "  <svg xmlns=\"http://www.w3.org/2000/svg\" height=\"24px\"viewBox=\"0 0 24 24\"\n",
              "       width=\"24px\">\n",
              "    <path d=\"M0 0h24v24H0V0z\" fill=\"none\"/>\n",
              "    <path d=\"M18.56 5.44l.94 2.06.94-2.06 2.06-.94-2.06-.94-.94-2.06-.94 2.06-2.06.94zm-11 1L8.5 8.5l.94-2.06 2.06-.94-2.06-.94L8.5 2.5l-.94 2.06-2.06.94zm10 10l.94 2.06.94-2.06 2.06-.94-2.06-.94-.94-2.06-.94 2.06-2.06.94z\"/><path d=\"M17.41 7.96l-1.37-1.37c-.4-.4-.92-.59-1.43-.59-.52 0-1.04.2-1.43.59L10.3 9.45l-7.72 7.72c-.78.78-.78 2.05 0 2.83L4 21.41c.39.39.9.59 1.41.59.51 0 1.02-.2 1.41-.59l7.78-7.78 2.81-2.81c.8-.78.8-2.07 0-2.86zM5.41 20L4 18.59l7.72-7.72 1.47 1.35L5.41 20z\"/>\n",
              "  </svg>\n",
              "      </button>\n",
              "      \n",
              "  <style>\n",
              "    .colab-df-container {\n",
              "      display:flex;\n",
              "      flex-wrap:wrap;\n",
              "      gap: 12px;\n",
              "    }\n",
              "\n",
              "    .colab-df-convert {\n",
              "      background-color: #E8F0FE;\n",
              "      border: none;\n",
              "      border-radius: 50%;\n",
              "      cursor: pointer;\n",
              "      display: none;\n",
              "      fill: #1967D2;\n",
              "      height: 32px;\n",
              "      padding: 0 0 0 0;\n",
              "      width: 32px;\n",
              "    }\n",
              "\n",
              "    .colab-df-convert:hover {\n",
              "      background-color: #E2EBFA;\n",
              "      box-shadow: 0px 1px 2px rgba(60, 64, 67, 0.3), 0px 1px 3px 1px rgba(60, 64, 67, 0.15);\n",
              "      fill: #174EA6;\n",
              "    }\n",
              "\n",
              "    [theme=dark] .colab-df-convert {\n",
              "      background-color: #3B4455;\n",
              "      fill: #D2E3FC;\n",
              "    }\n",
              "\n",
              "    [theme=dark] .colab-df-convert:hover {\n",
              "      background-color: #434B5C;\n",
              "      box-shadow: 0px 1px 3px 1px rgba(0, 0, 0, 0.15);\n",
              "      filter: drop-shadow(0px 1px 2px rgba(0, 0, 0, 0.3));\n",
              "      fill: #FFFFFF;\n",
              "    }\n",
              "  </style>\n",
              "\n",
              "      <script>\n",
              "        const buttonEl =\n",
              "          document.querySelector('#df-11266490-c5d1-49c7-8683-e200d2a6d1f8 button.colab-df-convert');\n",
              "        buttonEl.style.display =\n",
              "          google.colab.kernel.accessAllowed ? 'block' : 'none';\n",
              "\n",
              "        async function convertToInteractive(key) {\n",
              "          const element = document.querySelector('#df-11266490-c5d1-49c7-8683-e200d2a6d1f8');\n",
              "          const dataTable =\n",
              "            await google.colab.kernel.invokeFunction('convertToInteractive',\n",
              "                                                     [key], {});\n",
              "          if (!dataTable) return;\n",
              "\n",
              "          const docLinkHtml = 'Like what you see? Visit the ' +\n",
              "            '<a target=\"_blank\" href=https://colab.research.google.com/notebooks/data_table.ipynb>data table notebook</a>'\n",
              "            + ' to learn more about interactive tables.';\n",
              "          element.innerHTML = '';\n",
              "          dataTable['output_type'] = 'display_data';\n",
              "          await google.colab.output.renderOutput(dataTable, element);\n",
              "          const docLink = document.createElement('div');\n",
              "          docLink.innerHTML = docLinkHtml;\n",
              "          element.appendChild(docLink);\n",
              "        }\n",
              "      </script>\n",
              "    </div>\n",
              "  </div>\n",
              "  "
            ],
            "text/plain": [
              "           Product SKU Description                           Attribute 1  \\\n",
              "10  DETOL,ME,SOAP,REFRSHNG 72X120G        ###DETTOL REFRESHING SOAP 120G   \n",
              "12  DETOL,AE,MPC,6X500ML TRIG MSKT  DETTOL A/B  SURFACE CLEANER 6X500 ML   \n",
              "13  DETOL,AE,MPC,6X500ML TRIG MSKT  DETTOL A/B  SURFACE CLEANER 6X500 ML   \n",
              "17       DETOL,BH,Aqua DIL 5X750ml   ###DETTOL POWER & PURE AQUA 5X500ML   \n",
              "18       DETOL,BH,Aqua DIL 5X750ml   ###DETTOL POWER & PURE AQUA 5X500ML   \n",
              "\n",
              "      Size                             PSD  \\\n",
              "10    120G  detol me soap refrshng 72x120g   \n",
              "12  500 ML  detol ae mpc 6x500ml trig mskt   \n",
              "13  500 ML  detol ae mpc 6x500ml trig mskt   \n",
              "17   500ML       detol bh aqua dil 5x750ml   \n",
              "18   500ML       detol bh aqua dil 5x750ml   \n",
              "\n",
              "                                      A1 Brands_A1  \n",
              "10           dettol refreshing soap 120g        []  \n",
              "12  dettol a/b  surface cleaner 6x500 ml        []  \n",
              "13  dettol a/b  surface cleaner 6x500 ml        []  \n",
              "17      dettol power & pure aqua 5x500ml        []  \n",
              "18      dettol power & pure aqua 5x500ml        []  "
            ]
          },
          "execution_count": 71,
          "metadata": {},
          "output_type": "execute_result"
        }
      ],
      "source": [
        "df2.head(5)"
      ]
    },
    {
      "cell_type": "code",
      "execution_count": null,
      "metadata": {
        "colab": {
          "base_uri": "https://localhost:8080/"
        },
        "id": "jdHyWtyY2s82",
        "outputId": "edd6fdd5-17d7-4b66-b810-5916187af015"
      },
      "outputs": [
        {
          "data": {
            "text/plain": [
              "0       BONJE,ME15G\n",
              "1               NaN\n",
              "2     CLRSL,ME150ML\n",
              "3    CLRSL,ME150 ML\n",
              "4     CLRSL,ME200ML\n",
              "Name: PSD_Final, dtype: object"
            ]
          },
          "execution_count": 66,
          "metadata": {},
          "output_type": "execute_result"
        }
      ],
      "source": [
        "df1[\"PSD_Final\"] = df1[\"Brands_PSD\"] + df1[\"Size\"]\n",
        "df1[\"PSD_Final\"].head()"
      ]
    },
    {
      "cell_type": "code",
      "execution_count": null,
      "metadata": {
        "colab": {
          "base_uri": "https://localhost:8080/"
        },
        "id": "RRVny3Uf4MnY",
        "outputId": "1859f785-0a8c-4829-98e3-35f858a1c49d"
      },
      "outputs": [
        {
          "data": {
            "text/plain": [
              "0       BONJELA  A15G\n",
              "1                 NaN\n",
              "2      CLEARASIL150ML\n",
              "3     CLEARASIL150 ML\n",
              "4      CLEARASIL200ML\n",
              "Name: A1_Final, dtype: object"
            ]
          },
          "execution_count": 67,
          "metadata": {},
          "output_type": "execute_result"
        }
      ],
      "source": [
        "df1[\"A1_Final\"] = df1[\"Brands_A1\"] + df1[\"Size\"]\n",
        "df1[\"A1_Final\"].head()"
      ]
    },
    {
      "cell_type": "code",
      "execution_count": null,
      "metadata": {
        "colab": {
          "base_uri": "https://localhost:8080/"
        },
        "id": "EL44XY5F5Lfx",
        "outputId": "a4d04c4e-261e-48df-cd5b-be2c0fb869de"
      },
      "outputs": [
        {
          "name": "stdout",
          "output_type": "stream",
          "text": [
            "<class 'pandas.core.frame.DataFrame'>\n",
            "Int64Index: 1785 entries, 0 to 3255\n",
            "Data columns (total 10 columns):\n",
            " #   Column                   Non-Null Count  Dtype \n",
            "---  ------                   --------------  ----- \n",
            " 0   Product SKU Description  1785 non-null   object\n",
            " 1   Attribute 1              1785 non-null   object\n",
            " 2   Size                     1785 non-null   object\n",
            " 3   PSD                      1785 non-null   object\n",
            " 4   A1                       1785 non-null   object\n",
            " 5   Brands                   1785 non-null   object\n",
            " 6   Brands_A1                1785 non-null   object\n",
            " 7   Brands_PSD               1785 non-null   object\n",
            " 8   PSD_Final                1785 non-null   object\n",
            " 9   A1_Final                 1785 non-null   object\n",
            "dtypes: object(10)\n",
            "memory usage: 153.4+ KB\n"
          ]
        }
      ],
      "source": [
        "df1.info()"
      ]
    },
    {
      "cell_type": "code",
      "execution_count": null,
      "metadata": {
        "id": "BVLTlz9A4qio"
      },
      "outputs": [],
      "source": [
        "df1 = df1.dropna()"
      ]
    },
    {
      "cell_type": "code",
      "execution_count": null,
      "metadata": {
        "id": "20zVyIl-sTyy"
      },
      "outputs": [],
      "source": [
        "df1['compare'] = df1['A1_Final'].apply(lambda x: process.extractOne(x, df1['PSD_Final'].to_list()))"
      ]
    },
    {
      "cell_type": "code",
      "execution_count": null,
      "metadata": {
        "id": "GkTnzo1HG-Mb"
      },
      "outputs": [],
      "source": [
        "df2['compare'] = df2['Brands_A1'].apply(lambda x: process.extractOne(x, df2['Brands_PSD'].to_list()))"
      ]
    },
    {
      "cell_type": "code",
      "execution_count": null,
      "metadata": {
        "colab": {
          "base_uri": "https://localhost:8080/"
        },
        "id": "YOGx-onw8Rm-",
        "outputId": "2676ba4d-6dcf-44b3-ccaa-50cd50deface"
      },
      "outputs": [
        {
          "data": {
            "text/plain": [
              "0          (BONJE,ME15G, 75)\n",
              "2        (CLRSL,ME150ML, 59)\n",
              "3       (CLRSL,ME150 ML, 62)\n",
              "4        (CLRSL,ME200ML, 59)\n",
              "5        (CLRSL,ME150ML, 59)\n",
              "                ...         \n",
              "3240      (VEET,AE,100G, 92)\n",
              "3245     (VEET,IR,100ML, 86)\n",
              "3248     (VEET,IR,100ML, 86)\n",
              "3249     (VEET,IR,100ML, 86)\n",
              "3255     (VEET,IR,100ML, 86)\n",
              "Name: compare, Length: 1785, dtype: object"
            ]
          },
          "execution_count": 73,
          "metadata": {},
          "output_type": "execute_result"
        }
      ],
      "source": [
        "df1['compare']"
      ]
    },
    {
      "cell_type": "code",
      "execution_count": null,
      "metadata": {
        "colab": {
          "base_uri": "https://localhost:8080/",
          "height": 17
        },
        "id": "ULI3ryji8bO9",
        "outputId": "3fcc2c8f-217a-47a3-9d7f-6cbc02936b49"
      },
      "outputs": [
        {
          "data": {
            "application/javascript": [
              "\n",
              "    async function download(id, filename, size) {\n",
              "      if (!google.colab.kernel.accessAllowed) {\n",
              "        return;\n",
              "      }\n",
              "      const div = document.createElement('div');\n",
              "      const label = document.createElement('label');\n",
              "      label.textContent = `Downloading \"${filename}\": `;\n",
              "      div.appendChild(label);\n",
              "      const progress = document.createElement('progress');\n",
              "      progress.max = size;\n",
              "      div.appendChild(progress);\n",
              "      document.body.appendChild(div);\n",
              "\n",
              "      const buffers = [];\n",
              "      let downloaded = 0;\n",
              "\n",
              "      const channel = await google.colab.kernel.comms.open(id);\n",
              "      // Send a message to notify the kernel that we're ready.\n",
              "      channel.send({})\n",
              "\n",
              "      for await (const message of channel.messages) {\n",
              "        // Send a message to notify the kernel that we're ready.\n",
              "        channel.send({})\n",
              "        if (message.buffers) {\n",
              "          for (const buffer of message.buffers) {\n",
              "            buffers.push(buffer);\n",
              "            downloaded += buffer.byteLength;\n",
              "            progress.value = downloaded;\n",
              "          }\n",
              "        }\n",
              "      }\n",
              "      const blob = new Blob(buffers, {type: 'application/binary'});\n",
              "      const a = document.createElement('a');\n",
              "      a.href = window.URL.createObjectURL(blob);\n",
              "      a.download = filename;\n",
              "      div.appendChild(a);\n",
              "      a.click();\n",
              "      div.remove();\n",
              "    }\n",
              "  "
            ],
            "text/plain": [
              "<IPython.core.display.Javascript object>"
            ]
          },
          "metadata": {},
          "output_type": "display_data"
        },
        {
          "data": {
            "application/javascript": [
              "download(\"download_ff815bc6-b6ec-4767-95db-1fc548a6340f\", \"output2.csv\", 183471)"
            ],
            "text/plain": [
              "<IPython.core.display.Javascript object>"
            ]
          },
          "metadata": {},
          "output_type": "display_data"
        }
      ],
      "source": [
        "from google.colab import files\n",
        "\n",
        "df2.to_csv('output2.csv', encoding = 'utf-8-sig') \n",
        "files.download('output2.csv')"
      ]
    },
    {
      "cell_type": "code",
      "execution_count": null,
      "metadata": {
        "id": "l0yvV3ha9CEr"
      },
      "outputs": [],
      "source": [
        ""
      ]
    }
  ],
  "metadata": {
    "colab": {
      "name": "RB_Data Cleaning.ipynb",
      "provenance": [],
      "authorship_tag": "ABX9TyMTDdBZeiHBx0l7jyRogUPh",
      "include_colab_link": true
    },
    "kernelspec": {
      "display_name": "Python 3",
      "name": "python3"
    },
    "language_info": {
      "name": "python"
    }
  },
  "nbformat": 4,
  "nbformat_minor": 0
}